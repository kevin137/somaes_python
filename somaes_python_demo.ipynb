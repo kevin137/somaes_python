{
 "cells": [
  {
   "cell_type": "markdown",
   "metadata": {},
   "source": [
    "# Proyecto Final - Python - Software matemático y estadístico\n",
    "\n",
    "*Kevin Cook, 2024-11-03*"
   ]
  },
  {
   "cell_type": "markdown",
   "metadata": {},
   "source": [
    "## Introduction\n",
    "\n",
    "Python es el lenguaje de programación que utilizo más habitualmente para \n",
    "proyectos en mi vida profesional y personal. Hasta hace unos años, nunca lo \n",
    "había utilizado en un entorno de data science o machine learning. Entonces, a \n",
    "partir de unos cursos online, conocí la pila Numpy/Pandas/Jupyer, y ahora en \n",
    "el programa KISA, lo utilizamos para la mayoría de nuestros proyectos. Este \n",
    "notebook es el documento principal que demuestra mi implementación de las \n",
    "funciones requeridas en Python.\n",
    "\n",
    "Mi approach para este curso fue desarrollar las implementaciones de las \n",
    "funciones Python y R simultáneamente, o casi. Sentí que esto me permitía \n",
    "enterarme de los puntos fuertes y débiles de cada plataforma, y decidir cuál \n",
    "preferiría utilizar en futuros proyectos en los que tuviera flexibilidad para \n",
    "hacerlo. Las implementaciones de han resultado ser muy similares, con la \n",
    "excepción de un uso intensivo de tuples en Python (que no existen en R), y el \n",
    "tipo de datos categorical explícito en R, que he intentado incluir siempre que \n",
    "he podido. Nótese que he tomado la decisión de diseño de considerar siempre \n",
    "variables integers como datos categoricos (en ambas implementaciones) en \n",
    "cualquier contexto en el que pudieran ser interpretarse como tales. Mi \n",
    "razonamiento para esto fue que las variables integer pueden se pueden \n",
    "convertir en floats si no quiero que sean categóricas."
   ]
  },
  {
   "cell_type": "markdown",
   "metadata": {},
   "source": [
    "### Libraries and global options"
   ]
  },
  {
   "cell_type": "code",
   "execution_count": 1,
   "metadata": {},
   "outputs": [],
   "source": [
    "import somaes_python as sp\n",
    "import numpy as np\n",
    "import pandas as pd\n",
    "from IPython.display import display, Markdown"
   ]
  },
  {
   "cell_type": "markdown",
   "metadata": {},
   "source": [
    "## Functions to be implemented\n",
    "\n",
    "### Discretization algorithms\n",
    "\n",
    "*Algoritmos de discretización para un solo atributo y para un dataset completo (ambas opciones): Igual frecuencia e igual anchura*"
   ]
  },
  {
   "cell_type": "code",
   "execution_count": 2,
   "metadata": {},
   "outputs": [
    {
     "data": {
      "text/markdown": [
       "#### Testing discretizeEW() with example vector from P03 exercises"
      ],
      "text/plain": [
       "<IPython.core.display.Markdown object>"
      ]
     },
     "metadata": {},
     "output_type": "display_data"
    },
    {
     "ename": "AttributeError",
     "evalue": "module 'somaes_python' has no attribute 'p03_disc_values'",
     "output_type": "error",
     "traceback": [
      "\u001b[0;31m---------------------------------------------------------------------------\u001b[0m",
      "\u001b[0;31mAttributeError\u001b[0m                            Traceback (most recent call last)",
      "Cell \u001b[0;32mIn[2], line 3\u001b[0m\n\u001b[1;32m      1\u001b[0m test \u001b[38;5;241m=\u001b[39m \u001b[38;5;124m'\u001b[39m\u001b[38;5;124mexample vector from P03 exercises\u001b[39m\u001b[38;5;124m'\u001b[39m; fcn \u001b[38;5;241m=\u001b[39m \u001b[38;5;124m'\u001b[39m\u001b[38;5;124mdiscretizeEW\u001b[39m\u001b[38;5;124m'\u001b[39m; \n\u001b[1;32m      2\u001b[0m display(Markdown(\u001b[38;5;124mf\u001b[39m\u001b[38;5;124m\"\u001b[39m\u001b[38;5;124m#### Testing \u001b[39m\u001b[38;5;132;01m{\u001b[39;00mfcn\u001b[38;5;132;01m}\u001b[39;00m\u001b[38;5;124m() with \u001b[39m\u001b[38;5;132;01m{\u001b[39;00mtest\u001b[38;5;132;01m}\u001b[39;00m\u001b[38;5;124m\"\u001b[39m))\n\u001b[0;32m----> 3\u001b[0m \u001b[38;5;28mprint\u001b[39m(\u001b[38;5;124mf\u001b[39m\u001b[38;5;124m'\u001b[39m\u001b[38;5;124m  p03_desc_values:\u001b[39m\u001b[38;5;132;01m{\u001b[39;00m\u001b[43msp\u001b[49m\u001b[38;5;241;43m.\u001b[39;49m\u001b[43mp03_disc_values\u001b[49m\u001b[38;5;132;01m}\u001b[39;00m\u001b[38;5;124m \u001b[39m\u001b[38;5;130;01m\\n\u001b[39;00m\u001b[38;5;124m  num_cut:\u001b[39m\u001b[38;5;132;01m{\u001b[39;00msp\u001b[38;5;241m.\u001b[39mp03_disc_bins\u001b[38;5;132;01m}\u001b[39;00m\u001b[38;5;124m'\u001b[39m)\n\u001b[1;32m      4\u001b[0m ex_disc, ex_points \u001b[38;5;241m=\u001b[39m sp\u001b[38;5;241m.\u001b[39mdiscretizeEW(sp\u001b[38;5;241m.\u001b[39mp03_disc_values, sp\u001b[38;5;241m.\u001b[39mp03_disc_bins)\n\u001b[1;32m      5\u001b[0m \u001b[38;5;28mprint\u001b[39m(\u001b[38;5;124m'\u001b[39m\u001b[38;5;124m  discretized into 4 bins with EW \u001b[39m\u001b[38;5;130;01m\\n\u001b[39;00m\u001b[38;5;124m    \u001b[39m\u001b[38;5;124m'\u001b[39m, ex_disc)\n",
      "\u001b[0;31mAttributeError\u001b[0m: module 'somaes_python' has no attribute 'p03_disc_values'"
     ]
    }
   ],
   "source": [
    "test = 'example vector from P03 exercises'; fcn = 'discretizeEW'; \n",
    "display(Markdown(f\"#### Testing {fcn}() with {test}\"))\n",
    "print(f'  p03_desc_values:{sp.p03_disc_values} \\n  num_cut:{sp.p03_disc_bins}')\n",
    "ex_disc, ex_points = sp.discretizeEW(sp.p03_disc_values, sp.p03_disc_bins)\n",
    "print('  discretized into 4 bins with EW \\n    ', ex_disc)\n",
    "print('  cut_points: \\n    ', ex_points )\n",
    "\n",
    "test = 'example vector from P03 exercises'; fcn = 'discretizeEF'; \n",
    "display(Markdown(f\"#### Testing {fcn}() with {test}\"))\n",
    "print(f'  p03_desc_values:{sp.p03_disc_values} \\n  num_cut:{sp.p03_disc_bins}')\n",
    "ex_disc, ex_points = sp.discretizeEF(sp.p03_disc_values, sp.p03_disc_bins)\n",
    "print('  discretized into 4 bins with EF \\n    ', ex_disc)\n",
    "print('  cut_points: \\n    ', ex_points )\n",
    "\n",
    "test = 'larger vector generated at random'; fcn = 'discretizeEF'; \n",
    "display(Markdown(f\"#### Testing {fcn}() with {test}\"))\n",
    "random_values = np.random.uniform(low=0.0, high=25.0, size=50)\n",
    "num_cut = 7\n",
    "print(f'  random_values:\\n {random_values}\\n  num_cut: {num_cut}')\n",
    "ex_discretized, ex_cut_points = sp.discretizeEF(random_values, num_cut)\n",
    "print(f'  discretized into {num_cut} bins with EW \\n    {ex_discretized}',)\n",
    "print(f'  cut_points: \\n    {ex_cut_points}')\n",
    "print('')"
   ]
  },
  {
   "cell_type": "code",
   "execution_count": null,
   "metadata": {},
   "outputs": [
    {
     "data": {
      "text/markdown": [
       "#### Testing discretize_EW_by_column() with random data, multiple columns"
      ],
      "text/plain": [
       "<IPython.core.display.Markdown object>"
      ]
     },
     "metadata": {},
     "output_type": "display_data"
    },
    {
     "data": {
      "text/html": [
       "<div>\n",
       "<style scoped>\n",
       "    .dataframe tbody tr th:only-of-type {\n",
       "        vertical-align: middle;\n",
       "    }\n",
       "\n",
       "    .dataframe tbody tr th {\n",
       "        vertical-align: top;\n",
       "    }\n",
       "\n",
       "    .dataframe thead th {\n",
       "        text-align: right;\n",
       "    }\n",
       "</style>\n",
       "<table border=\"1\" class=\"dataframe\">\n",
       "  <thead>\n",
       "    <tr style=\"text-align: right;\">\n",
       "      <th></th>\n",
       "      <th>A_EW</th>\n",
       "      <th>B_EW</th>\n",
       "      <th>C_EW</th>\n",
       "    </tr>\n",
       "  </thead>\n",
       "  <tbody>\n",
       "    <tr>\n",
       "      <th>0</th>\n",
       "      <td>I2:(34.125,43.25)</td>\n",
       "      <td>I4:(70.5,89.0)</td>\n",
       "      <td>I1:(-Inf,97.625)</td>\n",
       "    </tr>\n",
       "    <tr>\n",
       "      <th>1</th>\n",
       "      <td>I3:(43.25,52.375)</td>\n",
       "      <td>I8:(144.5,+Inf)</td>\n",
       "      <td>I3:(126.25,154.875)</td>\n",
       "    </tr>\n",
       "    <tr>\n",
       "      <th>2</th>\n",
       "      <td>I8:(88.875,+Inf)</td>\n",
       "      <td>I3:(52.0,70.5)</td>\n",
       "      <td>I5:(183.5,212.125)</td>\n",
       "    </tr>\n",
       "    <tr>\n",
       "      <th>3</th>\n",
       "      <td>I5:(61.5,70.625)</td>\n",
       "      <td>I7:(126.0,144.5)</td>\n",
       "      <td>I4:(154.875,183.5)</td>\n",
       "    </tr>\n",
       "    <tr>\n",
       "      <th>4</th>\n",
       "      <td>I3:(43.25,52.375)</td>\n",
       "      <td>I6:(107.5,126.0)</td>\n",
       "      <td>I1:(-Inf,97.625)</td>\n",
       "    </tr>\n",
       "    <tr>\n",
       "      <th>5</th>\n",
       "      <td>I2:(34.125,43.25)</td>\n",
       "      <td>I8:(144.5,+Inf)</td>\n",
       "      <td>I7:(240.75,269.375)</td>\n",
       "    </tr>\n",
       "    <tr>\n",
       "      <th>6</th>\n",
       "      <td>I6:(70.625,79.75)</td>\n",
       "      <td>I2:(33.5,52.0)</td>\n",
       "      <td>I2:(97.625,126.25)</td>\n",
       "    </tr>\n",
       "    <tr>\n",
       "      <th>7</th>\n",
       "      <td>I8:(88.875,+Inf)</td>\n",
       "      <td>I6:(107.5,126.0)</td>\n",
       "      <td>I2:(97.625,126.25)</td>\n",
       "    </tr>\n",
       "    <tr>\n",
       "      <th>8</th>\n",
       "      <td>I5:(61.5,70.625)</td>\n",
       "      <td>I2:(33.5,52.0)</td>\n",
       "      <td>I8:(269.375,+Inf)</td>\n",
       "    </tr>\n",
       "    <tr>\n",
       "      <th>9</th>\n",
       "      <td>I1:(-Inf,34.125)</td>\n",
       "      <td>I1:(-Inf,33.5)</td>\n",
       "      <td>I2:(97.625,126.25)</td>\n",
       "    </tr>\n",
       "  </tbody>\n",
       "</table>\n",
       "</div>"
      ],
      "text/plain": [
       "                A_EW              B_EW                 C_EW\n",
       "0  I2:(34.125,43.25)    I4:(70.5,89.0)     I1:(-Inf,97.625)\n",
       "1  I3:(43.25,52.375)   I8:(144.5,+Inf)  I3:(126.25,154.875)\n",
       "2   I8:(88.875,+Inf)    I3:(52.0,70.5)   I5:(183.5,212.125)\n",
       "3   I5:(61.5,70.625)  I7:(126.0,144.5)   I4:(154.875,183.5)\n",
       "4  I3:(43.25,52.375)  I6:(107.5,126.0)     I1:(-Inf,97.625)\n",
       "5  I2:(34.125,43.25)   I8:(144.5,+Inf)  I7:(240.75,269.375)\n",
       "6  I6:(70.625,79.75)    I2:(33.5,52.0)   I2:(97.625,126.25)\n",
       "7   I8:(88.875,+Inf)  I6:(107.5,126.0)   I2:(97.625,126.25)\n",
       "8   I5:(61.5,70.625)    I2:(33.5,52.0)    I8:(269.375,+Inf)\n",
       "9   I1:(-Inf,34.125)    I1:(-Inf,33.5)   I2:(97.625,126.25)"
      ]
     },
     "metadata": {},
     "output_type": "display_data"
    },
    {
     "data": {
      "text/markdown": [
       "#### Testing discretize_EW_by_column() with random data, multiple columns, keeping originals"
      ],
      "text/plain": [
       "<IPython.core.display.Markdown object>"
      ]
     },
     "metadata": {},
     "output_type": "display_data"
    },
    {
     "data": {
      "text/html": [
       "<div>\n",
       "<style scoped>\n",
       "    .dataframe tbody tr th:only-of-type {\n",
       "        vertical-align: middle;\n",
       "    }\n",
       "\n",
       "    .dataframe tbody tr th {\n",
       "        vertical-align: top;\n",
       "    }\n",
       "\n",
       "    .dataframe thead th {\n",
       "        text-align: right;\n",
       "    }\n",
       "</style>\n",
       "<table border=\"1\" class=\"dataframe\">\n",
       "  <thead>\n",
       "    <tr style=\"text-align: right;\">\n",
       "      <th></th>\n",
       "      <th>A</th>\n",
       "      <th>A_EW</th>\n",
       "      <th>B</th>\n",
       "      <th>B_EW</th>\n",
       "      <th>C</th>\n",
       "      <th>C_EW</th>\n",
       "    </tr>\n",
       "  </thead>\n",
       "  <tbody>\n",
       "    <tr>\n",
       "      <th>0</th>\n",
       "      <td>43</td>\n",
       "      <td>I2:(34.125,43.25)</td>\n",
       "      <td>88</td>\n",
       "      <td>I4:(70.5,89.0)</td>\n",
       "      <td>69</td>\n",
       "      <td>I1:(-Inf,97.625)</td>\n",
       "    </tr>\n",
       "    <tr>\n",
       "      <th>1</th>\n",
       "      <td>45</td>\n",
       "      <td>I3:(43.25,52.375)</td>\n",
       "      <td>157</td>\n",
       "      <td>I8:(144.5,+Inf)</td>\n",
       "      <td>132</td>\n",
       "      <td>I3:(126.25,154.875)</td>\n",
       "    </tr>\n",
       "    <tr>\n",
       "      <th>2</th>\n",
       "      <td>98</td>\n",
       "      <td>I8:(88.875,+Inf)</td>\n",
       "      <td>52</td>\n",
       "      <td>I3:(52.0,70.5)</td>\n",
       "      <td>193</td>\n",
       "      <td>I5:(183.5,212.125)</td>\n",
       "    </tr>\n",
       "    <tr>\n",
       "      <th>3</th>\n",
       "      <td>65</td>\n",
       "      <td>I5:(61.5,70.625)</td>\n",
       "      <td>131</td>\n",
       "      <td>I7:(126.0,144.5)</td>\n",
       "      <td>159</td>\n",
       "      <td>I4:(154.875,183.5)</td>\n",
       "    </tr>\n",
       "    <tr>\n",
       "      <th>4</th>\n",
       "      <td>45</td>\n",
       "      <td>I3:(43.25,52.375)</td>\n",
       "      <td>120</td>\n",
       "      <td>I6:(107.5,126.0)</td>\n",
       "      <td>86</td>\n",
       "      <td>I1:(-Inf,97.625)</td>\n",
       "    </tr>\n",
       "    <tr>\n",
       "      <th>5</th>\n",
       "      <td>40</td>\n",
       "      <td>I2:(34.125,43.25)</td>\n",
       "      <td>163</td>\n",
       "      <td>I8:(144.5,+Inf)</td>\n",
       "      <td>266</td>\n",
       "      <td>I7:(240.75,269.375)</td>\n",
       "    </tr>\n",
       "    <tr>\n",
       "      <th>6</th>\n",
       "      <td>79</td>\n",
       "      <td>I6:(70.625,79.75)</td>\n",
       "      <td>41</td>\n",
       "      <td>I2:(33.5,52.0)</td>\n",
       "      <td>119</td>\n",
       "      <td>I2:(97.625,126.25)</td>\n",
       "    </tr>\n",
       "    <tr>\n",
       "      <th>7</th>\n",
       "      <td>97</td>\n",
       "      <td>I8:(88.875,+Inf)</td>\n",
       "      <td>112</td>\n",
       "      <td>I6:(107.5,126.0)</td>\n",
       "      <td>105</td>\n",
       "      <td>I2:(97.625,126.25)</td>\n",
       "    </tr>\n",
       "    <tr>\n",
       "      <th>8</th>\n",
       "      <td>62</td>\n",
       "      <td>I5:(61.5,70.625)</td>\n",
       "      <td>47</td>\n",
       "      <td>I2:(33.5,52.0)</td>\n",
       "      <td>298</td>\n",
       "      <td>I8:(269.375,+Inf)</td>\n",
       "    </tr>\n",
       "    <tr>\n",
       "      <th>9</th>\n",
       "      <td>25</td>\n",
       "      <td>I1:(-Inf,34.125)</td>\n",
       "      <td>15</td>\n",
       "      <td>I1:(-Inf,33.5)</td>\n",
       "      <td>119</td>\n",
       "      <td>I2:(97.625,126.25)</td>\n",
       "    </tr>\n",
       "  </tbody>\n",
       "</table>\n",
       "</div>"
      ],
      "text/plain": [
       "    A               A_EW    B              B_EW    C                 C_EW\n",
       "0  43  I2:(34.125,43.25)   88    I4:(70.5,89.0)   69     I1:(-Inf,97.625)\n",
       "1  45  I3:(43.25,52.375)  157   I8:(144.5,+Inf)  132  I3:(126.25,154.875)\n",
       "2  98   I8:(88.875,+Inf)   52    I3:(52.0,70.5)  193   I5:(183.5,212.125)\n",
       "3  65   I5:(61.5,70.625)  131  I7:(126.0,144.5)  159   I4:(154.875,183.5)\n",
       "4  45  I3:(43.25,52.375)  120  I6:(107.5,126.0)   86     I1:(-Inf,97.625)\n",
       "5  40  I2:(34.125,43.25)  163   I8:(144.5,+Inf)  266  I7:(240.75,269.375)\n",
       "6  79  I6:(70.625,79.75)   41    I2:(33.5,52.0)  119   I2:(97.625,126.25)\n",
       "7  97   I8:(88.875,+Inf)  112  I6:(107.5,126.0)  105   I2:(97.625,126.25)\n",
       "8  62   I5:(61.5,70.625)   47    I2:(33.5,52.0)  298    I8:(269.375,+Inf)\n",
       "9  25   I1:(-Inf,34.125)   15    I1:(-Inf,33.5)  119   I2:(97.625,126.25)"
      ]
     },
     "metadata": {},
     "output_type": "display_data"
    },
    {
     "data": {
      "text/markdown": [
       "#### Testing discretize_EF_by_column() with random data, multiple columns"
      ],
      "text/plain": [
       "<IPython.core.display.Markdown object>"
      ]
     },
     "metadata": {},
     "output_type": "display_data"
    },
    {
     "data": {
      "text/html": [
       "<div>\n",
       "<style scoped>\n",
       "    .dataframe tbody tr th:only-of-type {\n",
       "        vertical-align: middle;\n",
       "    }\n",
       "\n",
       "    .dataframe tbody tr th {\n",
       "        vertical-align: top;\n",
       "    }\n",
       "\n",
       "    .dataframe thead th {\n",
       "        text-align: right;\n",
       "    }\n",
       "</style>\n",
       "<table border=\"1\" class=\"dataframe\">\n",
       "  <thead>\n",
       "    <tr style=\"text-align: right;\">\n",
       "      <th></th>\n",
       "      <th>A_EF</th>\n",
       "      <th>B_EF</th>\n",
       "      <th>C_EF</th>\n",
       "    </tr>\n",
       "  </thead>\n",
       "  <tbody>\n",
       "    <tr>\n",
       "      <th>0</th>\n",
       "      <td>I3:(41.5,44.0)</td>\n",
       "      <td>I4:(70.0,116.0)</td>\n",
       "      <td>I1:(-Inf,77.5)</td>\n",
       "    </tr>\n",
       "    <tr>\n",
       "      <th>1</th>\n",
       "      <td>I5:(45.0,53.5)</td>\n",
       "      <td>I7:(144.0,160.0)</td>\n",
       "      <td>I6:(125.5,176.0)</td>\n",
       "    </tr>\n",
       "    <tr>\n",
       "      <th>2</th>\n",
       "      <td>I8:(88.0,+Inf)</td>\n",
       "      <td>I3:(44.0,70.0)</td>\n",
       "      <td>I7:(176.0,282.0)</td>\n",
       "    </tr>\n",
       "    <tr>\n",
       "      <th>3</th>\n",
       "      <td>I7:(63.5,88.0)</td>\n",
       "      <td>I6:(125.5,144.0)</td>\n",
       "      <td>I6:(125.5,176.0)</td>\n",
       "    </tr>\n",
       "    <tr>\n",
       "      <th>4</th>\n",
       "      <td>I5:(45.0,53.5)</td>\n",
       "      <td>I5:(116.0,125.5)</td>\n",
       "      <td>I2:(77.5,95.5)</td>\n",
       "    </tr>\n",
       "    <tr>\n",
       "      <th>5</th>\n",
       "      <td>I2:(32.5,41.5)</td>\n",
       "      <td>I8:(160.0,+Inf)</td>\n",
       "      <td>I7:(176.0,282.0)</td>\n",
       "    </tr>\n",
       "    <tr>\n",
       "      <th>6</th>\n",
       "      <td>I7:(63.5,88.0)</td>\n",
       "      <td>I2:(28.0,44.0)</td>\n",
       "      <td>I5:(119.0,125.5)</td>\n",
       "    </tr>\n",
       "    <tr>\n",
       "      <th>7</th>\n",
       "      <td>I8:(88.0,+Inf)</td>\n",
       "      <td>I4:(70.0,116.0)</td>\n",
       "      <td>I3:(95.5,112.0)</td>\n",
       "    </tr>\n",
       "    <tr>\n",
       "      <th>8</th>\n",
       "      <td>I6:(53.5,63.5)</td>\n",
       "      <td>I3:(44.0,70.0)</td>\n",
       "      <td>I8:(282.0,+Inf)</td>\n",
       "    </tr>\n",
       "    <tr>\n",
       "      <th>9</th>\n",
       "      <td>I1:(-Inf,32.5)</td>\n",
       "      <td>I1:(-Inf,28.0)</td>\n",
       "      <td>I5:(119.0,125.5)</td>\n",
       "    </tr>\n",
       "  </tbody>\n",
       "</table>\n",
       "</div>"
      ],
      "text/plain": [
       "             A_EF              B_EF              C_EF\n",
       "0  I3:(41.5,44.0)   I4:(70.0,116.0)    I1:(-Inf,77.5)\n",
       "1  I5:(45.0,53.5)  I7:(144.0,160.0)  I6:(125.5,176.0)\n",
       "2  I8:(88.0,+Inf)    I3:(44.0,70.0)  I7:(176.0,282.0)\n",
       "3  I7:(63.5,88.0)  I6:(125.5,144.0)  I6:(125.5,176.0)\n",
       "4  I5:(45.0,53.5)  I5:(116.0,125.5)    I2:(77.5,95.5)\n",
       "5  I2:(32.5,41.5)   I8:(160.0,+Inf)  I7:(176.0,282.0)\n",
       "6  I7:(63.5,88.0)    I2:(28.0,44.0)  I5:(119.0,125.5)\n",
       "7  I8:(88.0,+Inf)   I4:(70.0,116.0)   I3:(95.5,112.0)\n",
       "8  I6:(53.5,63.5)    I3:(44.0,70.0)   I8:(282.0,+Inf)\n",
       "9  I1:(-Inf,32.5)    I1:(-Inf,28.0)  I5:(119.0,125.5)"
      ]
     },
     "metadata": {},
     "output_type": "display_data"
    },
    {
     "data": {
      "text/markdown": [
       "#### Testing discretize_EF_by_column() with random data, multiple columns, keeping originals"
      ],
      "text/plain": [
       "<IPython.core.display.Markdown object>"
      ]
     },
     "metadata": {},
     "output_type": "display_data"
    },
    {
     "data": {
      "text/html": [
       "<div>\n",
       "<style scoped>\n",
       "    .dataframe tbody tr th:only-of-type {\n",
       "        vertical-align: middle;\n",
       "    }\n",
       "\n",
       "    .dataframe tbody tr th {\n",
       "        vertical-align: top;\n",
       "    }\n",
       "\n",
       "    .dataframe thead th {\n",
       "        text-align: right;\n",
       "    }\n",
       "</style>\n",
       "<table border=\"1\" class=\"dataframe\">\n",
       "  <thead>\n",
       "    <tr style=\"text-align: right;\">\n",
       "      <th></th>\n",
       "      <th>A</th>\n",
       "      <th>A_EF</th>\n",
       "      <th>B</th>\n",
       "      <th>B_EF</th>\n",
       "      <th>C</th>\n",
       "      <th>C_EF</th>\n",
       "    </tr>\n",
       "  </thead>\n",
       "  <tbody>\n",
       "    <tr>\n",
       "      <th>0</th>\n",
       "      <td>43</td>\n",
       "      <td>I2:(41.5,44.0)</td>\n",
       "      <td>88</td>\n",
       "      <td>I4:(70.0,100.0)</td>\n",
       "      <td>69</td>\n",
       "      <td>I1:(-Inf,77.5)</td>\n",
       "    </tr>\n",
       "    <tr>\n",
       "      <th>1</th>\n",
       "      <td>45</td>\n",
       "      <td>I4:(45.0,53.5)</td>\n",
       "      <td>157</td>\n",
       "      <td>I7:(125.5,160.0)</td>\n",
       "      <td>132</td>\n",
       "      <td>I4:(119.0,145.5)</td>\n",
       "    </tr>\n",
       "    <tr>\n",
       "      <th>2</th>\n",
       "      <td>98</td>\n",
       "      <td>I8:(88.0,+Inf)</td>\n",
       "      <td>52</td>\n",
       "      <td>I3:(44.0,70.0)</td>\n",
       "      <td>193</td>\n",
       "      <td>I6:(176.0,229.5)</td>\n",
       "    </tr>\n",
       "    <tr>\n",
       "      <th>3</th>\n",
       "      <td>65</td>\n",
       "      <td>I6:(63.5,72.0)</td>\n",
       "      <td>131</td>\n",
       "      <td>I7:(125.5,160.0)</td>\n",
       "      <td>159</td>\n",
       "      <td>I5:(145.5,176.0)</td>\n",
       "    </tr>\n",
       "    <tr>\n",
       "      <th>4</th>\n",
       "      <td>45</td>\n",
       "      <td>I4:(45.0,53.5)</td>\n",
       "      <td>120</td>\n",
       "      <td>I6:(116.0,125.5)</td>\n",
       "      <td>86</td>\n",
       "      <td>I2:(77.5,95.5)</td>\n",
       "    </tr>\n",
       "    <tr>\n",
       "      <th>5</th>\n",
       "      <td>40</td>\n",
       "      <td>I1:(-Inf,41.5)</td>\n",
       "      <td>163</td>\n",
       "      <td>I8:(160.0,+Inf)</td>\n",
       "      <td>266</td>\n",
       "      <td>I7:(229.5,282.0)</td>\n",
       "    </tr>\n",
       "    <tr>\n",
       "      <th>6</th>\n",
       "      <td>79</td>\n",
       "      <td>I7:(72.0,88.0)</td>\n",
       "      <td>41</td>\n",
       "      <td>I2:(28.0,44.0)</td>\n",
       "      <td>119</td>\n",
       "      <td>I4:(119.0,145.5)</td>\n",
       "    </tr>\n",
       "    <tr>\n",
       "      <th>7</th>\n",
       "      <td>97</td>\n",
       "      <td>I8:(88.0,+Inf)</td>\n",
       "      <td>112</td>\n",
       "      <td>I5:(100.0,116.0)</td>\n",
       "      <td>105</td>\n",
       "      <td>I3:(95.5,119.0)</td>\n",
       "    </tr>\n",
       "    <tr>\n",
       "      <th>8</th>\n",
       "      <td>62</td>\n",
       "      <td>I5:(53.5,63.5)</td>\n",
       "      <td>47</td>\n",
       "      <td>I3:(44.0,70.0)</td>\n",
       "      <td>298</td>\n",
       "      <td>I8:(282.0,+Inf)</td>\n",
       "    </tr>\n",
       "    <tr>\n",
       "      <th>9</th>\n",
       "      <td>25</td>\n",
       "      <td>I1:(-Inf,41.5)</td>\n",
       "      <td>15</td>\n",
       "      <td>I1:(-Inf,28.0)</td>\n",
       "      <td>119</td>\n",
       "      <td>I4:(119.0,145.5)</td>\n",
       "    </tr>\n",
       "  </tbody>\n",
       "</table>\n",
       "</div>"
      ],
      "text/plain": [
       "    A            A_EF    B              B_EF    C              C_EF\n",
       "0  43  I2:(41.5,44.0)   88   I4:(70.0,100.0)   69    I1:(-Inf,77.5)\n",
       "1  45  I4:(45.0,53.5)  157  I7:(125.5,160.0)  132  I4:(119.0,145.5)\n",
       "2  98  I8:(88.0,+Inf)   52    I3:(44.0,70.0)  193  I6:(176.0,229.5)\n",
       "3  65  I6:(63.5,72.0)  131  I7:(125.5,160.0)  159  I5:(145.5,176.0)\n",
       "4  45  I4:(45.0,53.5)  120  I6:(116.0,125.5)   86    I2:(77.5,95.5)\n",
       "5  40  I1:(-Inf,41.5)  163   I8:(160.0,+Inf)  266  I7:(229.5,282.0)\n",
       "6  79  I7:(72.0,88.0)   41    I2:(28.0,44.0)  119  I4:(119.0,145.5)\n",
       "7  97  I8:(88.0,+Inf)  112  I5:(100.0,116.0)  105   I3:(95.5,119.0)\n",
       "8  62  I5:(53.5,63.5)   47    I3:(44.0,70.0)  298   I8:(282.0,+Inf)\n",
       "9  25  I1:(-Inf,41.5)   15    I1:(-Inf,28.0)  119  I4:(119.0,145.5)"
      ]
     },
     "metadata": {},
     "output_type": "display_data"
    },
    {
     "data": {
      "text/markdown": [
       "#### Testing discretize_EW_EF_by_column() with random data, comparison of first two columns"
      ],
      "text/plain": [
       "<IPython.core.display.Markdown object>"
      ]
     },
     "metadata": {},
     "output_type": "display_data"
    },
    {
     "data": {
      "text/html": [
       "<div>\n",
       "<style scoped>\n",
       "    .dataframe tbody tr th:only-of-type {\n",
       "        vertical-align: middle;\n",
       "    }\n",
       "\n",
       "    .dataframe tbody tr th {\n",
       "        vertical-align: top;\n",
       "    }\n",
       "\n",
       "    .dataframe thead th {\n",
       "        text-align: right;\n",
       "    }\n",
       "</style>\n",
       "<table border=\"1\" class=\"dataframe\">\n",
       "  <thead>\n",
       "    <tr style=\"text-align: right;\">\n",
       "      <th></th>\n",
       "      <th>A</th>\n",
       "      <th>A_EF</th>\n",
       "      <th>A_EW</th>\n",
       "      <th>B</th>\n",
       "      <th>B_EF</th>\n",
       "      <th>B_EW</th>\n",
       "    </tr>\n",
       "  </thead>\n",
       "  <tbody>\n",
       "    <tr>\n",
       "      <th>0</th>\n",
       "      <td>43</td>\n",
       "      <td>I3:(41.5,44.0)</td>\n",
       "      <td>I2:(34.125,43.25)</td>\n",
       "      <td>88</td>\n",
       "      <td>I4:(49.5,100.0)</td>\n",
       "      <td>I4:(70.5,89.0)</td>\n",
       "    </tr>\n",
       "    <tr>\n",
       "      <th>1</th>\n",
       "      <td>45</td>\n",
       "      <td>I4:(44.0,53.5)</td>\n",
       "      <td>I3:(43.25,52.375)</td>\n",
       "      <td>157</td>\n",
       "      <td>I8:(144.0,+Inf)</td>\n",
       "      <td>I8:(144.5,+Inf)</td>\n",
       "    </tr>\n",
       "    <tr>\n",
       "      <th>2</th>\n",
       "      <td>98</td>\n",
       "      <td>I8:(97.5,+Inf)</td>\n",
       "      <td>I8:(88.875,+Inf)</td>\n",
       "      <td>52</td>\n",
       "      <td>I4:(49.5,100.0)</td>\n",
       "      <td>I3:(52.0,70.5)</td>\n",
       "    </tr>\n",
       "    <tr>\n",
       "      <th>3</th>\n",
       "      <td>65</td>\n",
       "      <td>I6:(63.5,88.0)</td>\n",
       "      <td>I5:(61.5,70.625)</td>\n",
       "      <td>131</td>\n",
       "      <td>I7:(125.5,144.0)</td>\n",
       "      <td>I7:(126.0,144.5)</td>\n",
       "    </tr>\n",
       "    <tr>\n",
       "      <th>4</th>\n",
       "      <td>45</td>\n",
       "      <td>I4:(44.0,53.5)</td>\n",
       "      <td>I3:(43.25,52.375)</td>\n",
       "      <td>120</td>\n",
       "      <td>I6:(116.0,125.5)</td>\n",
       "      <td>I6:(107.5,126.0)</td>\n",
       "    </tr>\n",
       "    <tr>\n",
       "      <th>5</th>\n",
       "      <td>40</td>\n",
       "      <td>I2:(32.5,41.5)</td>\n",
       "      <td>I2:(34.125,43.25)</td>\n",
       "      <td>163</td>\n",
       "      <td>I8:(144.0,+Inf)</td>\n",
       "      <td>I8:(144.5,+Inf)</td>\n",
       "    </tr>\n",
       "    <tr>\n",
       "      <th>6</th>\n",
       "      <td>79</td>\n",
       "      <td>I6:(63.5,88.0)</td>\n",
       "      <td>I6:(70.625,79.75)</td>\n",
       "      <td>41</td>\n",
       "      <td>I2:(28.0,44.0)</td>\n",
       "      <td>I2:(33.5,52.0)</td>\n",
       "    </tr>\n",
       "    <tr>\n",
       "      <th>7</th>\n",
       "      <td>97</td>\n",
       "      <td>I7:(88.0,97.5)</td>\n",
       "      <td>I8:(88.875,+Inf)</td>\n",
       "      <td>112</td>\n",
       "      <td>I5:(100.0,116.0)</td>\n",
       "      <td>I6:(107.5,126.0)</td>\n",
       "    </tr>\n",
       "    <tr>\n",
       "      <th>8</th>\n",
       "      <td>62</td>\n",
       "      <td>I5:(53.5,63.5)</td>\n",
       "      <td>I5:(61.5,70.625)</td>\n",
       "      <td>47</td>\n",
       "      <td>I3:(44.0,49.5)</td>\n",
       "      <td>I2:(33.5,52.0)</td>\n",
       "    </tr>\n",
       "    <tr>\n",
       "      <th>9</th>\n",
       "      <td>25</td>\n",
       "      <td>I1:(-Inf,32.5)</td>\n",
       "      <td>I1:(-Inf,34.125)</td>\n",
       "      <td>15</td>\n",
       "      <td>I1:(-Inf,28.0)</td>\n",
       "      <td>I1:(-Inf,33.5)</td>\n",
       "    </tr>\n",
       "  </tbody>\n",
       "</table>\n",
       "</div>"
      ],
      "text/plain": [
       "    A            A_EF               A_EW    B              B_EF  \\\n",
       "0  43  I3:(41.5,44.0)  I2:(34.125,43.25)   88   I4:(49.5,100.0)   \n",
       "1  45  I4:(44.0,53.5)  I3:(43.25,52.375)  157   I8:(144.0,+Inf)   \n",
       "2  98  I8:(97.5,+Inf)   I8:(88.875,+Inf)   52   I4:(49.5,100.0)   \n",
       "3  65  I6:(63.5,88.0)   I5:(61.5,70.625)  131  I7:(125.5,144.0)   \n",
       "4  45  I4:(44.0,53.5)  I3:(43.25,52.375)  120  I6:(116.0,125.5)   \n",
       "5  40  I2:(32.5,41.5)  I2:(34.125,43.25)  163   I8:(144.0,+Inf)   \n",
       "6  79  I6:(63.5,88.0)  I6:(70.625,79.75)   41    I2:(28.0,44.0)   \n",
       "7  97  I7:(88.0,97.5)   I8:(88.875,+Inf)  112  I5:(100.0,116.0)   \n",
       "8  62  I5:(53.5,63.5)   I5:(61.5,70.625)   47    I3:(44.0,49.5)   \n",
       "9  25  I1:(-Inf,32.5)   I1:(-Inf,34.125)   15    I1:(-Inf,28.0)   \n",
       "\n",
       "               B_EW  \n",
       "0    I4:(70.5,89.0)  \n",
       "1   I8:(144.5,+Inf)  \n",
       "2    I3:(52.0,70.5)  \n",
       "3  I7:(126.0,144.5)  \n",
       "4  I6:(107.5,126.0)  \n",
       "5   I8:(144.5,+Inf)  \n",
       "6    I2:(33.5,52.0)  \n",
       "7  I6:(107.5,126.0)  \n",
       "8    I2:(33.5,52.0)  \n",
       "9    I1:(-Inf,33.5)  "
      ]
     },
     "metadata": {},
     "output_type": "display_data"
    }
   ],
   "source": [
    "num_rows, num_bins = 10, 8\n",
    "disc_df_test_df = pd.DataFrame({\n",
    "    'A': np.random.randint(1, 101, size=num_rows),\n",
    "    'B': np.random.randint(1, 201, size=num_rows),\n",
    "    'C': np.random.randint(50, 301, size=num_rows)\n",
    "})\n",
    "\n",
    "test = 'random data, multiple columns'; \n",
    "fcn = 'discretize_EW_by_column'; \n",
    "display(Markdown(f\"#### Testing {fcn}() with {test}\"))\n",
    "display(sp.discretize_EW_by_column(disc_df_test_df, num_bins))\n",
    "\n",
    "test = 'random data, multiple columns, keeping originals'; \n",
    "fcn = 'discretize_EW_by_column'; \n",
    "display(Markdown(f\"#### Testing {fcn}() with {test}\"))\n",
    "display(sp.discretize_EW_by_column(disc_df_test_df, num_bins, \n",
    "                                    keep_original=True))\n",
    "\n",
    "test = 'random data, multiple columns'; \n",
    "fcn = 'discretize_EF_by_column'; \n",
    "display(Markdown(f\"#### Testing {fcn}() with {test}\"))\n",
    "display(sp.discretize_EF_by_column(disc_df_test_df, num_bins))\n",
    "\n",
    "test = 'random data, multiple columns, keeping originals'; \n",
    "fcn = 'discretize_EF_by_column'; \n",
    "display(Markdown(f\"#### Testing {fcn}() with {test}\"))\n",
    "display(sp.discretize_EF_by_column(disc_df_test_df, num_bins, \n",
    "                                keep_original=True))    \n",
    "\n",
    "first_two = disc_df_test_df.iloc[:, [0, 1]]\n",
    "test = 'random data, comparison of first two columns'; \n",
    "fcn = 'discretize_EW_EF_by_column'; \n",
    "display(Markdown(f\"#### Testing {fcn}() with {test}\"))\n",
    "display(sp.discretize_EW_EF_by_column(first_two, num_bins))\n"
   ]
  },
  {
   "cell_type": "markdown",
   "metadata": {},
   "source": [
    "### Calculation of metrics for the attributes of a dataset\n",
    "\n",
    "*Cálculo de métricas para los atributos de un dataset: Varianza y AUC para las variables contínuas y entropía para las discretas. La función deberá reconocer el tipo de atributo y actuar en consecuencia. Notese que en el caso del AUC, el dataset debe ser supervisado, es decir, es necesario especificar una variable clase binaria con la que evaluar el AUC de los atributos numéricos.*"
   ]
  },
  {
   "cell_type": "code",
   "execution_count": null,
   "metadata": {},
   "outputs": [
    {
     "data": {
      "text/markdown": [
       "#### Testing calculate_variance() with sample variance, df with a single column, known var=23.5"
      ],
      "text/plain": [
       "<IPython.core.display.Markdown object>"
      ]
     },
     "metadata": {},
     "output_type": "display_data"
    },
    {
     "name": "stdout",
     "output_type": "stream",
     "text": [
      "    variance:  [23.5]\n"
     ]
    },
    {
     "data": {
      "text/markdown": [
       "#### Testing calculate_variance() with population variance, df with a single column, known var=2.917"
      ],
      "text/plain": [
       "<IPython.core.display.Markdown object>"
      ]
     },
     "metadata": {},
     "output_type": "display_data"
    },
    {
     "name": "stdout",
     "output_type": "stream",
     "text": [
      "    variance:  [2.917]\n"
     ]
    },
    {
     "data": {
      "text/markdown": [
       "#### Testing calculate_variance() with random data, multiple columns"
      ],
      "text/plain": [
       "<IPython.core.display.Markdown object>"
      ]
     },
     "metadata": {},
     "output_type": "display_data"
    },
    {
     "name": "stdout",
     "output_type": "stream",
     "text": [
      "    variance:  [1429.822 1201.778 4106.678]\n"
     ]
    },
    {
     "data": {
      "text/html": [
       "<div>\n",
       "<style scoped>\n",
       "    .dataframe tbody tr th:only-of-type {\n",
       "        vertical-align: middle;\n",
       "    }\n",
       "\n",
       "    .dataframe tbody tr th {\n",
       "        vertical-align: top;\n",
       "    }\n",
       "\n",
       "    .dataframe thead th {\n",
       "        text-align: right;\n",
       "    }\n",
       "</style>\n",
       "<table border=\"1\" class=\"dataframe\">\n",
       "  <thead>\n",
       "    <tr style=\"text-align: right;\">\n",
       "      <th></th>\n",
       "      <th>A</th>\n",
       "      <th>B</th>\n",
       "      <th>C</th>\n",
       "    </tr>\n",
       "  </thead>\n",
       "  <tbody>\n",
       "    <tr>\n",
       "      <th>0</th>\n",
       "      <td>90</td>\n",
       "      <td>64</td>\n",
       "      <td>267</td>\n",
       "    </tr>\n",
       "    <tr>\n",
       "      <th>1</th>\n",
       "      <td>8</td>\n",
       "      <td>140</td>\n",
       "      <td>264</td>\n",
       "    </tr>\n",
       "    <tr>\n",
       "      <th>2</th>\n",
       "      <td>91</td>\n",
       "      <td>146</td>\n",
       "      <td>173</td>\n",
       "    </tr>\n",
       "    <tr>\n",
       "      <th>3</th>\n",
       "      <td>100</td>\n",
       "      <td>134</td>\n",
       "      <td>224</td>\n",
       "    </tr>\n",
       "    <tr>\n",
       "      <th>4</th>\n",
       "      <td>28</td>\n",
       "      <td>82</td>\n",
       "      <td>163</td>\n",
       "    </tr>\n",
       "    <tr>\n",
       "      <th>5</th>\n",
       "      <td>31</td>\n",
       "      <td>70</td>\n",
       "      <td>168</td>\n",
       "    </tr>\n",
       "    <tr>\n",
       "      <th>6</th>\n",
       "      <td>12</td>\n",
       "      <td>146</td>\n",
       "      <td>270</td>\n",
       "    </tr>\n",
       "    <tr>\n",
       "      <th>7</th>\n",
       "      <td>63</td>\n",
       "      <td>61</td>\n",
       "      <td>168</td>\n",
       "    </tr>\n",
       "    <tr>\n",
       "      <th>8</th>\n",
       "      <td>92</td>\n",
       "      <td>106</td>\n",
       "      <td>133</td>\n",
       "    </tr>\n",
       "    <tr>\n",
       "      <th>9</th>\n",
       "      <td>99</td>\n",
       "      <td>101</td>\n",
       "      <td>77</td>\n",
       "    </tr>\n",
       "  </tbody>\n",
       "</table>\n",
       "</div>"
      ],
      "text/plain": [
       "     A    B    C\n",
       "0   90   64  267\n",
       "1    8  140  264\n",
       "2   91  146  173\n",
       "3  100  134  224\n",
       "4   28   82  163\n",
       "5   31   70  168\n",
       "6   12  146  270\n",
       "7   63   61  168\n",
       "8   92  106  133\n",
       "9   99  101   77"
      ]
     },
     "metadata": {},
     "output_type": "display_data"
    }
   ],
   "source": [
    "test = 'sample variance, df with a single column, known var=23.5'; \n",
    "fcn = 'calculate_variance'; \n",
    "display(Markdown(f\"#### Testing {fcn}() with {test}\"))\n",
    "variance = sp.calculate_variance(sp.sample_variance_23p5_df)\n",
    "with np.printoptions(precision=3):\n",
    "    print('    variance: ', variance)\n",
    "\n",
    "test = 'population variance, df with a single column, known var=2.917'; \n",
    "fcn = 'calculate_variance'; \n",
    "display(Markdown(f\"#### Testing {fcn}() with {test}\"))\n",
    "variance = sp.calculate_variance(sp.pop_variance_2p917_df, sample=False)\n",
    "with np.printoptions(precision=3):\n",
    "    print('    variance: ', variance)\n",
    "\n",
    "num_rows = 10\n",
    "variance_df_test_df = pd.DataFrame({\n",
    "    'A': np.random.randint(1, 101, size=num_rows),\n",
    "    'B': np.random.randint(1, 201, size=num_rows),\n",
    "    'C': np.random.randint(50, 301, size=num_rows)\n",
    "})\n",
    "test = 'random data, multiple columns'; \n",
    "fcn = 'calculate_variance'; \n",
    "display(Markdown(f\"#### Testing {fcn}() with {test}\"))\n",
    "with np.printoptions(precision=3):\n",
    "    print('    variance: ', sp.calculate_variance(variance_df_test_df))\n",
    "display(variance_df_test_df)\n"
   ]
  },
  {
   "cell_type": "code",
   "execution_count": null,
   "metadata": {},
   "outputs": [
    {
     "data": {
      "text/markdown": [
       "#### Testing calculate_roc_auc() with dataframe with known auc=1.0"
      ],
      "text/plain": [
       "<IPython.core.display.Markdown object>"
      ]
     },
     "metadata": {},
     "output_type": "display_data"
    },
    {
     "name": "stdout",
     "output_type": "stream",
     "text": [
      "    fpr points:  [0.  0.  0.  0.  0.5 1. ]\n",
      "    tpr points:  [0.    0.333 0.667 1.    1.    1.   ]\n",
      "    auc:  1.0\n"
     ]
    },
    {
     "data": {
      "text/markdown": [
       "#### Testing calculate_roc_auc() with dataframe with known auc=0.75"
      ],
      "text/plain": [
       "<IPython.core.display.Markdown object>"
      ]
     },
     "metadata": {},
     "output_type": "display_data"
    },
    {
     "name": "stdout",
     "output_type": "stream",
     "text": [
      "    fpr points:  [0.   0.   0.   0.25 0.25 0.25 0.25 0.5  0.5  0.75 1.  ]\n",
      "    tpr points:  [0.    0.    0.    0.333 0.5   0.667 0.833 0.833 1.    1.    1.   ]\n",
      "    auc:  0.75\n"
     ]
    }
   ],
   "source": [
    "test = 'dataframe with known auc=1.0'; \n",
    "fcn = 'calculate_roc_auc'; \n",
    "display(Markdown(f\"#### Testing {fcn}() with {test}\"))\n",
    "fpr, tpr, auc = sp.calculate_roc_auc(sp.auc_1p0_df)\n",
    "with np.printoptions(precision=3):\n",
    "    print('    fpr points: ', fpr)\n",
    "    print('    tpr points: ', tpr)\n",
    "    print('    auc: ', auc)\n",
    "\n",
    "test = 'dataframe with known auc=0.75'; \n",
    "fcn = 'calculate_roc_auc'; \n",
    "display(Markdown(f\"#### Testing {fcn}() with {test}\"))\n",
    "fpr, tpr, auc  = sp.calculate_roc_auc(sp.auc_0p75_df)\n",
    "with np.printoptions(precision=3):\n",
    "    print('    fpr points: ', fpr)\n",
    "    print('    tpr points: ', tpr)\n",
    "    print('    auc: ', auc)\n"
   ]
  },
  {
   "cell_type": "code",
   "execution_count": null,
   "metadata": {},
   "outputs": [
    {
     "data": {
      "text/markdown": [
       "#### Testing calculate_entropy() with dataframe from vector with known entropy=0.971"
      ],
      "text/plain": [
       "<IPython.core.display.Markdown object>"
      ]
     },
     "metadata": {},
     "output_type": "display_data"
    },
    {
     "name": "stdout",
     "output_type": "stream",
     "text": [
      "    entropy:  0.9709505944546686\n"
     ]
    },
    {
     "data": {
      "text/markdown": [
       "#### Testing calculate_entropy() with dataframe by column, varying types, known entropy=0.971"
      ],
      "text/plain": [
       "<IPython.core.display.Markdown object>"
      ]
     },
     "metadata": {},
     "output_type": "display_data"
    },
    {
     "data": {
      "text/html": [
       "<div>\n",
       "<style scoped>\n",
       "    .dataframe tbody tr th:only-of-type {\n",
       "        vertical-align: middle;\n",
       "    }\n",
       "\n",
       "    .dataframe tbody tr th {\n",
       "        vertical-align: top;\n",
       "    }\n",
       "\n",
       "    .dataframe thead th {\n",
       "        text-align: right;\n",
       "    }\n",
       "</style>\n",
       "<table border=\"1\" class=\"dataframe\">\n",
       "  <thead>\n",
       "    <tr style=\"text-align: right;\">\n",
       "      <th></th>\n",
       "      <th>letters</th>\n",
       "      <th>integers</th>\n",
       "      <th>decimals</th>\n",
       "    </tr>\n",
       "  </thead>\n",
       "  <tbody>\n",
       "    <tr>\n",
       "      <th>0</th>\n",
       "      <td>a</td>\n",
       "      <td>10</td>\n",
       "      <td>0.50</td>\n",
       "    </tr>\n",
       "    <tr>\n",
       "      <th>1</th>\n",
       "      <td>a</td>\n",
       "      <td>10</td>\n",
       "      <td>0.50</td>\n",
       "    </tr>\n",
       "    <tr>\n",
       "      <th>2</th>\n",
       "      <td>c</td>\n",
       "      <td>23</td>\n",
       "      <td>0.45</td>\n",
       "    </tr>\n",
       "    <tr>\n",
       "      <th>3</th>\n",
       "      <td>c</td>\n",
       "      <td>23</td>\n",
       "      <td>0.45</td>\n",
       "    </tr>\n",
       "    <tr>\n",
       "      <th>4</th>\n",
       "      <td>c</td>\n",
       "      <td>23</td>\n",
       "      <td>0.45</td>\n",
       "    </tr>\n",
       "  </tbody>\n",
       "</table>\n",
       "</div>"
      ],
      "text/plain": [
       "  letters  integers  decimals\n",
       "0       a        10      0.50\n",
       "1       a        10      0.50\n",
       "2       c        23      0.45\n",
       "3       c        23      0.45\n",
       "4       c        23      0.45"
      ]
     },
     "metadata": {},
     "output_type": "display_data"
    },
    {
     "name": "stdout",
     "output_type": "stream",
     "text": [
      "  type: letters\n",
      "    result: 0.9709505944546686\n",
      "  type: integers\n",
      "    result: 0.9709505944546686\n",
      "  type: decimals\n",
      "    result: 0.9709505944546686\n"
     ]
    },
    {
     "data": {
      "text/markdown": [
       "#### Testing calculate_entropy() with zero-length dataframe"
      ],
      "text/plain": [
       "<IPython.core.display.Markdown object>"
      ]
     },
     "metadata": {},
     "output_type": "display_data"
    },
    {
     "name": "stdout",
     "output_type": "stream",
     "text": [
      "  type: zerolength\n",
      "    values: []\n",
      "    result: None\n"
     ]
    }
   ],
   "source": [
    "test = 'dataframe from vector with known entropy=0.971'\n",
    "fcn = 'calculate_entropy'\n",
    "display(Markdown(f\"#### Testing {fcn}() with {test}\"))\n",
    "entropy = sp.calculate_entropy(pd.DataFrame(sp.p03_entropy_0p971))\n",
    "print('    entropy: ', entropy)\n",
    "\n",
    "test = 'dataframe by column, varying types, known entropy=0.971' \n",
    "fcn = 'calculate_entropy'\n",
    "display(Markdown(f\"#### Testing {fcn}() with {test}\"))\n",
    "multicolumn_entropy_df = pd.DataFrame({\n",
    "    'letters': ['a','a','c','c','c'],\n",
    "    'integers': [ 10, 10, 23, 23, 23 ],\n",
    "    'decimals': [ 0.5, 0.5, 0.45, 0.45, 0.45 ],\n",
    "})\n",
    "display(multicolumn_entropy_df)\n",
    "for c in multicolumn_entropy_df.columns:\n",
    "    print(f'  type: {c}')\n",
    "    print(f'    result: {sp.calculate_entropy(multicolumn_entropy_df[[c]])}')\n",
    "\n",
    "test = 'zero-length dataframe' \n",
    "fcn = 'calculate_entropy'\n",
    "display(Markdown(f\"#### Testing {fcn}() with {test}\"))\n",
    "zerolength_entropy_df = pd.DataFrame({ 'zerolength': [] })\n",
    "for c in zerolength_entropy_df.columns:\n",
    "    print(f'  type: {c}')\n",
    "    print(f'    values: {zerolength_entropy_df[c].to_list()}')\n",
    "    print(f'    result: {sp.calculate_entropy(zerolength_entropy_df[[c]])}')\n"
   ]
  },
  {
   "cell_type": "code",
   "execution_count": null,
   "metadata": {},
   "outputs": [
    {
     "data": {
      "text/html": [
       "<div>\n",
       "<style scoped>\n",
       "    .dataframe tbody tr th:only-of-type {\n",
       "        vertical-align: middle;\n",
       "    }\n",
       "\n",
       "    .dataframe tbody tr th {\n",
       "        vertical-align: top;\n",
       "    }\n",
       "\n",
       "    .dataframe thead th {\n",
       "        text-align: right;\n",
       "    }\n",
       "</style>\n",
       "<table border=\"1\" class=\"dataframe\">\n",
       "  <thead>\n",
       "    <tr style=\"text-align: right;\">\n",
       "      <th></th>\n",
       "      <th>A</th>\n",
       "      <th>B</th>\n",
       "      <th>C</th>\n",
       "      <th>D</th>\n",
       "      <th>E</th>\n",
       "      <th>F</th>\n",
       "      <th>G</th>\n",
       "    </tr>\n",
       "  </thead>\n",
       "  <tbody>\n",
       "    <tr>\n",
       "      <th>0</th>\n",
       "      <td>1</td>\n",
       "      <td>True</td>\n",
       "      <td>4.5</td>\n",
       "      <td>a</td>\n",
       "      <td>0.10</td>\n",
       "      <td>False</td>\n",
       "      <td>4.5</td>\n",
       "    </tr>\n",
       "    <tr>\n",
       "      <th>1</th>\n",
       "      <td>1</td>\n",
       "      <td>True</td>\n",
       "      <td>5.5</td>\n",
       "      <td>a</td>\n",
       "      <td>0.40</td>\n",
       "      <td>True</td>\n",
       "      <td>5.5</td>\n",
       "    </tr>\n",
       "    <tr>\n",
       "      <th>2</th>\n",
       "      <td>1</td>\n",
       "      <td>True</td>\n",
       "      <td>6.5</td>\n",
       "      <td>a</td>\n",
       "      <td>0.35</td>\n",
       "      <td>False</td>\n",
       "      <td>6.5</td>\n",
       "    </tr>\n",
       "    <tr>\n",
       "      <th>3</th>\n",
       "      <td>3</td>\n",
       "      <td>False</td>\n",
       "      <td>5.5</td>\n",
       "      <td>c</td>\n",
       "      <td>0.80</td>\n",
       "      <td>True</td>\n",
       "      <td>6.5</td>\n",
       "    </tr>\n",
       "    <tr>\n",
       "      <th>4</th>\n",
       "      <td>3</td>\n",
       "      <td>False</td>\n",
       "      <td>6.5</td>\n",
       "      <td>c</td>\n",
       "      <td>0.50</td>\n",
       "      <td>True</td>\n",
       "      <td>6.5</td>\n",
       "    </tr>\n",
       "  </tbody>\n",
       "</table>\n",
       "</div>"
      ],
      "text/plain": [
       "   A      B    C  D     E      F    G\n",
       "0  1   True  4.5  a  0.10  False  4.5\n",
       "1  1   True  5.5  a  0.40   True  5.5\n",
       "2  1   True  6.5  a  0.35  False  6.5\n",
       "3  3  False  5.5  c  0.80   True  6.5\n",
       "4  3  False  6.5  c  0.50   True  6.5"
      ]
     },
     "metadata": {},
     "output_type": "display_data"
    },
    {
     "data": {
      "text/markdown": [
       "#### Testing dataset_metrics_summary() with standard mixed dataframe, display_precision=6"
      ],
      "text/plain": [
       "<IPython.core.display.Markdown object>"
      ]
     },
     "metadata": {},
     "output_type": "display_data"
    },
    {
     "data": {
      "text/html": [
       "<div>\n",
       "<style scoped>\n",
       "    .dataframe tbody tr th:only-of-type {\n",
       "        vertical-align: middle;\n",
       "    }\n",
       "\n",
       "    .dataframe tbody tr th {\n",
       "        vertical-align: top;\n",
       "    }\n",
       "\n",
       "    .dataframe thead th {\n",
       "        text-align: right;\n",
       "    }\n",
       "</style>\n",
       "<table border=\"1\" class=\"dataframe\">\n",
       "  <thead>\n",
       "    <tr style=\"text-align: right;\">\n",
       "      <th></th>\n",
       "      <th>A</th>\n",
       "      <th>B</th>\n",
       "      <th>C</th>\n",
       "      <th>D</th>\n",
       "      <th>E</th>\n",
       "      <th>F</th>\n",
       "      <th>G</th>\n",
       "    </tr>\n",
       "  </thead>\n",
       "  <tbody>\n",
       "    <tr>\n",
       "      <th>(type)</th>\n",
       "      <td>int64</td>\n",
       "      <td>bool</td>\n",
       "      <td>float64</td>\n",
       "      <td>object</td>\n",
       "      <td>float64</td>\n",
       "      <td>bool</td>\n",
       "      <td>float64</td>\n",
       "    </tr>\n",
       "    <tr>\n",
       "      <th>variance</th>\n",
       "      <td></td>\n",
       "      <td></td>\n",
       "      <td>0.7</td>\n",
       "      <td></td>\n",
       "      <td>0.0645</td>\n",
       "      <td></td>\n",
       "      <td>0.8</td>\n",
       "    </tr>\n",
       "    <tr>\n",
       "      <th>AUC</th>\n",
       "      <td></td>\n",
       "      <td></td>\n",
       "      <td></td>\n",
       "      <td></td>\n",
       "      <td>1.0</td>\n",
       "      <td></td>\n",
       "      <td></td>\n",
       "    </tr>\n",
       "    <tr>\n",
       "      <th>entropy</th>\n",
       "      <td>0.970951</td>\n",
       "      <td>0.970951</td>\n",
       "      <td></td>\n",
       "      <td>0.970951</td>\n",
       "      <td></td>\n",
       "      <td></td>\n",
       "      <td></td>\n",
       "    </tr>\n",
       "  </tbody>\n",
       "</table>\n",
       "</div>"
      ],
      "text/plain": [
       "                 A         B        C         D        E     F        G\n",
       "(type)       int64      bool  float64    object  float64  bool  float64\n",
       "variance                          0.7             0.0645            0.8\n",
       "AUC                                                  1.0               \n",
       "entropy   0.970951  0.970951           0.970951                        "
      ]
     },
     "metadata": {},
     "output_type": "display_data"
    },
    {
     "data": {
      "text/markdown": [
       "#### Testing dataset_metrics_summary() with standard mixed dataframe, appending input"
      ],
      "text/plain": [
       "<IPython.core.display.Markdown object>"
      ]
     },
     "metadata": {},
     "output_type": "display_data"
    },
    {
     "data": {
      "text/html": [
       "<div>\n",
       "<style scoped>\n",
       "    .dataframe tbody tr th:only-of-type {\n",
       "        vertical-align: middle;\n",
       "    }\n",
       "\n",
       "    .dataframe tbody tr th {\n",
       "        vertical-align: top;\n",
       "    }\n",
       "\n",
       "    .dataframe thead th {\n",
       "        text-align: right;\n",
       "    }\n",
       "</style>\n",
       "<table border=\"1\" class=\"dataframe\">\n",
       "  <thead>\n",
       "    <tr style=\"text-align: right;\">\n",
       "      <th></th>\n",
       "      <th>A</th>\n",
       "      <th>B</th>\n",
       "      <th>C</th>\n",
       "      <th>D</th>\n",
       "      <th>E</th>\n",
       "      <th>F</th>\n",
       "      <th>G</th>\n",
       "    </tr>\n",
       "  </thead>\n",
       "  <tbody>\n",
       "    <tr>\n",
       "      <th>(type)</th>\n",
       "      <td>int64</td>\n",
       "      <td>bool</td>\n",
       "      <td>float64</td>\n",
       "      <td>object</td>\n",
       "      <td>float64</td>\n",
       "      <td>bool</td>\n",
       "      <td>float64</td>\n",
       "    </tr>\n",
       "    <tr>\n",
       "      <th>variance</th>\n",
       "      <td></td>\n",
       "      <td></td>\n",
       "      <td>0.7</td>\n",
       "      <td></td>\n",
       "      <td>0.065</td>\n",
       "      <td></td>\n",
       "      <td>0.8</td>\n",
       "    </tr>\n",
       "    <tr>\n",
       "      <th>AUC</th>\n",
       "      <td></td>\n",
       "      <td></td>\n",
       "      <td></td>\n",
       "      <td></td>\n",
       "      <td>1.0</td>\n",
       "      <td></td>\n",
       "      <td></td>\n",
       "    </tr>\n",
       "    <tr>\n",
       "      <th>entropy</th>\n",
       "      <td>0.971</td>\n",
       "      <td>0.971</td>\n",
       "      <td></td>\n",
       "      <td>0.971</td>\n",
       "      <td></td>\n",
       "      <td></td>\n",
       "      <td></td>\n",
       "    </tr>\n",
       "    <tr>\n",
       "      <th>0</th>\n",
       "      <td>1</td>\n",
       "      <td>True</td>\n",
       "      <td>4.5</td>\n",
       "      <td>a</td>\n",
       "      <td>0.1</td>\n",
       "      <td>False</td>\n",
       "      <td>4.5</td>\n",
       "    </tr>\n",
       "    <tr>\n",
       "      <th>1</th>\n",
       "      <td>1</td>\n",
       "      <td>True</td>\n",
       "      <td>5.5</td>\n",
       "      <td>a</td>\n",
       "      <td>0.4</td>\n",
       "      <td>True</td>\n",
       "      <td>5.5</td>\n",
       "    </tr>\n",
       "    <tr>\n",
       "      <th>2</th>\n",
       "      <td>1</td>\n",
       "      <td>True</td>\n",
       "      <td>6.5</td>\n",
       "      <td>a</td>\n",
       "      <td>0.35</td>\n",
       "      <td>False</td>\n",
       "      <td>6.5</td>\n",
       "    </tr>\n",
       "    <tr>\n",
       "      <th>3</th>\n",
       "      <td>3</td>\n",
       "      <td>False</td>\n",
       "      <td>5.5</td>\n",
       "      <td>c</td>\n",
       "      <td>0.8</td>\n",
       "      <td>True</td>\n",
       "      <td>6.5</td>\n",
       "    </tr>\n",
       "    <tr>\n",
       "      <th>4</th>\n",
       "      <td>3</td>\n",
       "      <td>False</td>\n",
       "      <td>6.5</td>\n",
       "      <td>c</td>\n",
       "      <td>0.5</td>\n",
       "      <td>True</td>\n",
       "      <td>6.5</td>\n",
       "    </tr>\n",
       "  </tbody>\n",
       "</table>\n",
       "</div>"
      ],
      "text/plain": [
       "              A      B        C       D        E      F        G\n",
       "(type)    int64   bool  float64  object  float64   bool  float64\n",
       "variance                    0.7            0.065             0.8\n",
       "AUC                                          1.0                \n",
       "entropy   0.971  0.971            0.971                         \n",
       "0             1   True      4.5       a      0.1  False      4.5\n",
       "1             1   True      5.5       a      0.4   True      5.5\n",
       "2             1   True      6.5       a     0.35  False      6.5\n",
       "3             3  False      5.5       c      0.8   True      6.5\n",
       "4             3  False      6.5       c      0.5   True      6.5"
      ]
     },
     "metadata": {},
     "output_type": "display_data"
    }
   ],
   "source": [
    "display(sp.std_mixed_df)\n",
    "\n",
    "test = 'standard mixed dataframe, display_precision=6'; \n",
    "fcn = 'dataset_metrics_summary'; \n",
    "display(Markdown(f\"#### Testing {fcn}() with {test}\"))\n",
    "display(sp.dataset_metrics_summary(sp.std_mixed_df,display_precision=6))\n",
    "\n",
    "test = 'standard mixed dataframe, appending input'; \n",
    "fcn = 'dataset_metrics_summary'; \n",
    "display(Markdown(f\"#### Testing {fcn}() with {test}\"))\n",
    "display(sp.dataset_metrics_summary(sp.std_mixed_df,append_input=True))\n"
   ]
  },
  {
   "cell_type": "markdown",
   "metadata": {},
   "source": [
    "### Normalization and standardization of variables\n",
    "\n",
    "*Normalización y estandarización de variables, tanto de manera individual como para el dataset completo. Esto solo debe ser aplicado a atributos que sean numéricos.*"
   ]
  },
  {
   "cell_type": "code",
   "execution_count": null,
   "metadata": {},
   "outputs": [
    {
     "data": {
      "text/markdown": [
       "#### Example numeric dataframe"
      ],
      "text/plain": [
       "<IPython.core.display.Markdown object>"
      ]
     },
     "metadata": {},
     "output_type": "display_data"
    },
    {
     "data": {
      "text/html": [
       "<div>\n",
       "<style scoped>\n",
       "    .dataframe tbody tr th:only-of-type {\n",
       "        vertical-align: middle;\n",
       "    }\n",
       "\n",
       "    .dataframe tbody tr th {\n",
       "        vertical-align: top;\n",
       "    }\n",
       "\n",
       "    .dataframe thead th {\n",
       "        text-align: right;\n",
       "    }\n",
       "</style>\n",
       "<table border=\"1\" class=\"dataframe\">\n",
       "  <thead>\n",
       "    <tr style=\"text-align: right;\">\n",
       "      <th></th>\n",
       "      <th>A</th>\n",
       "      <th>B</th>\n",
       "      <th>C</th>\n",
       "    </tr>\n",
       "  </thead>\n",
       "  <tbody>\n",
       "    <tr>\n",
       "      <th>0</th>\n",
       "      <td>1</td>\n",
       "      <td>10</td>\n",
       "      <td>5</td>\n",
       "    </tr>\n",
       "    <tr>\n",
       "      <th>1</th>\n",
       "      <td>2</td>\n",
       "      <td>20</td>\n",
       "      <td>4</td>\n",
       "    </tr>\n",
       "    <tr>\n",
       "      <th>2</th>\n",
       "      <td>3</td>\n",
       "      <td>30</td>\n",
       "      <td>3</td>\n",
       "    </tr>\n",
       "    <tr>\n",
       "      <th>3</th>\n",
       "      <td>4</td>\n",
       "      <td>40</td>\n",
       "      <td>2</td>\n",
       "    </tr>\n",
       "    <tr>\n",
       "      <th>4</th>\n",
       "      <td>5</td>\n",
       "      <td>50</td>\n",
       "      <td>1</td>\n",
       "    </tr>\n",
       "  </tbody>\n",
       "</table>\n",
       "</div>"
      ],
      "text/plain": [
       "   A   B  C\n",
       "0  1  10  5\n",
       "1  2  20  4\n",
       "2  3  30  3\n",
       "3  4  40  2\n",
       "4  5  50  1"
      ]
     },
     "metadata": {},
     "output_type": "display_data"
    },
    {
     "data": {
      "text/markdown": [
       "#### Testing normalize_by_column() with example numeric dataframe"
      ],
      "text/plain": [
       "<IPython.core.display.Markdown object>"
      ]
     },
     "metadata": {},
     "output_type": "display_data"
    },
    {
     "data": {
      "text/html": [
       "<div>\n",
       "<style scoped>\n",
       "    .dataframe tbody tr th:only-of-type {\n",
       "        vertical-align: middle;\n",
       "    }\n",
       "\n",
       "    .dataframe tbody tr th {\n",
       "        vertical-align: top;\n",
       "    }\n",
       "\n",
       "    .dataframe thead th {\n",
       "        text-align: right;\n",
       "    }\n",
       "</style>\n",
       "<table border=\"1\" class=\"dataframe\">\n",
       "  <thead>\n",
       "    <tr style=\"text-align: right;\">\n",
       "      <th></th>\n",
       "      <th>A</th>\n",
       "      <th>B</th>\n",
       "      <th>C</th>\n",
       "    </tr>\n",
       "  </thead>\n",
       "  <tbody>\n",
       "    <tr>\n",
       "      <th>0</th>\n",
       "      <td>0.00</td>\n",
       "      <td>0.00</td>\n",
       "      <td>1.00</td>\n",
       "    </tr>\n",
       "    <tr>\n",
       "      <th>1</th>\n",
       "      <td>0.25</td>\n",
       "      <td>0.25</td>\n",
       "      <td>0.75</td>\n",
       "    </tr>\n",
       "    <tr>\n",
       "      <th>2</th>\n",
       "      <td>0.50</td>\n",
       "      <td>0.50</td>\n",
       "      <td>0.50</td>\n",
       "    </tr>\n",
       "    <tr>\n",
       "      <th>3</th>\n",
       "      <td>0.75</td>\n",
       "      <td>0.75</td>\n",
       "      <td>0.25</td>\n",
       "    </tr>\n",
       "    <tr>\n",
       "      <th>4</th>\n",
       "      <td>1.00</td>\n",
       "      <td>1.00</td>\n",
       "      <td>0.00</td>\n",
       "    </tr>\n",
       "  </tbody>\n",
       "</table>\n",
       "</div>"
      ],
      "text/plain": [
       "      A     B     C\n",
       "0  0.00  0.00  1.00\n",
       "1  0.25  0.25  0.75\n",
       "2  0.50  0.50  0.50\n",
       "3  0.75  0.75  0.25\n",
       "4  1.00  1.00  0.00"
      ]
     },
     "metadata": {},
     "output_type": "display_data"
    },
    {
     "data": {
      "text/markdown": [
       "#### Testing standardize_by_column() with example numeric dataframe"
      ],
      "text/plain": [
       "<IPython.core.display.Markdown object>"
      ]
     },
     "metadata": {},
     "output_type": "display_data"
    },
    {
     "data": {
      "text/html": [
       "<div>\n",
       "<style scoped>\n",
       "    .dataframe tbody tr th:only-of-type {\n",
       "        vertical-align: middle;\n",
       "    }\n",
       "\n",
       "    .dataframe tbody tr th {\n",
       "        vertical-align: top;\n",
       "    }\n",
       "\n",
       "    .dataframe thead th {\n",
       "        text-align: right;\n",
       "    }\n",
       "</style>\n",
       "<table border=\"1\" class=\"dataframe\">\n",
       "  <thead>\n",
       "    <tr style=\"text-align: right;\">\n",
       "      <th></th>\n",
       "      <th>A</th>\n",
       "      <th>B</th>\n",
       "      <th>C</th>\n",
       "    </tr>\n",
       "  </thead>\n",
       "  <tbody>\n",
       "    <tr>\n",
       "      <th>0</th>\n",
       "      <td>-1.414214</td>\n",
       "      <td>-1.414214</td>\n",
       "      <td>1.414214</td>\n",
       "    </tr>\n",
       "    <tr>\n",
       "      <th>1</th>\n",
       "      <td>-0.707107</td>\n",
       "      <td>-0.707107</td>\n",
       "      <td>0.707107</td>\n",
       "    </tr>\n",
       "    <tr>\n",
       "      <th>2</th>\n",
       "      <td>0.000000</td>\n",
       "      <td>0.000000</td>\n",
       "      <td>0.000000</td>\n",
       "    </tr>\n",
       "    <tr>\n",
       "      <th>3</th>\n",
       "      <td>0.707107</td>\n",
       "      <td>0.707107</td>\n",
       "      <td>-0.707107</td>\n",
       "    </tr>\n",
       "    <tr>\n",
       "      <th>4</th>\n",
       "      <td>1.414214</td>\n",
       "      <td>1.414214</td>\n",
       "      <td>-1.414214</td>\n",
       "    </tr>\n",
       "  </tbody>\n",
       "</table>\n",
       "</div>"
      ],
      "text/plain": [
       "          A         B         C\n",
       "0 -1.414214 -1.414214  1.414214\n",
       "1 -0.707107 -0.707107  0.707107\n",
       "2  0.000000  0.000000  0.000000\n",
       "3  0.707107  0.707107 -0.707107\n",
       "4  1.414214  1.414214 -1.414214"
      ]
     },
     "metadata": {},
     "output_type": "display_data"
    }
   ],
   "source": [
    "numeric_nrmn_stdn_df = pd.DataFrame({\n",
    "    'A': [1, 2, 3, 4, 5],\n",
    "    'B': [10, 20, 30, 40, 50],\n",
    "    'C': [5, 4, 3, 2, 1]\n",
    "})\n",
    "display(Markdown(f\"#### Example numeric dataframe\"))\n",
    "display(numeric_nrmn_stdn_df)\n",
    "\n",
    "test = 'example numeric dataframe'; \n",
    "fcn = 'normalize_by_column'; \n",
    "display(Markdown(f\"#### Testing {fcn}() with {test}\"))\n",
    "display(sp.normalize_by_column(numeric_nrmn_stdn_df))\n",
    "\n",
    "test = 'example numeric dataframe'; \n",
    "fcn = 'standardize_by_column'; \n",
    "display(Markdown(f\"#### Testing {fcn}() with {test}\"))\n",
    "display(sp.standardize_by_column(numeric_nrmn_stdn_df))\n"
   ]
  },
  {
   "cell_type": "markdown",
   "metadata": {},
   "source": [
    "### Filtering of variables based on the implemented metrics \n",
    "\n",
    "*Filtrado de variables en base a las métricas implementadas. Es decir, partiendo de un dataset, obtener uno nuevo donde todas las variables cumplan los requisitos indicado (por ejemplo, una entropía superior a un cierto umbral).*"
   ]
  },
  {
   "cell_type": "code",
   "execution_count": null,
   "metadata": {},
   "outputs": [
    {
     "data": {
      "text/markdown": [
       "#### Standard mixed dataframe with metrics"
      ],
      "text/plain": [
       "<IPython.core.display.Markdown object>"
      ]
     },
     "metadata": {},
     "output_type": "display_data"
    },
    {
     "data": {
      "text/html": [
       "<div>\n",
       "<style scoped>\n",
       "    .dataframe tbody tr th:only-of-type {\n",
       "        vertical-align: middle;\n",
       "    }\n",
       "\n",
       "    .dataframe tbody tr th {\n",
       "        vertical-align: top;\n",
       "    }\n",
       "\n",
       "    .dataframe thead th {\n",
       "        text-align: right;\n",
       "    }\n",
       "</style>\n",
       "<table border=\"1\" class=\"dataframe\">\n",
       "  <thead>\n",
       "    <tr style=\"text-align: right;\">\n",
       "      <th></th>\n",
       "      <th>A</th>\n",
       "      <th>B</th>\n",
       "      <th>C</th>\n",
       "      <th>D</th>\n",
       "      <th>E</th>\n",
       "      <th>F</th>\n",
       "      <th>G</th>\n",
       "    </tr>\n",
       "  </thead>\n",
       "  <tbody>\n",
       "    <tr>\n",
       "      <th>(type)</th>\n",
       "      <td>int64</td>\n",
       "      <td>bool</td>\n",
       "      <td>float64</td>\n",
       "      <td>object</td>\n",
       "      <td>float64</td>\n",
       "      <td>bool</td>\n",
       "      <td>float64</td>\n",
       "    </tr>\n",
       "    <tr>\n",
       "      <th>variance</th>\n",
       "      <td></td>\n",
       "      <td></td>\n",
       "      <td>0.7</td>\n",
       "      <td></td>\n",
       "      <td>0.065</td>\n",
       "      <td></td>\n",
       "      <td>0.8</td>\n",
       "    </tr>\n",
       "    <tr>\n",
       "      <th>AUC</th>\n",
       "      <td></td>\n",
       "      <td></td>\n",
       "      <td></td>\n",
       "      <td></td>\n",
       "      <td>1.0</td>\n",
       "      <td></td>\n",
       "      <td></td>\n",
       "    </tr>\n",
       "    <tr>\n",
       "      <th>entropy</th>\n",
       "      <td>0.971</td>\n",
       "      <td>0.971</td>\n",
       "      <td></td>\n",
       "      <td>0.971</td>\n",
       "      <td></td>\n",
       "      <td></td>\n",
       "      <td></td>\n",
       "    </tr>\n",
       "    <tr>\n",
       "      <th>0</th>\n",
       "      <td>1</td>\n",
       "      <td>True</td>\n",
       "      <td>4.5</td>\n",
       "      <td>a</td>\n",
       "      <td>0.1</td>\n",
       "      <td>False</td>\n",
       "      <td>4.5</td>\n",
       "    </tr>\n",
       "    <tr>\n",
       "      <th>1</th>\n",
       "      <td>1</td>\n",
       "      <td>True</td>\n",
       "      <td>5.5</td>\n",
       "      <td>a</td>\n",
       "      <td>0.4</td>\n",
       "      <td>True</td>\n",
       "      <td>5.5</td>\n",
       "    </tr>\n",
       "    <tr>\n",
       "      <th>2</th>\n",
       "      <td>1</td>\n",
       "      <td>True</td>\n",
       "      <td>6.5</td>\n",
       "      <td>a</td>\n",
       "      <td>0.35</td>\n",
       "      <td>False</td>\n",
       "      <td>6.5</td>\n",
       "    </tr>\n",
       "    <tr>\n",
       "      <th>3</th>\n",
       "      <td>3</td>\n",
       "      <td>False</td>\n",
       "      <td>5.5</td>\n",
       "      <td>c</td>\n",
       "      <td>0.8</td>\n",
       "      <td>True</td>\n",
       "      <td>6.5</td>\n",
       "    </tr>\n",
       "    <tr>\n",
       "      <th>4</th>\n",
       "      <td>3</td>\n",
       "      <td>False</td>\n",
       "      <td>6.5</td>\n",
       "      <td>c</td>\n",
       "      <td>0.5</td>\n",
       "      <td>True</td>\n",
       "      <td>6.5</td>\n",
       "    </tr>\n",
       "  </tbody>\n",
       "</table>\n",
       "</div>"
      ],
      "text/plain": [
       "              A      B        C       D        E      F        G\n",
       "(type)    int64   bool  float64  object  float64   bool  float64\n",
       "variance                    0.7            0.065             0.8\n",
       "AUC                                          1.0                \n",
       "entropy   0.971  0.971            0.971                         \n",
       "0             1   True      4.5       a      0.1  False      4.5\n",
       "1             1   True      5.5       a      0.4   True      5.5\n",
       "2             1   True      6.5       a     0.35  False      6.5\n",
       "3             3  False      5.5       c      0.8   True      6.5\n",
       "4             3  False      6.5       c      0.5   True      6.5"
      ]
     },
     "metadata": {},
     "output_type": "display_data"
    },
    {
     "data": {
      "text/markdown": [
       "#### Testing select_variables_by_metrics() with filter dataframe for variance <= 0.71"
      ],
      "text/plain": [
       "<IPython.core.display.Markdown object>"
      ]
     },
     "metadata": {},
     "output_type": "display_data"
    },
    {
     "data": {
      "text/html": [
       "<div>\n",
       "<style scoped>\n",
       "    .dataframe tbody tr th:only-of-type {\n",
       "        vertical-align: middle;\n",
       "    }\n",
       "\n",
       "    .dataframe tbody tr th {\n",
       "        vertical-align: top;\n",
       "    }\n",
       "\n",
       "    .dataframe thead th {\n",
       "        text-align: right;\n",
       "    }\n",
       "</style>\n",
       "<table border=\"1\" class=\"dataframe\">\n",
       "  <thead>\n",
       "    <tr style=\"text-align: right;\">\n",
       "      <th></th>\n",
       "      <th>E</th>\n",
       "      <th>C</th>\n",
       "    </tr>\n",
       "  </thead>\n",
       "  <tbody>\n",
       "    <tr>\n",
       "      <th>0</th>\n",
       "      <td>0.10</td>\n",
       "      <td>4.5</td>\n",
       "    </tr>\n",
       "    <tr>\n",
       "      <th>1</th>\n",
       "      <td>0.40</td>\n",
       "      <td>5.5</td>\n",
       "    </tr>\n",
       "    <tr>\n",
       "      <th>2</th>\n",
       "      <td>0.35</td>\n",
       "      <td>6.5</td>\n",
       "    </tr>\n",
       "    <tr>\n",
       "      <th>3</th>\n",
       "      <td>0.80</td>\n",
       "      <td>5.5</td>\n",
       "    </tr>\n",
       "    <tr>\n",
       "      <th>4</th>\n",
       "      <td>0.50</td>\n",
       "      <td>6.5</td>\n",
       "    </tr>\n",
       "  </tbody>\n",
       "</table>\n",
       "</div>"
      ],
      "text/plain": [
       "      E    C\n",
       "0  0.10  4.5\n",
       "1  0.40  5.5\n",
       "2  0.35  6.5\n",
       "3  0.80  5.5\n",
       "4  0.50  6.5"
      ]
     },
     "metadata": {},
     "output_type": "display_data"
    },
    {
     "data": {
      "text/markdown": [
       "#### Testing select_variables_by_metrics() with filter dataframe for entropy >= 0.9"
      ],
      "text/plain": [
       "<IPython.core.display.Markdown object>"
      ]
     },
     "metadata": {},
     "output_type": "display_data"
    },
    {
     "data": {
      "text/html": [
       "<div>\n",
       "<style scoped>\n",
       "    .dataframe tbody tr th:only-of-type {\n",
       "        vertical-align: middle;\n",
       "    }\n",
       "\n",
       "    .dataframe tbody tr th {\n",
       "        vertical-align: top;\n",
       "    }\n",
       "\n",
       "    .dataframe thead th {\n",
       "        text-align: right;\n",
       "    }\n",
       "</style>\n",
       "<table border=\"1\" class=\"dataframe\">\n",
       "  <thead>\n",
       "    <tr style=\"text-align: right;\">\n",
       "      <th></th>\n",
       "      <th>B</th>\n",
       "      <th>A</th>\n",
       "      <th>D</th>\n",
       "    </tr>\n",
       "  </thead>\n",
       "  <tbody>\n",
       "    <tr>\n",
       "      <th>0</th>\n",
       "      <td>True</td>\n",
       "      <td>1</td>\n",
       "      <td>a</td>\n",
       "    </tr>\n",
       "    <tr>\n",
       "      <th>1</th>\n",
       "      <td>True</td>\n",
       "      <td>1</td>\n",
       "      <td>a</td>\n",
       "    </tr>\n",
       "    <tr>\n",
       "      <th>2</th>\n",
       "      <td>True</td>\n",
       "      <td>1</td>\n",
       "      <td>a</td>\n",
       "    </tr>\n",
       "    <tr>\n",
       "      <th>3</th>\n",
       "      <td>False</td>\n",
       "      <td>3</td>\n",
       "      <td>c</td>\n",
       "    </tr>\n",
       "    <tr>\n",
       "      <th>4</th>\n",
       "      <td>False</td>\n",
       "      <td>3</td>\n",
       "      <td>c</td>\n",
       "    </tr>\n",
       "  </tbody>\n",
       "</table>\n",
       "</div>"
      ],
      "text/plain": [
       "       B  A  D\n",
       "0   True  1  a\n",
       "1   True  1  a\n",
       "2   True  1  a\n",
       "3  False  3  c\n",
       "4  False  3  c"
      ]
     },
     "metadata": {},
     "output_type": "display_data"
    }
   ],
   "source": [
    "display(Markdown(f\"#### Standard mixed dataframe with metrics\"))\n",
    "display(sp.dataset_metrics_summary(sp.std_mixed_df, append_input=True))\n",
    "\n",
    "test = 'filter dataframe for variance <= 0.71'\n",
    "fcn = 'select_variables_by_metrics'\n",
    "display(Markdown(f\"#### Testing {fcn}() with {test}\"))\n",
    "rules = [('variance', '<=', 0.71)]\n",
    "display(sp.select_variables_by_metrics(sp.std_mixed_df, rules))\n",
    "\n",
    "test = 'filter dataframe for entropy >= 0.9'\n",
    "fcn = 'select_variables_by_metrics'\n",
    "display(Markdown(f\"#### Testing {fcn}() with {test}\"))\n",
    "rules = [('entropy', '>=', 0.9)]\n",
    "display(sp.select_variables_by_metrics(sp.std_mixed_df, rules))"
   ]
  },
  {
   "cell_type": "markdown",
   "metadata": {},
   "source": [
    "### Calculation of the correlation/mutual information\n",
    "\n",
    "*Cálculo de la correlación (información mutua en el caso de variables categóricas) por pares entre variables de un dataset. La función deberá considerar de que tipo es cada variable*"
   ]
  },
  {
   "cell_type": "code",
   "execution_count": null,
   "metadata": {},
   "outputs": [
    {
     "data": {
      "text/markdown": [
       "#### Testing correlation() with vectors from corr_m0p685_df known to have correlation=-0.6847868"
      ],
      "text/plain": [
       "<IPython.core.display.Markdown object>"
      ]
     },
     "metadata": {},
     "output_type": "display_data"
    },
    {
     "name": "stdout",
     "output_type": "stream",
     "text": [
      "  x: [8 3 5 7 1 2 6 7 4 9] \n",
      "  y: [2.  2.  1.5 1.  2.5 3.  1.5 2.  2.  1.5] \n",
      "\n",
      "    correlation: -0.684787\n"
     ]
    },
    {
     "data": {
      "text/markdown": [
       "#### Testing correlation() with identical vectors"
      ],
      "text/plain": [
       "<IPython.core.display.Markdown object>"
      ]
     },
     "metadata": {},
     "output_type": "display_data"
    },
    {
     "name": "stdout",
     "output_type": "stream",
     "text": [
      "  x: [8 3 5 7 1 2 6 7 4 9] \n",
      "  y: [8 3 5 7 1 2 6 7 4 9] \n",
      "\n",
      "    correlation: 1.000000\n"
     ]
    }
   ],
   "source": [
    "test = 'vectors from corr_m0p685_df known to have correlation=-0.6847868' \n",
    "fcn = 'correlation'\n",
    "display(Markdown(f\"#### Testing {fcn}() with {test}\"))\n",
    "x = sp.corr_m0p685_df['x'].to_numpy()\n",
    "y = sp.corr_m0p685_df['y'].to_numpy()\n",
    "print(f'  x: {x} \\n  y: {y} \\n')\n",
    "print(f'    {fcn}: {sp.correlation(x, y):0.6f}')\n",
    "\n",
    "test = 'identical vectors'; fcn = 'correlation'; \n",
    "display(Markdown(f\"#### Testing {fcn}() with {test}\"))\n",
    "x = sp.corr_m0p685_df['x'].to_numpy()\n",
    "y = sp.corr_m0p685_df['x'].to_numpy()\n",
    "print(f'  x: {x} \\n  y: {y} \\n')\n",
    "print(f'    {fcn}: {sp.correlation(x, y):0.6f}')"
   ]
  },
  {
   "cell_type": "code",
   "execution_count": null,
   "metadata": {},
   "outputs": [
    {
     "data": {
      "text/markdown": [
       "#### Testing mutual_information() with vectors from np.array()"
      ],
      "text/plain": [
       "<IPython.core.display.Markdown object>"
      ]
     },
     "metadata": {},
     "output_type": "display_data"
    },
    {
     "name": "stdout",
     "output_type": "stream",
     "text": [
      "  x: ['Red' 'Blue' 'Green' 'Red' 'Blue'] \n",
      "  y: ['Circle' 'Square' 'Triangle' 'Square' 'Circle'] \n",
      "\n",
      "    mutual_information: 0.500402\n"
     ]
    },
    {
     "data": {
      "text/markdown": [
       "#### Testing mutual_information() with the same vectors from a dataframe"
      ],
      "text/plain": [
       "<IPython.core.display.Markdown object>"
      ]
     },
     "metadata": {},
     "output_type": "display_data"
    },
    {
     "name": "stdout",
     "output_type": "stream",
     "text": [
      "    mutual_information: 0.500402\n"
     ]
    },
    {
     "data": {
      "text/markdown": [
       "#### Testing mutual_information() with longer vectors from np.array()"
      ],
      "text/plain": [
       "<IPython.core.display.Markdown object>"
      ]
     },
     "metadata": {},
     "output_type": "display_data"
    },
    {
     "name": "stdout",
     "output_type": "stream",
     "text": [
      "  x: ['A' 'B' 'A' 'A' 'B' 'B' 'A' 'A' 'B' 'B'] \n",
      "  y: ['X' 'X' 'X' 'Y' 'Z' 'Z' 'Y' 'Y' 'Z' 'Z'] \n",
      "\n",
      "    mutual_information: 0.502193\n"
     ]
    },
    {
     "data": {
      "text/markdown": [
       "#### Testing mutual_information() with identical inputs from np.array()"
      ],
      "text/plain": [
       "<IPython.core.display.Markdown object>"
      ]
     },
     "metadata": {},
     "output_type": "display_data"
    },
    {
     "name": "stdout",
     "output_type": "stream",
     "text": [
      "  x: ['A' 'B' 'A' 'A' 'B' 'B' 'A' 'A' 'B' 'B'] \n",
      "  y: ['A' 'B' 'A' 'A' 'B' 'B' 'A' 'A' 'B' 'B'] \n",
      "\n",
      "    mutual_information: 0.693147\n"
     ]
    },
    {
     "data": {
      "text/markdown": [
       "#### Testing mutual_information() with example data from the HMS Titanic disaster"
      ],
      "text/plain": [
       "<IPython.core.display.Markdown object>"
      ]
     },
     "metadata": {},
     "output_type": "display_data"
    },
    {
     "name": "stdout",
     "output_type": "stream",
     "text": [
      "    mutual_information: 0.139673\n"
     ]
    },
    {
     "data": {
      "text/html": [
       "<div>\n",
       "<style scoped>\n",
       "    .dataframe tbody tr th:only-of-type {\n",
       "        vertical-align: middle;\n",
       "    }\n",
       "\n",
       "    .dataframe tbody tr th {\n",
       "        vertical-align: top;\n",
       "    }\n",
       "\n",
       "    .dataframe thead th {\n",
       "        text-align: right;\n",
       "    }\n",
       "</style>\n",
       "<table border=\"1\" class=\"dataframe\">\n",
       "  <thead>\n",
       "    <tr style=\"text-align: right;\">\n",
       "      <th></th>\n",
       "      <th>Sex</th>\n",
       "      <th>Condition</th>\n",
       "    </tr>\n",
       "  </thead>\n",
       "  <tbody>\n",
       "    <tr>\n",
       "      <th>0</th>\n",
       "      <td>Female</td>\n",
       "      <td>Survived</td>\n",
       "    </tr>\n",
       "    <tr>\n",
       "      <th>1</th>\n",
       "      <td>Male</td>\n",
       "      <td>Deceased</td>\n",
       "    </tr>\n",
       "    <tr>\n",
       "      <th>2</th>\n",
       "      <td>Female</td>\n",
       "      <td>Survived</td>\n",
       "    </tr>\n",
       "    <tr>\n",
       "      <th>3</th>\n",
       "      <td>Female</td>\n",
       "      <td>Survived</td>\n",
       "    </tr>\n",
       "    <tr>\n",
       "      <th>4</th>\n",
       "      <td>Female</td>\n",
       "      <td>Survived</td>\n",
       "    </tr>\n",
       "    <tr>\n",
       "      <th>...</th>\n",
       "      <td>...</td>\n",
       "      <td>...</td>\n",
       "    </tr>\n",
       "    <tr>\n",
       "      <th>909</th>\n",
       "      <td>Female</td>\n",
       "      <td>Survived</td>\n",
       "    </tr>\n",
       "    <tr>\n",
       "      <th>910</th>\n",
       "      <td>Female</td>\n",
       "      <td>Deceased</td>\n",
       "    </tr>\n",
       "    <tr>\n",
       "      <th>911</th>\n",
       "      <td>Male</td>\n",
       "      <td>Deceased</td>\n",
       "    </tr>\n",
       "    <tr>\n",
       "      <th>912</th>\n",
       "      <td>Male</td>\n",
       "      <td>Deceased</td>\n",
       "    </tr>\n",
       "    <tr>\n",
       "      <th>913</th>\n",
       "      <td>Male</td>\n",
       "      <td>Deceased</td>\n",
       "    </tr>\n",
       "  </tbody>\n",
       "</table>\n",
       "<p>914 rows × 2 columns</p>\n",
       "</div>"
      ],
      "text/plain": [
       "        Sex Condition\n",
       "0    Female  Survived\n",
       "1      Male  Deceased\n",
       "2    Female  Survived\n",
       "3    Female  Survived\n",
       "4    Female  Survived\n",
       "..      ...       ...\n",
       "909  Female  Survived\n",
       "910  Female  Deceased\n",
       "911    Male  Deceased\n",
       "912    Male  Deceased\n",
       "913    Male  Deceased\n",
       "\n",
       "[914 rows x 2 columns]"
      ]
     },
     "metadata": {},
     "output_type": "display_data"
    }
   ],
   "source": [
    "test = 'vectors from np.array()'; fcn = 'mutual_information'; \n",
    "display(Markdown(f\"#### Testing {fcn}() with {test}\"))\n",
    "x = np.array(['Red', 'Blue', 'Green', 'Red', 'Blue'])\n",
    "y = np.array(['Circle', 'Square', 'Triangle', 'Square', 'Circle'])\n",
    "print(f'  x: {x} \\n  y: {y} \\n')\n",
    "print(f'    {fcn}: {sp.mutual_information(x, y):0.6f}')\n",
    "\n",
    "test = 'the same vectors from a dataframe'; fcn = 'mutual_information'; \n",
    "display(Markdown(f\"#### Testing {fcn}() with {test}\"))\n",
    "df = pd.DataFrame({\n",
    "    'colors': ['Red', 'Blue', 'Green', 'Red', 'Blue'],\n",
    "    'shapes': ['Circle', 'Square', 'Triangle', 'Square', 'Circle'],\n",
    "})\n",
    "print(f'    {fcn}: {sp.mutual_information(df.colors, df.shapes):0.6f}')\n",
    "\n",
    "test = 'longer vectors from np.array()'; fcn = 'mutual_information'; \n",
    "display(Markdown(f\"#### Testing {fcn}() with {test}\"))\n",
    "x = np.array(['A', 'B', 'A', 'A', 'B', 'B', 'A', 'A', 'B', 'B'])\n",
    "y = np.array(['X', 'X', 'X', 'Y', 'Z', 'Z', 'Y', 'Y', 'Z', 'Z'])\n",
    "print(f'  x: {x} \\n  y: {y} \\n')\n",
    "print(f'    {fcn}: {sp.mutual_information(x, y):0.6f}')\n",
    "\n",
    "test = 'identical inputs from np.array()'; fcn = 'mutual_information'; \n",
    "display(Markdown(f\"#### Testing {fcn}() with {test}\"))\n",
    "x = np.array(['A', 'B', 'A', 'A', 'B', 'B', 'A', 'A', 'B', 'B'])\n",
    "y = np.array(['A', 'B', 'A', 'A', 'B', 'B', 'A', 'A', 'B', 'B'])\n",
    "print(f'  x: {x} \\n  y: {y} \\n')\n",
    "print(f'    {fcn}: {sp.mutual_information(x, y):0.6f}')\n",
    "\n",
    "test = 'example data from the HMS Titanic disaster'; \n",
    "fcn = 'mutual_information'; \n",
    "display(Markdown(f\"#### Testing {fcn}() with {test}\"))\n",
    "titanic_mutinfo=sp.mutual_information(sp.titanic_df.Sex,sp.titanic_df.Condition)\n",
    "print(f'    {fcn}: {titanic_mutinfo:0.6f}')\n",
    "display(sp.titanic_df)\n"
   ]
  },
  {
   "cell_type": "code",
   "execution_count": null,
   "metadata": {},
   "outputs": [
    {
     "data": {
      "text/markdown": [
       "#### Testing column_relationships() with example data from the HMS Titanic disaster as dataframe"
      ],
      "text/plain": [
       "<IPython.core.display.Markdown object>"
      ]
     },
     "metadata": {},
     "output_type": "display_data"
    },
    {
     "data": {
      "text/html": [
       "<div>\n",
       "<style scoped>\n",
       "    .dataframe tbody tr th:only-of-type {\n",
       "        vertical-align: middle;\n",
       "    }\n",
       "\n",
       "    .dataframe tbody tr th {\n",
       "        vertical-align: top;\n",
       "    }\n",
       "\n",
       "    .dataframe thead th {\n",
       "        text-align: right;\n",
       "    }\n",
       "</style>\n",
       "<table border=\"1\" class=\"dataframe\">\n",
       "  <thead>\n",
       "    <tr style=\"text-align: right;\">\n",
       "      <th></th>\n",
       "      <th>Sex</th>\n",
       "      <th>Condition</th>\n",
       "    </tr>\n",
       "  </thead>\n",
       "  <tbody>\n",
       "    <tr>\n",
       "      <th>0</th>\n",
       "      <td>Female</td>\n",
       "      <td>Survived</td>\n",
       "    </tr>\n",
       "    <tr>\n",
       "      <th>1</th>\n",
       "      <td>Male</td>\n",
       "      <td>Deceased</td>\n",
       "    </tr>\n",
       "    <tr>\n",
       "      <th>2</th>\n",
       "      <td>Female</td>\n",
       "      <td>Survived</td>\n",
       "    </tr>\n",
       "    <tr>\n",
       "      <th>3</th>\n",
       "      <td>Female</td>\n",
       "      <td>Survived</td>\n",
       "    </tr>\n",
       "    <tr>\n",
       "      <th>4</th>\n",
       "      <td>Female</td>\n",
       "      <td>Survived</td>\n",
       "    </tr>\n",
       "    <tr>\n",
       "      <th>...</th>\n",
       "      <td>...</td>\n",
       "      <td>...</td>\n",
       "    </tr>\n",
       "    <tr>\n",
       "      <th>909</th>\n",
       "      <td>Female</td>\n",
       "      <td>Survived</td>\n",
       "    </tr>\n",
       "    <tr>\n",
       "      <th>910</th>\n",
       "      <td>Female</td>\n",
       "      <td>Deceased</td>\n",
       "    </tr>\n",
       "    <tr>\n",
       "      <th>911</th>\n",
       "      <td>Male</td>\n",
       "      <td>Deceased</td>\n",
       "    </tr>\n",
       "    <tr>\n",
       "      <th>912</th>\n",
       "      <td>Male</td>\n",
       "      <td>Deceased</td>\n",
       "    </tr>\n",
       "    <tr>\n",
       "      <th>913</th>\n",
       "      <td>Male</td>\n",
       "      <td>Deceased</td>\n",
       "    </tr>\n",
       "  </tbody>\n",
       "</table>\n",
       "<p>914 rows × 2 columns</p>\n",
       "</div>"
      ],
      "text/plain": [
       "        Sex Condition\n",
       "0    Female  Survived\n",
       "1      Male  Deceased\n",
       "2    Female  Survived\n",
       "3    Female  Survived\n",
       "4    Female  Survived\n",
       "..      ...       ...\n",
       "909  Female  Survived\n",
       "910  Female  Deceased\n",
       "911    Male  Deceased\n",
       "912    Male  Deceased\n",
       "913    Male  Deceased\n",
       "\n",
       "[914 rows x 2 columns]"
      ]
     },
     "metadata": {},
     "output_type": "display_data"
    },
    {
     "data": {
      "text/markdown": [
       "##### Correlation between numeric variables"
      ],
      "text/plain": [
       "<IPython.core.display.Markdown object>"
      ]
     },
     "metadata": {},
     "output_type": "display_data"
    },
    {
     "data": {
      "text/html": [
       "<div>\n",
       "<style scoped>\n",
       "    .dataframe tbody tr th:only-of-type {\n",
       "        vertical-align: middle;\n",
       "    }\n",
       "\n",
       "    .dataframe tbody tr th {\n",
       "        vertical-align: top;\n",
       "    }\n",
       "\n",
       "    .dataframe thead th {\n",
       "        text-align: right;\n",
       "    }\n",
       "</style>\n",
       "<table border=\"1\" class=\"dataframe\">\n",
       "  <thead>\n",
       "    <tr style=\"text-align: right;\">\n",
       "      <th></th>\n",
       "    </tr>\n",
       "  </thead>\n",
       "  <tbody>\n",
       "  </tbody>\n",
       "</table>\n",
       "</div>"
      ],
      "text/plain": [
       "Empty DataFrame\n",
       "Columns: []\n",
       "Index: []"
      ]
     },
     "metadata": {},
     "output_type": "display_data"
    },
    {
     "data": {
      "text/markdown": [
       "##### Mutual information between categorical variables"
      ],
      "text/plain": [
       "<IPython.core.display.Markdown object>"
      ]
     },
     "metadata": {},
     "output_type": "display_data"
    },
    {
     "data": {
      "text/html": [
       "<div>\n",
       "<style scoped>\n",
       "    .dataframe tbody tr th:only-of-type {\n",
       "        vertical-align: middle;\n",
       "    }\n",
       "\n",
       "    .dataframe tbody tr th {\n",
       "        vertical-align: top;\n",
       "    }\n",
       "\n",
       "    .dataframe thead th {\n",
       "        text-align: right;\n",
       "    }\n",
       "</style>\n",
       "<table border=\"1\" class=\"dataframe\">\n",
       "  <thead>\n",
       "    <tr style=\"text-align: right;\">\n",
       "      <th></th>\n",
       "      <th>Sex</th>\n",
       "      <th>Condition</th>\n",
       "    </tr>\n",
       "  </thead>\n",
       "  <tbody>\n",
       "    <tr>\n",
       "      <th>Sex</th>\n",
       "      <td>0.646835</td>\n",
       "      <td>0.139673</td>\n",
       "    </tr>\n",
       "    <tr>\n",
       "      <th>Condition</th>\n",
       "      <td>0.139673</td>\n",
       "      <td>0.661143</td>\n",
       "    </tr>\n",
       "  </tbody>\n",
       "</table>\n",
       "</div>"
      ],
      "text/plain": [
       "                Sex Condition\n",
       "Sex        0.646835  0.139673\n",
       "Condition  0.139673  0.661143"
      ]
     },
     "metadata": {},
     "output_type": "display_data"
    },
    {
     "data": {
      "text/markdown": [
       "#### Testing column_relationships() with standard mixed dataframe"
      ],
      "text/plain": [
       "<IPython.core.display.Markdown object>"
      ]
     },
     "metadata": {},
     "output_type": "display_data"
    },
    {
     "data": {
      "text/html": [
       "<div>\n",
       "<style scoped>\n",
       "    .dataframe tbody tr th:only-of-type {\n",
       "        vertical-align: middle;\n",
       "    }\n",
       "\n",
       "    .dataframe tbody tr th {\n",
       "        vertical-align: top;\n",
       "    }\n",
       "\n",
       "    .dataframe thead th {\n",
       "        text-align: right;\n",
       "    }\n",
       "</style>\n",
       "<table border=\"1\" class=\"dataframe\">\n",
       "  <thead>\n",
       "    <tr style=\"text-align: right;\">\n",
       "      <th></th>\n",
       "      <th>A</th>\n",
       "      <th>B</th>\n",
       "      <th>C</th>\n",
       "      <th>D</th>\n",
       "      <th>E</th>\n",
       "      <th>F</th>\n",
       "      <th>G</th>\n",
       "    </tr>\n",
       "  </thead>\n",
       "  <tbody>\n",
       "    <tr>\n",
       "      <th>0</th>\n",
       "      <td>1</td>\n",
       "      <td>True</td>\n",
       "      <td>4.5</td>\n",
       "      <td>a</td>\n",
       "      <td>0.10</td>\n",
       "      <td>False</td>\n",
       "      <td>4.5</td>\n",
       "    </tr>\n",
       "    <tr>\n",
       "      <th>1</th>\n",
       "      <td>1</td>\n",
       "      <td>True</td>\n",
       "      <td>5.5</td>\n",
       "      <td>a</td>\n",
       "      <td>0.40</td>\n",
       "      <td>True</td>\n",
       "      <td>5.5</td>\n",
       "    </tr>\n",
       "    <tr>\n",
       "      <th>2</th>\n",
       "      <td>1</td>\n",
       "      <td>True</td>\n",
       "      <td>6.5</td>\n",
       "      <td>a</td>\n",
       "      <td>0.35</td>\n",
       "      <td>False</td>\n",
       "      <td>6.5</td>\n",
       "    </tr>\n",
       "    <tr>\n",
       "      <th>3</th>\n",
       "      <td>3</td>\n",
       "      <td>False</td>\n",
       "      <td>5.5</td>\n",
       "      <td>c</td>\n",
       "      <td>0.80</td>\n",
       "      <td>True</td>\n",
       "      <td>6.5</td>\n",
       "    </tr>\n",
       "    <tr>\n",
       "      <th>4</th>\n",
       "      <td>3</td>\n",
       "      <td>False</td>\n",
       "      <td>6.5</td>\n",
       "      <td>c</td>\n",
       "      <td>0.50</td>\n",
       "      <td>True</td>\n",
       "      <td>6.5</td>\n",
       "    </tr>\n",
       "  </tbody>\n",
       "</table>\n",
       "</div>"
      ],
      "text/plain": [
       "   A      B    C  D     E      F    G\n",
       "0  1   True  4.5  a  0.10  False  4.5\n",
       "1  1   True  5.5  a  0.40   True  5.5\n",
       "2  1   True  6.5  a  0.35  False  6.5\n",
       "3  3  False  5.5  c  0.80   True  6.5\n",
       "4  3  False  6.5  c  0.50   True  6.5"
      ]
     },
     "metadata": {},
     "output_type": "display_data"
    },
    {
     "data": {
      "text/markdown": [
       "##### Correlation between numeric variables"
      ],
      "text/plain": [
       "<IPython.core.display.Markdown object>"
      ]
     },
     "metadata": {},
     "output_type": "display_data"
    },
    {
     "data": {
      "text/html": [
       "<div>\n",
       "<style scoped>\n",
       "    .dataframe tbody tr th:only-of-type {\n",
       "        vertical-align: middle;\n",
       "    }\n",
       "\n",
       "    .dataframe tbody tr th {\n",
       "        vertical-align: top;\n",
       "    }\n",
       "\n",
       "    .dataframe thead th {\n",
       "        text-align: right;\n",
       "    }\n",
       "</style>\n",
       "<table border=\"1\" class=\"dataframe\">\n",
       "  <thead>\n",
       "    <tr style=\"text-align: right;\">\n",
       "      <th></th>\n",
       "      <th>C</th>\n",
       "      <th>E</th>\n",
       "      <th>G</th>\n",
       "    </tr>\n",
       "  </thead>\n",
       "  <tbody>\n",
       "    <tr>\n",
       "      <th>C</th>\n",
       "      <td>1</td>\n",
       "      <td>0.376497</td>\n",
       "      <td>0.868599</td>\n",
       "    </tr>\n",
       "    <tr>\n",
       "      <th>E</th>\n",
       "      <td>0.376497</td>\n",
       "      <td>1</td>\n",
       "      <td>0.759389</td>\n",
       "    </tr>\n",
       "    <tr>\n",
       "      <th>G</th>\n",
       "      <td>0.868599</td>\n",
       "      <td>0.759389</td>\n",
       "      <td>1</td>\n",
       "    </tr>\n",
       "  </tbody>\n",
       "</table>\n",
       "</div>"
      ],
      "text/plain": [
       "          C         E         G\n",
       "C         1  0.376497  0.868599\n",
       "E  0.376497         1  0.759389\n",
       "G  0.868599  0.759389         1"
      ]
     },
     "metadata": {},
     "output_type": "display_data"
    },
    {
     "data": {
      "text/markdown": [
       "##### Mutual information between categorical variables"
      ],
      "text/plain": [
       "<IPython.core.display.Markdown object>"
      ]
     },
     "metadata": {},
     "output_type": "display_data"
    },
    {
     "data": {
      "text/html": [
       "<div>\n",
       "<style scoped>\n",
       "    .dataframe tbody tr th:only-of-type {\n",
       "        vertical-align: middle;\n",
       "    }\n",
       "\n",
       "    .dataframe tbody tr th {\n",
       "        vertical-align: top;\n",
       "    }\n",
       "\n",
       "    .dataframe thead th {\n",
       "        text-align: right;\n",
       "    }\n",
       "</style>\n",
       "<table border=\"1\" class=\"dataframe\">\n",
       "  <thead>\n",
       "    <tr style=\"text-align: right;\">\n",
       "      <th></th>\n",
       "      <th>A</th>\n",
       "      <th>B</th>\n",
       "      <th>D</th>\n",
       "      <th>F</th>\n",
       "    </tr>\n",
       "  </thead>\n",
       "  <tbody>\n",
       "    <tr>\n",
       "      <th>A</th>\n",
       "      <td>0.673012</td>\n",
       "      <td>0.673012</td>\n",
       "      <td>0.673012</td>\n",
       "      <td>0.291103</td>\n",
       "    </tr>\n",
       "    <tr>\n",
       "      <th>B</th>\n",
       "      <td>0.673012</td>\n",
       "      <td>0.673012</td>\n",
       "      <td>0.673012</td>\n",
       "      <td>0.291103</td>\n",
       "    </tr>\n",
       "    <tr>\n",
       "      <th>D</th>\n",
       "      <td>0.673012</td>\n",
       "      <td>0.673012</td>\n",
       "      <td>0.673012</td>\n",
       "      <td>0.291103</td>\n",
       "    </tr>\n",
       "    <tr>\n",
       "      <th>F</th>\n",
       "      <td>0.291103</td>\n",
       "      <td>0.291103</td>\n",
       "      <td>0.291103</td>\n",
       "      <td>0.673012</td>\n",
       "    </tr>\n",
       "  </tbody>\n",
       "</table>\n",
       "</div>"
      ],
      "text/plain": [
       "          A         B         D         F\n",
       "A  0.673012  0.673012  0.673012  0.291103\n",
       "B  0.673012  0.673012  0.673012  0.291103\n",
       "D  0.673012  0.673012  0.673012  0.291103\n",
       "F  0.291103  0.291103  0.291103  0.673012"
      ]
     },
     "metadata": {},
     "output_type": "display_data"
    }
   ],
   "source": [
    "test = 'example data from the HMS Titanic disaster as dataframe'; \n",
    "fcn = 'column_relationships'; \n",
    "display(Markdown(f\"#### Testing {fcn}() with {test}\"))\n",
    "display(sp.titanic_df)\n",
    "correlation_df, mutual_information_df = sp.column_relationships(sp.titanic_df)\n",
    "display(Markdown(f\"##### Correlation between numeric variables\"))\n",
    "display(correlation_df)\n",
    "display(Markdown(f\"##### Mutual information between categorical variables\"))\n",
    "display(mutual_information_df)\n",
    "\n",
    "test = 'standard mixed dataframe'; \n",
    "fcn = 'column_relationships'; \n",
    "display(Markdown(f\"#### Testing {fcn}() with {test}\"))\n",
    "display(sp.std_mixed_df)\n",
    "correlation_df,mutual_information_df = sp.column_relationships(sp.std_mixed_df)\n",
    "display(Markdown(f\"##### Correlation between numeric variables\"))\n",
    "display(correlation_df)\n",
    "display(Markdown(f\"##### Mutual information between categorical variables\"))\n",
    "display(mutual_information_df)\n"
   ]
  },
  {
   "cell_type": "markdown",
   "metadata": {},
   "source": [
    "### Plots for the AUC and correlation/mutual information matrices\n",
    "\n",
    "*Plots para el AUC y para las matrices de correlación/información mutua.*\n"
   ]
  },
  {
   "cell_type": "code",
   "execution_count": null,
   "metadata": {},
   "outputs": [
    {
     "data": {
      "text/markdown": [
       "#### Testing plot_roc_auc() with ROC AUC curve, auc_1p0_df dataset"
      ],
      "text/plain": [
       "<IPython.core.display.Markdown object>"
      ]
     },
     "metadata": {},
     "output_type": "display_data"
    },
    {
     "data": {
      "image/png": "[encoded data removed]",
      "text/plain": [
       "<Figure size 640x480 with 1 Axes>"
      ]
     },
     "metadata": {},
     "output_type": "display_data"
    },
    {
     "data": {
      "text/markdown": [
       "#### Testing plot_roc_auc() with ROC AUC curve, auc_0p75_df dataset"
      ],
      "text/plain": [
       "<IPython.core.display.Markdown object>"
      ]
     },
     "metadata": {},
     "output_type": "display_data"
    },
    {
     "data": {
      "image/png": "[encoded data removed]",
      "text/plain": [
       "<Figure size 640x480 with 1 Axes>"
      ]
     },
     "metadata": {},
     "output_type": "display_data"
    }
   ],
   "source": [
    "test = 'ROC AUC curve, auc_1p0_df dataset'; \n",
    "fcn = 'plot_roc_auc'; \n",
    "display(Markdown(f\"#### Testing {fcn}() with {test}\"))\n",
    "ROC_fpr, ROC_tpr, AUC = sp.calculate_roc_auc(sp.auc_1p0_df)\n",
    "sp.plot_roc_auc(ROC_fpr, ROC_tpr, AUC)\n",
    "\n",
    "test = 'ROC AUC curve, auc_0p75_df dataset'; \n",
    "fcn = 'plot_roc_auc'; \n",
    "display(Markdown(f\"#### Testing {fcn}() with {test}\"))\n",
    "ROC_fpr, ROC_tpr, AUC = sp.calculate_roc_auc(sp.auc_0p75_df)\n",
    "sp.plot_roc_auc(ROC_fpr, ROC_tpr, AUC)\n"
   ]
  },
  {
   "cell_type": "code",
   "execution_count": null,
   "metadata": {},
   "outputs": [
    {
     "data": {
      "text/markdown": [
       "#### Testing plot_relationships() with dataset from the HMS Titanic"
      ],
      "text/plain": [
       "<IPython.core.display.Markdown object>"
      ]
     },
     "metadata": {},
     "output_type": "display_data"
    },
    {
     "data": {
      "image/png": "[encoded data removed]",
      "text/plain": [
       "<Figure size 800x600 with 2 Axes>"
      ]
     },
     "metadata": {},
     "output_type": "display_data"
    },
    {
     "data": {
      "text/markdown": [
       "#### Testing plot_relationships() with standard mixed df"
      ],
      "text/plain": [
       "<IPython.core.display.Markdown object>"
      ]
     },
     "metadata": {},
     "output_type": "display_data"
    },
    {
     "data": {
      "image/png": "[encoded data removed]",
      "text/plain": [
       "<Figure size 800x600 with 2 Axes>"
      ]
     },
     "metadata": {},
     "output_type": "display_data"
    },
    {
     "data": {
      "image/png": "[encoded data removed]",
      "text/plain": [
       "<Figure size 800x600 with 2 Axes>"
      ]
     },
     "metadata": {},
     "output_type": "display_data"
    }
   ],
   "source": [
    "test = 'dataset from the HMS Titanic'; \n",
    "fcn = 'plot_relationships'; \n",
    "display(Markdown(f\"#### Testing {fcn}() with {test}\"))\n",
    "\n",
    "correlation_df,mutual_information_df=sp.column_relationships(sp.titanic_df)\n",
    "sp.plot_relationships(mutual_information_df, \n",
    "                      title='Mutual information in the ' + test)\n",
    "\n",
    "test = 'standard mixed df'; \n",
    "fcn = 'plot_relationships'; \n",
    "display(Markdown(f\"#### Testing {fcn}() with {test}\"))\n",
    "\n",
    "correlation_df,mutual_information_df=sp.column_relationships(sp.std_mixed_df)\n",
    "sp.plot_relationships(correlation_df, \n",
    "                        title='Correlation, numerical vars, ' + test)\n",
    "sp.plot_relationships(mutual_information_df, \n",
    "                        title='Mutual information, categorical vars, ' + test)"
   ]
  }
 ],
 "metadata": {
  "kernelspec": {
   "display_name": "Python 3 (ipykernel)",
   "language": "python",
   "name": "python3"
  },
  "language_info": {
   "codemirror_mode": {
    "name": "ipython",
    "version": 3
   },
   "file_extension": ".py",
   "mimetype": "text/x-python",
   "name": "python",
   "nbconvert_exporter": "python",
   "pygments_lexer": "ipython3",
   "version": "3.13.0"
  }
 },
 "nbformat": 4,
 "nbformat_minor": 2
}
