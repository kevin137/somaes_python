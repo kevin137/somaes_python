{
 "cells": [
  {
   "cell_type": "markdown",
   "metadata": {},
   "source": [
    "# Proyecto Final - Python - Software matemático y estadístico\n",
    "\n",
    "*Kevin Cook, 2024-11-03*"
   ]
  },
  {
   "cell_type": "markdown",
   "metadata": {},
   "source": [
    "## Introduction\n",
    "\n",
    "*Atención: este notebook de Jupyter contiene las mismas demostraciones que el \n",
    "notebook principal SoMaEs_Projecto_Final_Python_Kevin_Cook_v37.ipynb, pero con \n",
    "las funciones y datasets movidos a un paquete instalable (somaes_python).*\n",
    "\n",
    "Python es el lenguaje de programación que utilizo más habitualmente para \n",
    "proyectos en mi vida profesional y personal. Hasta hace unos años, nunca lo \n",
    "había utilizado en un entorno de data science o machine learning. Entonces, a \n",
    "partir de unos cursos online, conocí la pila Numpy/Pandas/Jupyer, y ahora en \n",
    "el programa KISA, lo utilizamos para la mayoría de nuestros proyectos. Este \n",
    "notebook es el documento principal que demuestra mi implementación de las \n",
    "funciones requeridas en Python.\n",
    "\n",
    "Mi approach para este curso fue desarrollar las implementaciones de las \n",
    "funciones Python y R simultáneamente, o casi. Sentí que esto me permitía \n",
    "enterarme de los puntos fuertes y débiles de cada plataforma, y decidir cuál \n",
    "preferiría utilizar en futuros proyectos en los que tuviera flexibilidad para \n",
    "hacerlo. Las implementaciones de han resultado ser muy similares, con la \n",
    "excepción de un uso intensivo de tuples en Python (que no existen en R), y el \n",
    "tipo de datos categorical explícito en R, que he intentado incluir siempre que \n",
    "he podido. Nótese que he tomado la decisión de diseño de considerar siempre \n",
    "variables integers como datos categoricos (en ambas implementaciones) en \n",
    "cualquier contexto en el que pudieran ser interpretarse como tales. Mi \n",
    "razonamiento para esto fue que las variables integer pueden se pueden \n",
    "convertir en floats si no quiero que sean categóricas."
   ]
  },
  {
   "cell_type": "markdown",
   "metadata": {},
   "source": [
    "### Libraries and global options"
   ]
  },
  {
   "cell_type": "code",
   "execution_count": 15,
   "metadata": {},
   "outputs": [],
   "source": [
    "import somaes_python as sp\n",
    "import numpy as np\n",
    "import pandas as pd\n",
    "from IPython.display import display, Markdown"
   ]
  },
  {
   "cell_type": "markdown",
   "metadata": {},
   "source": [
    "## Functions to be implemented\n",
    "\n",
    "### Discretization algorithms\n",
    "\n",
    "*Algoritmos de discretización para un solo atributo y para un dataset completo (ambas opciones): Igual frecuencia e igual anchura*"
   ]
  },
  {
   "cell_type": "code",
   "execution_count": 16,
   "metadata": {},
   "outputs": [
    {
     "data": {
      "text/markdown": [
       "#### Testing discretizeEW() with example vector from P03 exercises"
      ],
      "text/plain": [
       "<IPython.core.display.Markdown object>"
      ]
     },
     "metadata": {},
     "output_type": "display_data"
    },
    {
     "name": "stdout",
     "output_type": "stream",
     "text": [
      "  p03_desc_values:[11.5 10.2  1.2  0.5  5.3 20.5  8.4] \n",
      "  num_cut:4\n",
      "  discretized into 4 bins with EW \n",
      "     ['I3:(10.5,15.5)', 'I2:(5.5,10.5)', 'I1:(-Inf,5.5)', 'I1:(-Inf,5.5)', 'I1:(-Inf,5.5)', 'I4:(15.5,+Inf)', 'I2:(5.5,10.5)']\n",
      "  cut_points: \n",
      "     [ 5.5 10.5 15.5]\n"
     ]
    },
    {
     "data": {
      "text/markdown": [
       "#### Testing discretizeEF() with example vector from P03 exercises"
      ],
      "text/plain": [
       "<IPython.core.display.Markdown object>"
      ]
     },
     "metadata": {},
     "output_type": "display_data"
    },
    {
     "name": "stdout",
     "output_type": "stream",
     "text": [
      "  p03_desc_values:[11.5 10.2  1.2  0.5  5.3 20.5  8.4] \n",
      "  num_cut:4\n",
      "  discretized into 4 bins with EF \n",
      "     ['I4:(10.85,+Inf)', 'I3:(9.3,10.85)', 'I1:(-Inf,3.25)', 'I1:(-Inf,3.25)', 'I2:(3.25,9.3)', 'I4:(10.85,+Inf)', 'I2:(3.25,9.3)']\n",
      "  cut_points: \n",
      "     [ 3.25  9.3  10.85]\n"
     ]
    },
    {
     "data": {
      "text/markdown": [
       "#### Testing discretizeEF() with larger vector generated at random"
      ],
      "text/plain": [
       "<IPython.core.display.Markdown object>"
      ]
     },
     "metadata": {},
     "output_type": "display_data"
    },
    {
     "name": "stdout",
     "output_type": "stream",
     "text": [
      "  random_values:\n",
      " [20.44588511 16.02441513 18.12754515  7.24197531 23.86460012  4.31669908\n",
      "  0.75349885  6.30265275 23.10572304 13.58709444 24.70989751  6.35508486\n",
      " 15.5109647   7.4004298  12.76724022  6.21615706 14.11345661 15.07516265\n",
      "  8.72134301 17.25705848 16.51369794  6.79148261  2.15481381 16.34146677\n",
      "  6.60494479  4.14740036 17.15300018 19.44548579  2.8835065  13.68023183\n",
      "  8.89487613 22.90330338 20.78173147  4.42528677 23.72158698 17.15036316\n",
      " 22.32407987 19.58158916 24.02913739  1.588488   11.92864038 23.63363236\n",
      " 21.79005815  4.60177759 11.33403364  1.82499834 23.31257737 15.52997145\n",
      " 17.69599224 16.09522024]\n",
      "  num_cut: 7\n",
      "  discretized into 7 bins with EW \n",
      "    ['I6:(18.787,23.005)', 'I4:(13.634,16.218)', 'I5:(16.218,18.787)', 'I2:(4.514,7.321)', 'I7:(23.005,+Inf)', 'I1:(-Inf,4.514)', 'I1:(-Inf,4.514)', 'I2:(4.514,7.321)', 'I7:(23.005,+Inf)', 'I3:(7.321,13.634)', 'I7:(23.005,+Inf)', 'I2:(4.514,7.321)', 'I4:(13.634,16.218)', 'I3:(7.321,13.634)', 'I3:(7.321,13.634)', 'I2:(4.514,7.321)', 'I4:(13.634,16.218)', 'I4:(13.634,16.218)', 'I3:(7.321,13.634)', 'I5:(16.218,18.787)', 'I5:(16.218,18.787)', 'I2:(4.514,7.321)', 'I1:(-Inf,4.514)', 'I5:(16.218,18.787)', 'I2:(4.514,7.321)', 'I1:(-Inf,4.514)', 'I5:(16.218,18.787)', 'I6:(18.787,23.005)', 'I1:(-Inf,4.514)', 'I4:(13.634,16.218)', 'I3:(7.321,13.634)', 'I6:(18.787,23.005)', 'I6:(18.787,23.005)', 'I1:(-Inf,4.514)', 'I7:(23.005,+Inf)', 'I5:(16.218,18.787)', 'I6:(18.787,23.005)', 'I6:(18.787,23.005)', 'I7:(23.005,+Inf)', 'I1:(-Inf,4.514)', 'I3:(7.321,13.634)', 'I7:(23.005,+Inf)', 'I6:(18.787,23.005)', 'I2:(4.514,7.321)', 'I3:(7.321,13.634)', 'I1:(-Inf,4.514)', 'I7:(23.005,+Inf)', 'I4:(13.634,16.218)', 'I5:(16.218,18.787)', 'I4:(13.634,16.218)']\n",
      "  cut_points: \n",
      "    [ 4.51353218  7.32120256 13.63366314 16.2183435  18.78651547 23.00451321]\n",
      "\n"
     ]
    }
   ],
   "source": [
    "test = 'example vector from P03 exercises'; fcn = 'discretizeEW'; \n",
    "display(Markdown(f\"#### Testing {fcn}() with {test}\"))\n",
    "print(f'  p03_desc_values:{sp.p03_disc_values} \\n  num_cut:{sp.p03_disc_bins}')\n",
    "ex_disc, ex_points = sp.discretizeEW(sp.p03_disc_values, sp.p03_disc_bins)\n",
    "print('  discretized into 4 bins with EW \\n    ', ex_disc)\n",
    "print('  cut_points: \\n    ', ex_points )\n",
    "\n",
    "test = 'example vector from P03 exercises'; fcn = 'discretizeEF'; \n",
    "display(Markdown(f\"#### Testing {fcn}() with {test}\"))\n",
    "print(f'  p03_desc_values:{sp.p03_disc_values} \\n  num_cut:{sp.p03_disc_bins}')\n",
    "ex_disc, ex_points = sp.discretizeEF(sp.p03_disc_values, sp.p03_disc_bins)\n",
    "print('  discretized into 4 bins with EF \\n    ', ex_disc)\n",
    "print('  cut_points: \\n    ', ex_points )\n",
    "\n",
    "test = 'larger vector generated at random'; fcn = 'discretizeEF'; \n",
    "display(Markdown(f\"#### Testing {fcn}() with {test}\"))\n",
    "random_values = np.random.uniform(low=0.0, high=25.0, size=50)\n",
    "num_cut = 7\n",
    "print(f'  random_values:\\n {random_values}\\n  num_cut: {num_cut}')\n",
    "ex_discretized, ex_cut_points = sp.discretizeEF(random_values, num_cut)\n",
    "print(f'  discretized into {num_cut} bins with EW \\n    {ex_discretized}',)\n",
    "print(f'  cut_points: \\n    {ex_cut_points}')\n",
    "print('')"
   ]
  },
  {
   "cell_type": "code",
   "execution_count": 17,
   "metadata": {},
   "outputs": [
    {
     "data": {
      "text/markdown": [
       "#### Testing discretize_EW_by_column() with random data, multiple columns"
      ],
      "text/plain": [
       "<IPython.core.display.Markdown object>"
      ]
     },
     "metadata": {},
     "output_type": "display_data"
    },
    {
     "data": {
      "text/html": [
       "<div>\n",
       "<style scoped>\n",
       "    .dataframe tbody tr th:only-of-type {\n",
       "        vertical-align: middle;\n",
       "    }\n",
       "\n",
       "    .dataframe tbody tr th {\n",
       "        vertical-align: top;\n",
       "    }\n",
       "\n",
       "    .dataframe thead th {\n",
       "        text-align: right;\n",
       "    }\n",
       "</style>\n",
       "<table border=\"1\" class=\"dataframe\">\n",
       "  <thead>\n",
       "    <tr style=\"text-align: right;\">\n",
       "      <th></th>\n",
       "      <th>A_EW</th>\n",
       "      <th>B_EW</th>\n",
       "      <th>C_EW</th>\n",
       "    </tr>\n",
       "  </thead>\n",
       "  <tbody>\n",
       "    <tr>\n",
       "      <th>0</th>\n",
       "      <td>I6:(55.125,65.75)</td>\n",
       "      <td>I1:(-Inf,22.375)</td>\n",
       "      <td>I5:(196.5,219.625)</td>\n",
       "    </tr>\n",
       "    <tr>\n",
       "      <th>1</th>\n",
       "      <td>I1:(-Inf,12.625)</td>\n",
       "      <td>I4:(65.125,86.5)</td>\n",
       "      <td>I2:(127.125,150.25)</td>\n",
       "    </tr>\n",
       "    <tr>\n",
       "      <th>2</th>\n",
       "      <td>I6:(55.125,65.75)</td>\n",
       "      <td>I8:(150.625,+Inf)</td>\n",
       "      <td>I8:(265.875,+Inf)</td>\n",
       "    </tr>\n",
       "    <tr>\n",
       "      <th>3</th>\n",
       "      <td>I3:(23.25,33.875)</td>\n",
       "      <td>I6:(107.875,129.25)</td>\n",
       "      <td>I3:(150.25,173.375)</td>\n",
       "    </tr>\n",
       "    <tr>\n",
       "      <th>4</th>\n",
       "      <td>I7:(65.75,76.375)</td>\n",
       "      <td>I4:(65.125,86.5)</td>\n",
       "      <td>I8:(265.875,+Inf)</td>\n",
       "    </tr>\n",
       "    <tr>\n",
       "      <th>5</th>\n",
       "      <td>I1:(-Inf,12.625)</td>\n",
       "      <td>I6:(107.875,129.25)</td>\n",
       "      <td>I1:(-Inf,127.125)</td>\n",
       "    </tr>\n",
       "    <tr>\n",
       "      <th>6</th>\n",
       "      <td>I8:(76.375,+Inf)</td>\n",
       "      <td>I8:(150.625,+Inf)</td>\n",
       "      <td>I3:(150.25,173.375)</td>\n",
       "    </tr>\n",
       "    <tr>\n",
       "      <th>7</th>\n",
       "      <td>I2:(12.625,23.25)</td>\n",
       "      <td>I8:(150.625,+Inf)</td>\n",
       "      <td>I2:(127.125,150.25)</td>\n",
       "    </tr>\n",
       "    <tr>\n",
       "      <th>8</th>\n",
       "      <td>I1:(-Inf,12.625)</td>\n",
       "      <td>I8:(150.625,+Inf)</td>\n",
       "      <td>I7:(242.75,265.875)</td>\n",
       "    </tr>\n",
       "    <tr>\n",
       "      <th>9</th>\n",
       "      <td>I4:(33.875,44.5)</td>\n",
       "      <td>I4:(65.125,86.5)</td>\n",
       "      <td>I3:(150.25,173.375)</td>\n",
       "    </tr>\n",
       "  </tbody>\n",
       "</table>\n",
       "</div>"
      ],
      "text/plain": [
       "                A_EW                 B_EW                 C_EW\n",
       "0  I6:(55.125,65.75)     I1:(-Inf,22.375)   I5:(196.5,219.625)\n",
       "1   I1:(-Inf,12.625)     I4:(65.125,86.5)  I2:(127.125,150.25)\n",
       "2  I6:(55.125,65.75)    I8:(150.625,+Inf)    I8:(265.875,+Inf)\n",
       "3  I3:(23.25,33.875)  I6:(107.875,129.25)  I3:(150.25,173.375)\n",
       "4  I7:(65.75,76.375)     I4:(65.125,86.5)    I8:(265.875,+Inf)\n",
       "5   I1:(-Inf,12.625)  I6:(107.875,129.25)    I1:(-Inf,127.125)\n",
       "6   I8:(76.375,+Inf)    I8:(150.625,+Inf)  I3:(150.25,173.375)\n",
       "7  I2:(12.625,23.25)    I8:(150.625,+Inf)  I2:(127.125,150.25)\n",
       "8   I1:(-Inf,12.625)    I8:(150.625,+Inf)  I7:(242.75,265.875)\n",
       "9   I4:(33.875,44.5)     I4:(65.125,86.5)  I3:(150.25,173.375)"
      ]
     },
     "metadata": {},
     "output_type": "display_data"
    },
    {
     "data": {
      "text/markdown": [
       "#### Testing discretize_EW_by_column() with random data, multiple columns, keeping originals"
      ],
      "text/plain": [
       "<IPython.core.display.Markdown object>"
      ]
     },
     "metadata": {},
     "output_type": "display_data"
    },
    {
     "data": {
      "text/html": [
       "<div>\n",
       "<style scoped>\n",
       "    .dataframe tbody tr th:only-of-type {\n",
       "        vertical-align: middle;\n",
       "    }\n",
       "\n",
       "    .dataframe tbody tr th {\n",
       "        vertical-align: top;\n",
       "    }\n",
       "\n",
       "    .dataframe thead th {\n",
       "        text-align: right;\n",
       "    }\n",
       "</style>\n",
       "<table border=\"1\" class=\"dataframe\">\n",
       "  <thead>\n",
       "    <tr style=\"text-align: right;\">\n",
       "      <th></th>\n",
       "      <th>A</th>\n",
       "      <th>A_EW</th>\n",
       "      <th>B</th>\n",
       "      <th>B_EW</th>\n",
       "      <th>C</th>\n",
       "      <th>C_EW</th>\n",
       "    </tr>\n",
       "  </thead>\n",
       "  <tbody>\n",
       "    <tr>\n",
       "      <th>0</th>\n",
       "      <td>56</td>\n",
       "      <td>I6:(55.125,65.75)</td>\n",
       "      <td>1</td>\n",
       "      <td>I1:(-Inf,22.375)</td>\n",
       "      <td>197</td>\n",
       "      <td>I5:(196.5,219.625)</td>\n",
       "    </tr>\n",
       "    <tr>\n",
       "      <th>1</th>\n",
       "      <td>10</td>\n",
       "      <td>I1:(-Inf,12.625)</td>\n",
       "      <td>80</td>\n",
       "      <td>I4:(65.125,86.5)</td>\n",
       "      <td>135</td>\n",
       "      <td>I2:(127.125,150.25)</td>\n",
       "    </tr>\n",
       "    <tr>\n",
       "      <th>2</th>\n",
       "      <td>61</td>\n",
       "      <td>I6:(55.125,65.75)</td>\n",
       "      <td>161</td>\n",
       "      <td>I8:(150.625,+Inf)</td>\n",
       "      <td>288</td>\n",
       "      <td>I8:(265.875,+Inf)</td>\n",
       "    </tr>\n",
       "    <tr>\n",
       "      <th>3</th>\n",
       "      <td>32</td>\n",
       "      <td>I3:(23.25,33.875)</td>\n",
       "      <td>121</td>\n",
       "      <td>I6:(107.875,129.25)</td>\n",
       "      <td>160</td>\n",
       "      <td>I3:(150.25,173.375)</td>\n",
       "    </tr>\n",
       "    <tr>\n",
       "      <th>4</th>\n",
       "      <td>71</td>\n",
       "      <td>I7:(65.75,76.375)</td>\n",
       "      <td>69</td>\n",
       "      <td>I4:(65.125,86.5)</td>\n",
       "      <td>289</td>\n",
       "      <td>I8:(265.875,+Inf)</td>\n",
       "    </tr>\n",
       "    <tr>\n",
       "      <th>5</th>\n",
       "      <td>2</td>\n",
       "      <td>I1:(-Inf,12.625)</td>\n",
       "      <td>121</td>\n",
       "      <td>I6:(107.875,129.25)</td>\n",
       "      <td>104</td>\n",
       "      <td>I1:(-Inf,127.125)</td>\n",
       "    </tr>\n",
       "    <tr>\n",
       "      <th>6</th>\n",
       "      <td>87</td>\n",
       "      <td>I8:(76.375,+Inf)</td>\n",
       "      <td>172</td>\n",
       "      <td>I8:(150.625,+Inf)</td>\n",
       "      <td>154</td>\n",
       "      <td>I3:(150.25,173.375)</td>\n",
       "    </tr>\n",
       "    <tr>\n",
       "      <th>7</th>\n",
       "      <td>23</td>\n",
       "      <td>I2:(12.625,23.25)</td>\n",
       "      <td>158</td>\n",
       "      <td>I8:(150.625,+Inf)</td>\n",
       "      <td>137</td>\n",
       "      <td>I2:(127.125,150.25)</td>\n",
       "    </tr>\n",
       "    <tr>\n",
       "      <th>8</th>\n",
       "      <td>9</td>\n",
       "      <td>I1:(-Inf,12.625)</td>\n",
       "      <td>169</td>\n",
       "      <td>I8:(150.625,+Inf)</td>\n",
       "      <td>254</td>\n",
       "      <td>I7:(242.75,265.875)</td>\n",
       "    </tr>\n",
       "    <tr>\n",
       "      <th>9</th>\n",
       "      <td>43</td>\n",
       "      <td>I4:(33.875,44.5)</td>\n",
       "      <td>66</td>\n",
       "      <td>I4:(65.125,86.5)</td>\n",
       "      <td>168</td>\n",
       "      <td>I3:(150.25,173.375)</td>\n",
       "    </tr>\n",
       "  </tbody>\n",
       "</table>\n",
       "</div>"
      ],
      "text/plain": [
       "    A               A_EW    B                 B_EW    C                 C_EW\n",
       "0  56  I6:(55.125,65.75)    1     I1:(-Inf,22.375)  197   I5:(196.5,219.625)\n",
       "1  10   I1:(-Inf,12.625)   80     I4:(65.125,86.5)  135  I2:(127.125,150.25)\n",
       "2  61  I6:(55.125,65.75)  161    I8:(150.625,+Inf)  288    I8:(265.875,+Inf)\n",
       "3  32  I3:(23.25,33.875)  121  I6:(107.875,129.25)  160  I3:(150.25,173.375)\n",
       "4  71  I7:(65.75,76.375)   69     I4:(65.125,86.5)  289    I8:(265.875,+Inf)\n",
       "5   2   I1:(-Inf,12.625)  121  I6:(107.875,129.25)  104    I1:(-Inf,127.125)\n",
       "6  87   I8:(76.375,+Inf)  172    I8:(150.625,+Inf)  154  I3:(150.25,173.375)\n",
       "7  23  I2:(12.625,23.25)  158    I8:(150.625,+Inf)  137  I2:(127.125,150.25)\n",
       "8   9   I1:(-Inf,12.625)  169    I8:(150.625,+Inf)  254  I7:(242.75,265.875)\n",
       "9  43   I4:(33.875,44.5)   66     I4:(65.125,86.5)  168  I3:(150.25,173.375)"
      ]
     },
     "metadata": {},
     "output_type": "display_data"
    },
    {
     "data": {
      "text/markdown": [
       "#### Testing discretize_EF_by_column() with random data, multiple columns"
      ],
      "text/plain": [
       "<IPython.core.display.Markdown object>"
      ]
     },
     "metadata": {},
     "output_type": "display_data"
    },
    {
     "data": {
      "text/html": [
       "<div>\n",
       "<style scoped>\n",
       "    .dataframe tbody tr th:only-of-type {\n",
       "        vertical-align: middle;\n",
       "    }\n",
       "\n",
       "    .dataframe tbody tr th {\n",
       "        vertical-align: top;\n",
       "    }\n",
       "\n",
       "    .dataframe thead th {\n",
       "        text-align: right;\n",
       "    }\n",
       "</style>\n",
       "<table border=\"1\" class=\"dataframe\">\n",
       "  <thead>\n",
       "    <tr style=\"text-align: right;\">\n",
       "      <th></th>\n",
       "      <th>A_EF</th>\n",
       "      <th>B_EF</th>\n",
       "      <th>C_EF</th>\n",
       "    </tr>\n",
       "  </thead>\n",
       "  <tbody>\n",
       "    <tr>\n",
       "      <th>0</th>\n",
       "      <td>I6:(49.5,58.5)</td>\n",
       "      <td>I1:(-Inf,33.5)</td>\n",
       "      <td>I6:(182.5,271.0)</td>\n",
       "    </tr>\n",
       "    <tr>\n",
       "      <th>1</th>\n",
       "      <td>I3:(9.5,27.5)</td>\n",
       "      <td>I3:(74.5,100.5)</td>\n",
       "      <td>I2:(119.5,145.5)</td>\n",
       "    </tr>\n",
       "    <tr>\n",
       "      <th>2</th>\n",
       "      <td>I7:(58.5,79.0)</td>\n",
       "      <td>I7:(159.5,165.0)</td>\n",
       "      <td>I7:(271.0,288.5)</td>\n",
       "    </tr>\n",
       "    <tr>\n",
       "      <th>3</th>\n",
       "      <td>I4:(27.5,37.5)</td>\n",
       "      <td>I5:(121.0,139.5)</td>\n",
       "      <td>I4:(157.0,164.0)</td>\n",
       "    </tr>\n",
       "    <tr>\n",
       "      <th>4</th>\n",
       "      <td>I7:(58.5,79.0)</td>\n",
       "      <td>I2:(33.5,74.5)</td>\n",
       "      <td>I8:(288.5,+Inf)</td>\n",
       "    </tr>\n",
       "    <tr>\n",
       "      <th>5</th>\n",
       "      <td>I1:(-Inf,5.5)</td>\n",
       "      <td>I5:(121.0,139.5)</td>\n",
       "      <td>I1:(-Inf,119.5)</td>\n",
       "    </tr>\n",
       "    <tr>\n",
       "      <th>6</th>\n",
       "      <td>I8:(79.0,+Inf)</td>\n",
       "      <td>I8:(165.0,+Inf)</td>\n",
       "      <td>I3:(145.5,157.0)</td>\n",
       "    </tr>\n",
       "    <tr>\n",
       "      <th>7</th>\n",
       "      <td>I3:(9.5,27.5)</td>\n",
       "      <td>I6:(139.5,159.5)</td>\n",
       "      <td>I2:(119.5,145.5)</td>\n",
       "    </tr>\n",
       "    <tr>\n",
       "      <th>8</th>\n",
       "      <td>I2:(5.5,9.5)</td>\n",
       "      <td>I8:(165.0,+Inf)</td>\n",
       "      <td>I6:(182.5,271.0)</td>\n",
       "    </tr>\n",
       "    <tr>\n",
       "      <th>9</th>\n",
       "      <td>I5:(37.5,49.5)</td>\n",
       "      <td>I2:(33.5,74.5)</td>\n",
       "      <td>I5:(164.0,182.5)</td>\n",
       "    </tr>\n",
       "  </tbody>\n",
       "</table>\n",
       "</div>"
      ],
      "text/plain": [
       "             A_EF              B_EF              C_EF\n",
       "0  I6:(49.5,58.5)    I1:(-Inf,33.5)  I6:(182.5,271.0)\n",
       "1   I3:(9.5,27.5)   I3:(74.5,100.5)  I2:(119.5,145.5)\n",
       "2  I7:(58.5,79.0)  I7:(159.5,165.0)  I7:(271.0,288.5)\n",
       "3  I4:(27.5,37.5)  I5:(121.0,139.5)  I4:(157.0,164.0)\n",
       "4  I7:(58.5,79.0)    I2:(33.5,74.5)   I8:(288.5,+Inf)\n",
       "5   I1:(-Inf,5.5)  I5:(121.0,139.5)   I1:(-Inf,119.5)\n",
       "6  I8:(79.0,+Inf)   I8:(165.0,+Inf)  I3:(145.5,157.0)\n",
       "7   I3:(9.5,27.5)  I6:(139.5,159.5)  I2:(119.5,145.5)\n",
       "8    I2:(5.5,9.5)   I8:(165.0,+Inf)  I6:(182.5,271.0)\n",
       "9  I5:(37.5,49.5)    I2:(33.5,74.5)  I5:(164.0,182.5)"
      ]
     },
     "metadata": {},
     "output_type": "display_data"
    },
    {
     "data": {
      "text/markdown": [
       "#### Testing discretize_EF_by_column() with random data, multiple columns, keeping originals"
      ],
      "text/plain": [
       "<IPython.core.display.Markdown object>"
      ]
     },
     "metadata": {},
     "output_type": "display_data"
    },
    {
     "data": {
      "text/html": [
       "<div>\n",
       "<style scoped>\n",
       "    .dataframe tbody tr th:only-of-type {\n",
       "        vertical-align: middle;\n",
       "    }\n",
       "\n",
       "    .dataframe tbody tr th {\n",
       "        vertical-align: top;\n",
       "    }\n",
       "\n",
       "    .dataframe thead th {\n",
       "        text-align: right;\n",
       "    }\n",
       "</style>\n",
       "<table border=\"1\" class=\"dataframe\">\n",
       "  <thead>\n",
       "    <tr style=\"text-align: right;\">\n",
       "      <th></th>\n",
       "      <th>A</th>\n",
       "      <th>A_EF</th>\n",
       "      <th>B</th>\n",
       "      <th>B_EF</th>\n",
       "      <th>C</th>\n",
       "      <th>C_EF</th>\n",
       "    </tr>\n",
       "  </thead>\n",
       "  <tbody>\n",
       "    <tr>\n",
       "      <th>0</th>\n",
       "      <td>56</td>\n",
       "      <td>I6:(49.5,58.5)</td>\n",
       "      <td>1</td>\n",
       "      <td>I1:(-Inf,33.5)</td>\n",
       "      <td>197</td>\n",
       "      <td>I6:(164.0,225.5)</td>\n",
       "    </tr>\n",
       "    <tr>\n",
       "      <th>1</th>\n",
       "      <td>10</td>\n",
       "      <td>I2:(9.5,16.5)</td>\n",
       "      <td>80</td>\n",
       "      <td>I4:(74.5,100.5)</td>\n",
       "      <td>135</td>\n",
       "      <td>I2:(119.5,136.0)</td>\n",
       "    </tr>\n",
       "    <tr>\n",
       "      <th>2</th>\n",
       "      <td>61</td>\n",
       "      <td>I7:(58.5,79.0)</td>\n",
       "      <td>161</td>\n",
       "      <td>I7:(159.5,170.5)</td>\n",
       "      <td>288</td>\n",
       "      <td>I7:(225.5,288.5)</td>\n",
       "    </tr>\n",
       "    <tr>\n",
       "      <th>3</th>\n",
       "      <td>32</td>\n",
       "      <td>I4:(27.5,37.5)</td>\n",
       "      <td>121</td>\n",
       "      <td>I5:(100.5,139.5)</td>\n",
       "      <td>160</td>\n",
       "      <td>I5:(157.0,164.0)</td>\n",
       "    </tr>\n",
       "    <tr>\n",
       "      <th>4</th>\n",
       "      <td>71</td>\n",
       "      <td>I7:(58.5,79.0)</td>\n",
       "      <td>69</td>\n",
       "      <td>I3:(67.5,74.5)</td>\n",
       "      <td>289</td>\n",
       "      <td>I8:(288.5,+Inf)</td>\n",
       "    </tr>\n",
       "    <tr>\n",
       "      <th>5</th>\n",
       "      <td>2</td>\n",
       "      <td>I1:(-Inf,9.5)</td>\n",
       "      <td>121</td>\n",
       "      <td>I5:(100.5,139.5)</td>\n",
       "      <td>104</td>\n",
       "      <td>I1:(-Inf,119.5)</td>\n",
       "    </tr>\n",
       "    <tr>\n",
       "      <th>6</th>\n",
       "      <td>87</td>\n",
       "      <td>I8:(79.0,+Inf)</td>\n",
       "      <td>172</td>\n",
       "      <td>I8:(170.5,+Inf)</td>\n",
       "      <td>154</td>\n",
       "      <td>I4:(145.5,157.0)</td>\n",
       "    </tr>\n",
       "    <tr>\n",
       "      <th>7</th>\n",
       "      <td>23</td>\n",
       "      <td>I3:(16.5,27.5)</td>\n",
       "      <td>158</td>\n",
       "      <td>I6:(139.5,159.5)</td>\n",
       "      <td>137</td>\n",
       "      <td>I3:(136.0,145.5)</td>\n",
       "    </tr>\n",
       "    <tr>\n",
       "      <th>8</th>\n",
       "      <td>9</td>\n",
       "      <td>I1:(-Inf,9.5)</td>\n",
       "      <td>169</td>\n",
       "      <td>I7:(159.5,170.5)</td>\n",
       "      <td>254</td>\n",
       "      <td>I7:(225.5,288.5)</td>\n",
       "    </tr>\n",
       "    <tr>\n",
       "      <th>9</th>\n",
       "      <td>43</td>\n",
       "      <td>I5:(37.5,49.5)</td>\n",
       "      <td>66</td>\n",
       "      <td>I2:(33.5,67.5)</td>\n",
       "      <td>168</td>\n",
       "      <td>I6:(164.0,225.5)</td>\n",
       "    </tr>\n",
       "  </tbody>\n",
       "</table>\n",
       "</div>"
      ],
      "text/plain": [
       "    A            A_EF    B              B_EF    C              C_EF\n",
       "0  56  I6:(49.5,58.5)    1    I1:(-Inf,33.5)  197  I6:(164.0,225.5)\n",
       "1  10   I2:(9.5,16.5)   80   I4:(74.5,100.5)  135  I2:(119.5,136.0)\n",
       "2  61  I7:(58.5,79.0)  161  I7:(159.5,170.5)  288  I7:(225.5,288.5)\n",
       "3  32  I4:(27.5,37.5)  121  I5:(100.5,139.5)  160  I5:(157.0,164.0)\n",
       "4  71  I7:(58.5,79.0)   69    I3:(67.5,74.5)  289   I8:(288.5,+Inf)\n",
       "5   2   I1:(-Inf,9.5)  121  I5:(100.5,139.5)  104   I1:(-Inf,119.5)\n",
       "6  87  I8:(79.0,+Inf)  172   I8:(170.5,+Inf)  154  I4:(145.5,157.0)\n",
       "7  23  I3:(16.5,27.5)  158  I6:(139.5,159.5)  137  I3:(136.0,145.5)\n",
       "8   9   I1:(-Inf,9.5)  169  I7:(159.5,170.5)  254  I7:(225.5,288.5)\n",
       "9  43  I5:(37.5,49.5)   66    I2:(33.5,67.5)  168  I6:(164.0,225.5)"
      ]
     },
     "metadata": {},
     "output_type": "display_data"
    },
    {
     "data": {
      "text/markdown": [
       "#### Testing discretize_EW_EF_by_column() with random data, comparison of first two columns"
      ],
      "text/plain": [
       "<IPython.core.display.Markdown object>"
      ]
     },
     "metadata": {},
     "output_type": "display_data"
    },
    {
     "data": {
      "text/html": [
       "<div>\n",
       "<style scoped>\n",
       "    .dataframe tbody tr th:only-of-type {\n",
       "        vertical-align: middle;\n",
       "    }\n",
       "\n",
       "    .dataframe tbody tr th {\n",
       "        vertical-align: top;\n",
       "    }\n",
       "\n",
       "    .dataframe thead th {\n",
       "        text-align: right;\n",
       "    }\n",
       "</style>\n",
       "<table border=\"1\" class=\"dataframe\">\n",
       "  <thead>\n",
       "    <tr style=\"text-align: right;\">\n",
       "      <th></th>\n",
       "      <th>A</th>\n",
       "      <th>A_EF</th>\n",
       "      <th>A_EW</th>\n",
       "      <th>B</th>\n",
       "      <th>B_EF</th>\n",
       "      <th>B_EW</th>\n",
       "    </tr>\n",
       "  </thead>\n",
       "  <tbody>\n",
       "    <tr>\n",
       "      <th>0</th>\n",
       "      <td>56</td>\n",
       "      <td>I6:(37.5,58.5)</td>\n",
       "      <td>I6:(55.125,65.75)</td>\n",
       "      <td>1</td>\n",
       "      <td>I1:(-Inf,33.5)</td>\n",
       "      <td>I1:(-Inf,22.375)</td>\n",
       "    </tr>\n",
       "    <tr>\n",
       "      <th>1</th>\n",
       "      <td>10</td>\n",
       "      <td>I3:(9.5,16.5)</td>\n",
       "      <td>I1:(-Inf,12.625)</td>\n",
       "      <td>80</td>\n",
       "      <td>I3:(67.5,100.5)</td>\n",
       "      <td>I4:(65.125,86.5)</td>\n",
       "    </tr>\n",
       "    <tr>\n",
       "      <th>2</th>\n",
       "      <td>61</td>\n",
       "      <td>I7:(58.5,79.0)</td>\n",
       "      <td>I6:(55.125,65.75)</td>\n",
       "      <td>161</td>\n",
       "      <td>I7:(159.5,165.0)</td>\n",
       "      <td>I8:(150.625,+Inf)</td>\n",
       "    </tr>\n",
       "    <tr>\n",
       "      <th>3</th>\n",
       "      <td>32</td>\n",
       "      <td>I5:(27.5,37.5)</td>\n",
       "      <td>I3:(23.25,33.875)</td>\n",
       "      <td>121</td>\n",
       "      <td>I5:(121.0,139.5)</td>\n",
       "      <td>I6:(107.875,129.25)</td>\n",
       "    </tr>\n",
       "    <tr>\n",
       "      <th>4</th>\n",
       "      <td>71</td>\n",
       "      <td>I7:(58.5,79.0)</td>\n",
       "      <td>I7:(65.75,76.375)</td>\n",
       "      <td>69</td>\n",
       "      <td>I3:(67.5,100.5)</td>\n",
       "      <td>I4:(65.125,86.5)</td>\n",
       "    </tr>\n",
       "    <tr>\n",
       "      <th>5</th>\n",
       "      <td>2</td>\n",
       "      <td>I1:(-Inf,5.5)</td>\n",
       "      <td>I1:(-Inf,12.625)</td>\n",
       "      <td>121</td>\n",
       "      <td>I5:(121.0,139.5)</td>\n",
       "      <td>I6:(107.875,129.25)</td>\n",
       "    </tr>\n",
       "    <tr>\n",
       "      <th>6</th>\n",
       "      <td>87</td>\n",
       "      <td>I8:(79.0,+Inf)</td>\n",
       "      <td>I8:(76.375,+Inf)</td>\n",
       "      <td>172</td>\n",
       "      <td>I8:(165.0,+Inf)</td>\n",
       "      <td>I8:(150.625,+Inf)</td>\n",
       "    </tr>\n",
       "    <tr>\n",
       "      <th>7</th>\n",
       "      <td>23</td>\n",
       "      <td>I4:(16.5,27.5)</td>\n",
       "      <td>I2:(12.625,23.25)</td>\n",
       "      <td>158</td>\n",
       "      <td>I6:(139.5,159.5)</td>\n",
       "      <td>I8:(150.625,+Inf)</td>\n",
       "    </tr>\n",
       "    <tr>\n",
       "      <th>8</th>\n",
       "      <td>9</td>\n",
       "      <td>I2:(5.5,9.5)</td>\n",
       "      <td>I1:(-Inf,12.625)</td>\n",
       "      <td>169</td>\n",
       "      <td>I8:(165.0,+Inf)</td>\n",
       "      <td>I8:(150.625,+Inf)</td>\n",
       "    </tr>\n",
       "    <tr>\n",
       "      <th>9</th>\n",
       "      <td>43</td>\n",
       "      <td>I6:(37.5,58.5)</td>\n",
       "      <td>I4:(33.875,44.5)</td>\n",
       "      <td>66</td>\n",
       "      <td>I2:(33.5,67.5)</td>\n",
       "      <td>I4:(65.125,86.5)</td>\n",
       "    </tr>\n",
       "  </tbody>\n",
       "</table>\n",
       "</div>"
      ],
      "text/plain": [
       "    A            A_EF               A_EW    B              B_EF  \\\n",
       "0  56  I6:(37.5,58.5)  I6:(55.125,65.75)    1    I1:(-Inf,33.5)   \n",
       "1  10   I3:(9.5,16.5)   I1:(-Inf,12.625)   80   I3:(67.5,100.5)   \n",
       "2  61  I7:(58.5,79.0)  I6:(55.125,65.75)  161  I7:(159.5,165.0)   \n",
       "3  32  I5:(27.5,37.5)  I3:(23.25,33.875)  121  I5:(121.0,139.5)   \n",
       "4  71  I7:(58.5,79.0)  I7:(65.75,76.375)   69   I3:(67.5,100.5)   \n",
       "5   2   I1:(-Inf,5.5)   I1:(-Inf,12.625)  121  I5:(121.0,139.5)   \n",
       "6  87  I8:(79.0,+Inf)   I8:(76.375,+Inf)  172   I8:(165.0,+Inf)   \n",
       "7  23  I4:(16.5,27.5)  I2:(12.625,23.25)  158  I6:(139.5,159.5)   \n",
       "8   9    I2:(5.5,9.5)   I1:(-Inf,12.625)  169   I8:(165.0,+Inf)   \n",
       "9  43  I6:(37.5,58.5)   I4:(33.875,44.5)   66    I2:(33.5,67.5)   \n",
       "\n",
       "                  B_EW  \n",
       "0     I1:(-Inf,22.375)  \n",
       "1     I4:(65.125,86.5)  \n",
       "2    I8:(150.625,+Inf)  \n",
       "3  I6:(107.875,129.25)  \n",
       "4     I4:(65.125,86.5)  \n",
       "5  I6:(107.875,129.25)  \n",
       "6    I8:(150.625,+Inf)  \n",
       "7    I8:(150.625,+Inf)  \n",
       "8    I8:(150.625,+Inf)  \n",
       "9     I4:(65.125,86.5)  "
      ]
     },
     "metadata": {},
     "output_type": "display_data"
    }
   ],
   "source": [
    "num_rows, num_bins = 10, 8\n",
    "disc_df_test_df = pd.DataFrame({\n",
    "    'A': np.random.randint(1, 101, size=num_rows),\n",
    "    'B': np.random.randint(1, 201, size=num_rows),\n",
    "    'C': np.random.randint(50, 301, size=num_rows)\n",
    "})\n",
    "\n",
    "test = 'random data, multiple columns'; \n",
    "fcn = 'discretize_EW_by_column'; \n",
    "display(Markdown(f\"#### Testing {fcn}() with {test}\"))\n",
    "display(sp.discretize_EW_by_column(disc_df_test_df, num_bins))\n",
    "\n",
    "test = 'random data, multiple columns, keeping originals'; \n",
    "fcn = 'discretize_EW_by_column'; \n",
    "display(Markdown(f\"#### Testing {fcn}() with {test}\"))\n",
    "display(sp.discretize_EW_by_column(disc_df_test_df, num_bins, \n",
    "                                    keep_original=True))\n",
    "\n",
    "test = 'random data, multiple columns'; \n",
    "fcn = 'discretize_EF_by_column'; \n",
    "display(Markdown(f\"#### Testing {fcn}() with {test}\"))\n",
    "display(sp.discretize_EF_by_column(disc_df_test_df, num_bins))\n",
    "\n",
    "test = 'random data, multiple columns, keeping originals'; \n",
    "fcn = 'discretize_EF_by_column'; \n",
    "display(Markdown(f\"#### Testing {fcn}() with {test}\"))\n",
    "display(sp.discretize_EF_by_column(disc_df_test_df, num_bins, \n",
    "                                keep_original=True))    \n",
    "\n",
    "first_two = disc_df_test_df.iloc[:, [0, 1]]\n",
    "test = 'random data, comparison of first two columns'; \n",
    "fcn = 'discretize_EW_EF_by_column'; \n",
    "display(Markdown(f\"#### Testing {fcn}() with {test}\"))\n",
    "display(sp.discretize_EW_EF_by_column(first_two, num_bins))\n"
   ]
  },
  {
   "cell_type": "markdown",
   "metadata": {},
   "source": [
    "### Calculation of metrics for the attributes of a dataset\n",
    "\n",
    "*Cálculo de métricas para los atributos de un dataset: Varianza y AUC para las variables contínuas y entropía para las discretas. La función deberá reconocer el tipo de atributo y actuar en consecuencia. Notese que en el caso del AUC, el dataset debe ser supervisado, es decir, es necesario especificar una variable clase binaria con la que evaluar el AUC de los atributos numéricos.*"
   ]
  },
  {
   "cell_type": "code",
   "execution_count": 18,
   "metadata": {},
   "outputs": [
    {
     "data": {
      "text/markdown": [
       "#### Testing calculate_variance() with sample variance, df with a single column, known var=23.5"
      ],
      "text/plain": [
       "<IPython.core.display.Markdown object>"
      ]
     },
     "metadata": {},
     "output_type": "display_data"
    },
    {
     "name": "stdout",
     "output_type": "stream",
     "text": [
      "    variance:  [23.5]\n"
     ]
    },
    {
     "data": {
      "text/markdown": [
       "#### Testing calculate_variance() with population variance, df with a single column, known var=2.917"
      ],
      "text/plain": [
       "<IPython.core.display.Markdown object>"
      ]
     },
     "metadata": {},
     "output_type": "display_data"
    },
    {
     "name": "stdout",
     "output_type": "stream",
     "text": [
      "    variance:  [2.917]\n"
     ]
    },
    {
     "data": {
      "text/markdown": [
       "#### Testing calculate_variance() with random data, multiple columns"
      ],
      "text/plain": [
       "<IPython.core.display.Markdown object>"
      ]
     },
     "metadata": {},
     "output_type": "display_data"
    },
    {
     "name": "stdout",
     "output_type": "stream",
     "text": [
      "    variance:  [ 573.6   3149.656 5873.567]\n"
     ]
    },
    {
     "data": {
      "text/html": [
       "<div>\n",
       "<style scoped>\n",
       "    .dataframe tbody tr th:only-of-type {\n",
       "        vertical-align: middle;\n",
       "    }\n",
       "\n",
       "    .dataframe tbody tr th {\n",
       "        vertical-align: top;\n",
       "    }\n",
       "\n",
       "    .dataframe thead th {\n",
       "        text-align: right;\n",
       "    }\n",
       "</style>\n",
       "<table border=\"1\" class=\"dataframe\">\n",
       "  <thead>\n",
       "    <tr style=\"text-align: right;\">\n",
       "      <th></th>\n",
       "      <th>A</th>\n",
       "      <th>B</th>\n",
       "      <th>C</th>\n",
       "    </tr>\n",
       "  </thead>\n",
       "  <tbody>\n",
       "    <tr>\n",
       "      <th>0</th>\n",
       "      <td>27</td>\n",
       "      <td>102</td>\n",
       "      <td>247</td>\n",
       "    </tr>\n",
       "    <tr>\n",
       "      <th>1</th>\n",
       "      <td>74</td>\n",
       "      <td>82</td>\n",
       "      <td>226</td>\n",
       "    </tr>\n",
       "    <tr>\n",
       "      <th>2</th>\n",
       "      <td>12</td>\n",
       "      <td>19</td>\n",
       "      <td>114</td>\n",
       "    </tr>\n",
       "    <tr>\n",
       "      <th>3</th>\n",
       "      <td>34</td>\n",
       "      <td>30</td>\n",
       "      <td>285</td>\n",
       "    </tr>\n",
       "    <tr>\n",
       "      <th>4</th>\n",
       "      <td>37</td>\n",
       "      <td>144</td>\n",
       "      <td>170</td>\n",
       "    </tr>\n",
       "    <tr>\n",
       "      <th>5</th>\n",
       "      <td>46</td>\n",
       "      <td>14</td>\n",
       "      <td>140</td>\n",
       "    </tr>\n",
       "    <tr>\n",
       "      <th>6</th>\n",
       "      <td>77</td>\n",
       "      <td>151</td>\n",
       "      <td>175</td>\n",
       "    </tr>\n",
       "    <tr>\n",
       "      <th>7</th>\n",
       "      <td>63</td>\n",
       "      <td>102</td>\n",
       "      <td>274</td>\n",
       "    </tr>\n",
       "    <tr>\n",
       "      <th>8</th>\n",
       "      <td>20</td>\n",
       "      <td>132</td>\n",
       "      <td>50</td>\n",
       "    </tr>\n",
       "    <tr>\n",
       "      <th>9</th>\n",
       "      <td>14</td>\n",
       "      <td>163</td>\n",
       "      <td>252</td>\n",
       "    </tr>\n",
       "  </tbody>\n",
       "</table>\n",
       "</div>"
      ],
      "text/plain": [
       "    A    B    C\n",
       "0  27  102  247\n",
       "1  74   82  226\n",
       "2  12   19  114\n",
       "3  34   30  285\n",
       "4  37  144  170\n",
       "5  46   14  140\n",
       "6  77  151  175\n",
       "7  63  102  274\n",
       "8  20  132   50\n",
       "9  14  163  252"
      ]
     },
     "metadata": {},
     "output_type": "display_data"
    }
   ],
   "source": [
    "test = 'sample variance, df with a single column, known var=23.5'; \n",
    "fcn = 'calculate_variance'; \n",
    "display(Markdown(f\"#### Testing {fcn}() with {test}\"))\n",
    "variance = sp.calculate_variance(sp.sample_variance_23p5_df)\n",
    "with np.printoptions(precision=3):\n",
    "    print('    variance: ', variance)\n",
    "\n",
    "test = 'population variance, df with a single column, known var=2.917'; \n",
    "fcn = 'calculate_variance'; \n",
    "display(Markdown(f\"#### Testing {fcn}() with {test}\"))\n",
    "variance = sp.calculate_variance(sp.pop_variance_2p917_df, sample=False)\n",
    "with np.printoptions(precision=3):\n",
    "    print('    variance: ', variance)\n",
    "\n",
    "num_rows = 10\n",
    "variance_df_test_df = pd.DataFrame({\n",
    "    'A': np.random.randint(1, 101, size=num_rows),\n",
    "    'B': np.random.randint(1, 201, size=num_rows),\n",
    "    'C': np.random.randint(50, 301, size=num_rows)\n",
    "})\n",
    "test = 'random data, multiple columns'; \n",
    "fcn = 'calculate_variance'; \n",
    "display(Markdown(f\"#### Testing {fcn}() with {test}\"))\n",
    "with np.printoptions(precision=3):\n",
    "    print('    variance: ', sp.calculate_variance(variance_df_test_df))\n",
    "display(variance_df_test_df)\n"
   ]
  },
  {
   "cell_type": "code",
   "execution_count": 19,
   "metadata": {},
   "outputs": [
    {
     "data": {
      "text/markdown": [
       "#### Testing calculate_roc_auc() with dataframe with known auc=1.0"
      ],
      "text/plain": [
       "<IPython.core.display.Markdown object>"
      ]
     },
     "metadata": {},
     "output_type": "display_data"
    },
    {
     "name": "stdout",
     "output_type": "stream",
     "text": [
      "    fpr points:  [0.  0.  0.  0.  0.5 1. ]\n",
      "    tpr points:  [0.    0.333 0.667 1.    1.    1.   ]\n",
      "    auc:  1.0\n"
     ]
    },
    {
     "data": {
      "text/markdown": [
       "#### Testing calculate_roc_auc() with dataframe with known auc=0.75"
      ],
      "text/plain": [
       "<IPython.core.display.Markdown object>"
      ]
     },
     "metadata": {},
     "output_type": "display_data"
    },
    {
     "name": "stdout",
     "output_type": "stream",
     "text": [
      "    fpr points:  [0.   0.   0.   0.25 0.25 0.25 0.25 0.5  0.5  0.75 1.  ]\n",
      "    tpr points:  [0.    0.    0.    0.333 0.5   0.667 0.833 0.833 1.    1.    1.   ]\n",
      "    auc:  0.75\n"
     ]
    }
   ],
   "source": [
    "test = 'dataframe with known auc=1.0'; \n",
    "fcn = 'calculate_roc_auc'; \n",
    "display(Markdown(f\"#### Testing {fcn}() with {test}\"))\n",
    "fpr, tpr, auc = sp.calculate_roc_auc(sp.auc_1p0_df)\n",
    "with np.printoptions(precision=3):\n",
    "    print('    fpr points: ', fpr)\n",
    "    print('    tpr points: ', tpr)\n",
    "    print('    auc: ', auc)\n",
    "\n",
    "test = 'dataframe with known auc=0.75'; \n",
    "fcn = 'calculate_roc_auc'; \n",
    "display(Markdown(f\"#### Testing {fcn}() with {test}\"))\n",
    "fpr, tpr, auc  = sp.calculate_roc_auc(sp.auc_0p75_df)\n",
    "with np.printoptions(precision=3):\n",
    "    print('    fpr points: ', fpr)\n",
    "    print('    tpr points: ', tpr)\n",
    "    print('    auc: ', auc)\n"
   ]
  },
  {
   "cell_type": "code",
   "execution_count": 20,
   "metadata": {},
   "outputs": [
    {
     "data": {
      "text/markdown": [
       "#### Testing calculate_entropy() with dataframe from vector with known entropy=0.971"
      ],
      "text/plain": [
       "<IPython.core.display.Markdown object>"
      ]
     },
     "metadata": {},
     "output_type": "display_data"
    },
    {
     "name": "stdout",
     "output_type": "stream",
     "text": [
      "    entropy:  0.9709505944546686\n"
     ]
    },
    {
     "data": {
      "text/markdown": [
       "#### Testing calculate_entropy() with dataframe by column, varying types, known entropy=0.971"
      ],
      "text/plain": [
       "<IPython.core.display.Markdown object>"
      ]
     },
     "metadata": {},
     "output_type": "display_data"
    },
    {
     "data": {
      "text/html": [
       "<div>\n",
       "<style scoped>\n",
       "    .dataframe tbody tr th:only-of-type {\n",
       "        vertical-align: middle;\n",
       "    }\n",
       "\n",
       "    .dataframe tbody tr th {\n",
       "        vertical-align: top;\n",
       "    }\n",
       "\n",
       "    .dataframe thead th {\n",
       "        text-align: right;\n",
       "    }\n",
       "</style>\n",
       "<table border=\"1\" class=\"dataframe\">\n",
       "  <thead>\n",
       "    <tr style=\"text-align: right;\">\n",
       "      <th></th>\n",
       "      <th>letters</th>\n",
       "      <th>integers</th>\n",
       "      <th>decimals</th>\n",
       "    </tr>\n",
       "  </thead>\n",
       "  <tbody>\n",
       "    <tr>\n",
       "      <th>0</th>\n",
       "      <td>a</td>\n",
       "      <td>10</td>\n",
       "      <td>0.50</td>\n",
       "    </tr>\n",
       "    <tr>\n",
       "      <th>1</th>\n",
       "      <td>a</td>\n",
       "      <td>10</td>\n",
       "      <td>0.50</td>\n",
       "    </tr>\n",
       "    <tr>\n",
       "      <th>2</th>\n",
       "      <td>c</td>\n",
       "      <td>23</td>\n",
       "      <td>0.45</td>\n",
       "    </tr>\n",
       "    <tr>\n",
       "      <th>3</th>\n",
       "      <td>c</td>\n",
       "      <td>23</td>\n",
       "      <td>0.45</td>\n",
       "    </tr>\n",
       "    <tr>\n",
       "      <th>4</th>\n",
       "      <td>c</td>\n",
       "      <td>23</td>\n",
       "      <td>0.45</td>\n",
       "    </tr>\n",
       "  </tbody>\n",
       "</table>\n",
       "</div>"
      ],
      "text/plain": [
       "  letters  integers  decimals\n",
       "0       a        10      0.50\n",
       "1       a        10      0.50\n",
       "2       c        23      0.45\n",
       "3       c        23      0.45\n",
       "4       c        23      0.45"
      ]
     },
     "metadata": {},
     "output_type": "display_data"
    },
    {
     "name": "stdout",
     "output_type": "stream",
     "text": [
      "  type: letters\n",
      "    result: 0.9709505944546686\n",
      "  type: integers\n",
      "    result: 0.9709505944546686\n",
      "  type: decimals\n",
      "    result: 0.9709505944546686\n"
     ]
    },
    {
     "data": {
      "text/markdown": [
       "#### Testing calculate_entropy() with zero-length dataframe"
      ],
      "text/plain": [
       "<IPython.core.display.Markdown object>"
      ]
     },
     "metadata": {},
     "output_type": "display_data"
    },
    {
     "name": "stdout",
     "output_type": "stream",
     "text": [
      "  type: zerolength\n",
      "    values: []\n",
      "    result: None\n"
     ]
    }
   ],
   "source": [
    "test = 'dataframe from vector with known entropy=0.971'\n",
    "fcn = 'calculate_entropy'\n",
    "display(Markdown(f\"#### Testing {fcn}() with {test}\"))\n",
    "entropy = sp.calculate_entropy(pd.DataFrame(sp.p03_entropy_0p971))\n",
    "print('    entropy: ', entropy)\n",
    "\n",
    "test = 'dataframe by column, varying types, known entropy=0.971' \n",
    "fcn = 'calculate_entropy'\n",
    "display(Markdown(f\"#### Testing {fcn}() with {test}\"))\n",
    "multicolumn_entropy_df = pd.DataFrame({\n",
    "    'letters': ['a','a','c','c','c'],\n",
    "    'integers': [ 10, 10, 23, 23, 23 ],\n",
    "    'decimals': [ 0.5, 0.5, 0.45, 0.45, 0.45 ],\n",
    "})\n",
    "display(multicolumn_entropy_df)\n",
    "for c in multicolumn_entropy_df.columns:\n",
    "    print(f'  type: {c}')\n",
    "    print(f'    result: {sp.calculate_entropy(multicolumn_entropy_df[[c]])}')\n",
    "\n",
    "test = 'zero-length dataframe' \n",
    "fcn = 'calculate_entropy'\n",
    "display(Markdown(f\"#### Testing {fcn}() with {test}\"))\n",
    "zerolength_entropy_df = pd.DataFrame({ 'zerolength': [] })\n",
    "for c in zerolength_entropy_df.columns:\n",
    "    print(f'  type: {c}')\n",
    "    print(f'    values: {zerolength_entropy_df[c].to_list()}')\n",
    "    print(f'    result: {sp.calculate_entropy(zerolength_entropy_df[[c]])}')\n"
   ]
  },
  {
   "cell_type": "code",
   "execution_count": 21,
   "metadata": {},
   "outputs": [
    {
     "data": {
      "text/html": [
       "<div>\n",
       "<style scoped>\n",
       "    .dataframe tbody tr th:only-of-type {\n",
       "        vertical-align: middle;\n",
       "    }\n",
       "\n",
       "    .dataframe tbody tr th {\n",
       "        vertical-align: top;\n",
       "    }\n",
       "\n",
       "    .dataframe thead th {\n",
       "        text-align: right;\n",
       "    }\n",
       "</style>\n",
       "<table border=\"1\" class=\"dataframe\">\n",
       "  <thead>\n",
       "    <tr style=\"text-align: right;\">\n",
       "      <th></th>\n",
       "      <th>A</th>\n",
       "      <th>B</th>\n",
       "      <th>C</th>\n",
       "      <th>D</th>\n",
       "      <th>E</th>\n",
       "      <th>F</th>\n",
       "      <th>G</th>\n",
       "    </tr>\n",
       "  </thead>\n",
       "  <tbody>\n",
       "    <tr>\n",
       "      <th>0</th>\n",
       "      <td>1</td>\n",
       "      <td>True</td>\n",
       "      <td>4.5</td>\n",
       "      <td>a</td>\n",
       "      <td>0.10</td>\n",
       "      <td>False</td>\n",
       "      <td>4.5</td>\n",
       "    </tr>\n",
       "    <tr>\n",
       "      <th>1</th>\n",
       "      <td>1</td>\n",
       "      <td>True</td>\n",
       "      <td>5.5</td>\n",
       "      <td>a</td>\n",
       "      <td>0.40</td>\n",
       "      <td>True</td>\n",
       "      <td>5.5</td>\n",
       "    </tr>\n",
       "    <tr>\n",
       "      <th>2</th>\n",
       "      <td>1</td>\n",
       "      <td>True</td>\n",
       "      <td>6.5</td>\n",
       "      <td>a</td>\n",
       "      <td>0.35</td>\n",
       "      <td>False</td>\n",
       "      <td>6.5</td>\n",
       "    </tr>\n",
       "    <tr>\n",
       "      <th>3</th>\n",
       "      <td>3</td>\n",
       "      <td>False</td>\n",
       "      <td>5.5</td>\n",
       "      <td>c</td>\n",
       "      <td>0.80</td>\n",
       "      <td>True</td>\n",
       "      <td>6.5</td>\n",
       "    </tr>\n",
       "    <tr>\n",
       "      <th>4</th>\n",
       "      <td>3</td>\n",
       "      <td>False</td>\n",
       "      <td>6.5</td>\n",
       "      <td>c</td>\n",
       "      <td>0.50</td>\n",
       "      <td>True</td>\n",
       "      <td>6.5</td>\n",
       "    </tr>\n",
       "  </tbody>\n",
       "</table>\n",
       "</div>"
      ],
      "text/plain": [
       "   A      B    C  D     E      F    G\n",
       "0  1   True  4.5  a  0.10  False  4.5\n",
       "1  1   True  5.5  a  0.40   True  5.5\n",
       "2  1   True  6.5  a  0.35  False  6.5\n",
       "3  3  False  5.5  c  0.80   True  6.5\n",
       "4  3  False  6.5  c  0.50   True  6.5"
      ]
     },
     "metadata": {},
     "output_type": "display_data"
    },
    {
     "data": {
      "text/markdown": [
       "#### Testing dataset_metrics_summary() with standard mixed dataframe, display_precision=6"
      ],
      "text/plain": [
       "<IPython.core.display.Markdown object>"
      ]
     },
     "metadata": {},
     "output_type": "display_data"
    },
    {
     "data": {
      "text/html": [
       "<div>\n",
       "<style scoped>\n",
       "    .dataframe tbody tr th:only-of-type {\n",
       "        vertical-align: middle;\n",
       "    }\n",
       "\n",
       "    .dataframe tbody tr th {\n",
       "        vertical-align: top;\n",
       "    }\n",
       "\n",
       "    .dataframe thead th {\n",
       "        text-align: right;\n",
       "    }\n",
       "</style>\n",
       "<table border=\"1\" class=\"dataframe\">\n",
       "  <thead>\n",
       "    <tr style=\"text-align: right;\">\n",
       "      <th></th>\n",
       "      <th>A</th>\n",
       "      <th>B</th>\n",
       "      <th>C</th>\n",
       "      <th>D</th>\n",
       "      <th>E</th>\n",
       "      <th>F</th>\n",
       "      <th>G</th>\n",
       "    </tr>\n",
       "  </thead>\n",
       "  <tbody>\n",
       "    <tr>\n",
       "      <th>(type)</th>\n",
       "      <td>int64</td>\n",
       "      <td>bool</td>\n",
       "      <td>float64</td>\n",
       "      <td>object</td>\n",
       "      <td>float64</td>\n",
       "      <td>bool</td>\n",
       "      <td>float64</td>\n",
       "    </tr>\n",
       "    <tr>\n",
       "      <th>variance</th>\n",
       "      <td></td>\n",
       "      <td></td>\n",
       "      <td>0.7</td>\n",
       "      <td></td>\n",
       "      <td>0.0645</td>\n",
       "      <td></td>\n",
       "      <td>0.8</td>\n",
       "    </tr>\n",
       "    <tr>\n",
       "      <th>AUC</th>\n",
       "      <td></td>\n",
       "      <td></td>\n",
       "      <td></td>\n",
       "      <td></td>\n",
       "      <td>1.0</td>\n",
       "      <td></td>\n",
       "      <td></td>\n",
       "    </tr>\n",
       "    <tr>\n",
       "      <th>entropy</th>\n",
       "      <td>0.970951</td>\n",
       "      <td>0.970951</td>\n",
       "      <td></td>\n",
       "      <td>0.970951</td>\n",
       "      <td></td>\n",
       "      <td></td>\n",
       "      <td></td>\n",
       "    </tr>\n",
       "  </tbody>\n",
       "</table>\n",
       "</div>"
      ],
      "text/plain": [
       "                 A         B        C         D        E     F        G\n",
       "(type)       int64      bool  float64    object  float64  bool  float64\n",
       "variance                          0.7             0.0645            0.8\n",
       "AUC                                                  1.0               \n",
       "entropy   0.970951  0.970951           0.970951                        "
      ]
     },
     "metadata": {},
     "output_type": "display_data"
    },
    {
     "data": {
      "text/markdown": [
       "#### Testing dataset_metrics_summary() with standard mixed dataframe, appending input"
      ],
      "text/plain": [
       "<IPython.core.display.Markdown object>"
      ]
     },
     "metadata": {},
     "output_type": "display_data"
    },
    {
     "data": {
      "text/html": [
       "<div>\n",
       "<style scoped>\n",
       "    .dataframe tbody tr th:only-of-type {\n",
       "        vertical-align: middle;\n",
       "    }\n",
       "\n",
       "    .dataframe tbody tr th {\n",
       "        vertical-align: top;\n",
       "    }\n",
       "\n",
       "    .dataframe thead th {\n",
       "        text-align: right;\n",
       "    }\n",
       "</style>\n",
       "<table border=\"1\" class=\"dataframe\">\n",
       "  <thead>\n",
       "    <tr style=\"text-align: right;\">\n",
       "      <th></th>\n",
       "      <th>A</th>\n",
       "      <th>B</th>\n",
       "      <th>C</th>\n",
       "      <th>D</th>\n",
       "      <th>E</th>\n",
       "      <th>F</th>\n",
       "      <th>G</th>\n",
       "    </tr>\n",
       "  </thead>\n",
       "  <tbody>\n",
       "    <tr>\n",
       "      <th>(type)</th>\n",
       "      <td>int64</td>\n",
       "      <td>bool</td>\n",
       "      <td>float64</td>\n",
       "      <td>object</td>\n",
       "      <td>float64</td>\n",
       "      <td>bool</td>\n",
       "      <td>float64</td>\n",
       "    </tr>\n",
       "    <tr>\n",
       "      <th>variance</th>\n",
       "      <td></td>\n",
       "      <td></td>\n",
       "      <td>0.7</td>\n",
       "      <td></td>\n",
       "      <td>0.065</td>\n",
       "      <td></td>\n",
       "      <td>0.8</td>\n",
       "    </tr>\n",
       "    <tr>\n",
       "      <th>AUC</th>\n",
       "      <td></td>\n",
       "      <td></td>\n",
       "      <td></td>\n",
       "      <td></td>\n",
       "      <td>1.0</td>\n",
       "      <td></td>\n",
       "      <td></td>\n",
       "    </tr>\n",
       "    <tr>\n",
       "      <th>entropy</th>\n",
       "      <td>0.971</td>\n",
       "      <td>0.971</td>\n",
       "      <td></td>\n",
       "      <td>0.971</td>\n",
       "      <td></td>\n",
       "      <td></td>\n",
       "      <td></td>\n",
       "    </tr>\n",
       "    <tr>\n",
       "      <th>0</th>\n",
       "      <td>1</td>\n",
       "      <td>True</td>\n",
       "      <td>4.5</td>\n",
       "      <td>a</td>\n",
       "      <td>0.1</td>\n",
       "      <td>False</td>\n",
       "      <td>4.5</td>\n",
       "    </tr>\n",
       "    <tr>\n",
       "      <th>1</th>\n",
       "      <td>1</td>\n",
       "      <td>True</td>\n",
       "      <td>5.5</td>\n",
       "      <td>a</td>\n",
       "      <td>0.4</td>\n",
       "      <td>True</td>\n",
       "      <td>5.5</td>\n",
       "    </tr>\n",
       "    <tr>\n",
       "      <th>2</th>\n",
       "      <td>1</td>\n",
       "      <td>True</td>\n",
       "      <td>6.5</td>\n",
       "      <td>a</td>\n",
       "      <td>0.35</td>\n",
       "      <td>False</td>\n",
       "      <td>6.5</td>\n",
       "    </tr>\n",
       "    <tr>\n",
       "      <th>3</th>\n",
       "      <td>3</td>\n",
       "      <td>False</td>\n",
       "      <td>5.5</td>\n",
       "      <td>c</td>\n",
       "      <td>0.8</td>\n",
       "      <td>True</td>\n",
       "      <td>6.5</td>\n",
       "    </tr>\n",
       "    <tr>\n",
       "      <th>4</th>\n",
       "      <td>3</td>\n",
       "      <td>False</td>\n",
       "      <td>6.5</td>\n",
       "      <td>c</td>\n",
       "      <td>0.5</td>\n",
       "      <td>True</td>\n",
       "      <td>6.5</td>\n",
       "    </tr>\n",
       "  </tbody>\n",
       "</table>\n",
       "</div>"
      ],
      "text/plain": [
       "              A      B        C       D        E      F        G\n",
       "(type)    int64   bool  float64  object  float64   bool  float64\n",
       "variance                    0.7            0.065             0.8\n",
       "AUC                                          1.0                \n",
       "entropy   0.971  0.971            0.971                         \n",
       "0             1   True      4.5       a      0.1  False      4.5\n",
       "1             1   True      5.5       a      0.4   True      5.5\n",
       "2             1   True      6.5       a     0.35  False      6.5\n",
       "3             3  False      5.5       c      0.8   True      6.5\n",
       "4             3  False      6.5       c      0.5   True      6.5"
      ]
     },
     "metadata": {},
     "output_type": "display_data"
    }
   ],
   "source": [
    "display(sp.std_mixed_df)\n",
    "\n",
    "test = 'standard mixed dataframe, display_precision=6'; \n",
    "fcn = 'dataset_metrics_summary'; \n",
    "display(Markdown(f\"#### Testing {fcn}() with {test}\"))\n",
    "display(sp.dataset_metrics_summary(sp.std_mixed_df,display_precision=6))\n",
    "\n",
    "test = 'standard mixed dataframe, appending input'; \n",
    "fcn = 'dataset_metrics_summary'; \n",
    "display(Markdown(f\"#### Testing {fcn}() with {test}\"))\n",
    "display(sp.dataset_metrics_summary(sp.std_mixed_df,append_input=True))\n"
   ]
  },
  {
   "cell_type": "markdown",
   "metadata": {},
   "source": [
    "### Normalization and standardization of variables\n",
    "\n",
    "*Normalización y estandarización de variables, tanto de manera individual como para el dataset completo. Esto solo debe ser aplicado a atributos que sean numéricos.*"
   ]
  },
  {
   "cell_type": "code",
   "execution_count": 22,
   "metadata": {},
   "outputs": [
    {
     "data": {
      "text/markdown": [
       "#### Example numeric dataframe"
      ],
      "text/plain": [
       "<IPython.core.display.Markdown object>"
      ]
     },
     "metadata": {},
     "output_type": "display_data"
    },
    {
     "data": {
      "text/html": [
       "<div>\n",
       "<style scoped>\n",
       "    .dataframe tbody tr th:only-of-type {\n",
       "        vertical-align: middle;\n",
       "    }\n",
       "\n",
       "    .dataframe tbody tr th {\n",
       "        vertical-align: top;\n",
       "    }\n",
       "\n",
       "    .dataframe thead th {\n",
       "        text-align: right;\n",
       "    }\n",
       "</style>\n",
       "<table border=\"1\" class=\"dataframe\">\n",
       "  <thead>\n",
       "    <tr style=\"text-align: right;\">\n",
       "      <th></th>\n",
       "      <th>A</th>\n",
       "      <th>B</th>\n",
       "      <th>C</th>\n",
       "    </tr>\n",
       "  </thead>\n",
       "  <tbody>\n",
       "    <tr>\n",
       "      <th>0</th>\n",
       "      <td>1</td>\n",
       "      <td>10</td>\n",
       "      <td>5</td>\n",
       "    </tr>\n",
       "    <tr>\n",
       "      <th>1</th>\n",
       "      <td>2</td>\n",
       "      <td>20</td>\n",
       "      <td>4</td>\n",
       "    </tr>\n",
       "    <tr>\n",
       "      <th>2</th>\n",
       "      <td>3</td>\n",
       "      <td>30</td>\n",
       "      <td>3</td>\n",
       "    </tr>\n",
       "    <tr>\n",
       "      <th>3</th>\n",
       "      <td>4</td>\n",
       "      <td>40</td>\n",
       "      <td>2</td>\n",
       "    </tr>\n",
       "    <tr>\n",
       "      <th>4</th>\n",
       "      <td>5</td>\n",
       "      <td>50</td>\n",
       "      <td>1</td>\n",
       "    </tr>\n",
       "  </tbody>\n",
       "</table>\n",
       "</div>"
      ],
      "text/plain": [
       "   A   B  C\n",
       "0  1  10  5\n",
       "1  2  20  4\n",
       "2  3  30  3\n",
       "3  4  40  2\n",
       "4  5  50  1"
      ]
     },
     "metadata": {},
     "output_type": "display_data"
    },
    {
     "data": {
      "text/markdown": [
       "#### Testing normalize_by_column() with example numeric dataframe"
      ],
      "text/plain": [
       "<IPython.core.display.Markdown object>"
      ]
     },
     "metadata": {},
     "output_type": "display_data"
    },
    {
     "data": {
      "text/html": [
       "<div>\n",
       "<style scoped>\n",
       "    .dataframe tbody tr th:only-of-type {\n",
       "        vertical-align: middle;\n",
       "    }\n",
       "\n",
       "    .dataframe tbody tr th {\n",
       "        vertical-align: top;\n",
       "    }\n",
       "\n",
       "    .dataframe thead th {\n",
       "        text-align: right;\n",
       "    }\n",
       "</style>\n",
       "<table border=\"1\" class=\"dataframe\">\n",
       "  <thead>\n",
       "    <tr style=\"text-align: right;\">\n",
       "      <th></th>\n",
       "      <th>A</th>\n",
       "      <th>B</th>\n",
       "      <th>C</th>\n",
       "    </tr>\n",
       "  </thead>\n",
       "  <tbody>\n",
       "    <tr>\n",
       "      <th>0</th>\n",
       "      <td>0.00</td>\n",
       "      <td>0.00</td>\n",
       "      <td>1.00</td>\n",
       "    </tr>\n",
       "    <tr>\n",
       "      <th>1</th>\n",
       "      <td>0.25</td>\n",
       "      <td>0.25</td>\n",
       "      <td>0.75</td>\n",
       "    </tr>\n",
       "    <tr>\n",
       "      <th>2</th>\n",
       "      <td>0.50</td>\n",
       "      <td>0.50</td>\n",
       "      <td>0.50</td>\n",
       "    </tr>\n",
       "    <tr>\n",
       "      <th>3</th>\n",
       "      <td>0.75</td>\n",
       "      <td>0.75</td>\n",
       "      <td>0.25</td>\n",
       "    </tr>\n",
       "    <tr>\n",
       "      <th>4</th>\n",
       "      <td>1.00</td>\n",
       "      <td>1.00</td>\n",
       "      <td>0.00</td>\n",
       "    </tr>\n",
       "  </tbody>\n",
       "</table>\n",
       "</div>"
      ],
      "text/plain": [
       "      A     B     C\n",
       "0  0.00  0.00  1.00\n",
       "1  0.25  0.25  0.75\n",
       "2  0.50  0.50  0.50\n",
       "3  0.75  0.75  0.25\n",
       "4  1.00  1.00  0.00"
      ]
     },
     "metadata": {},
     "output_type": "display_data"
    },
    {
     "data": {
      "text/markdown": [
       "#### Testing standardize_by_column() with example numeric dataframe"
      ],
      "text/plain": [
       "<IPython.core.display.Markdown object>"
      ]
     },
     "metadata": {},
     "output_type": "display_data"
    },
    {
     "data": {
      "text/html": [
       "<div>\n",
       "<style scoped>\n",
       "    .dataframe tbody tr th:only-of-type {\n",
       "        vertical-align: middle;\n",
       "    }\n",
       "\n",
       "    .dataframe tbody tr th {\n",
       "        vertical-align: top;\n",
       "    }\n",
       "\n",
       "    .dataframe thead th {\n",
       "        text-align: right;\n",
       "    }\n",
       "</style>\n",
       "<table border=\"1\" class=\"dataframe\">\n",
       "  <thead>\n",
       "    <tr style=\"text-align: right;\">\n",
       "      <th></th>\n",
       "      <th>A</th>\n",
       "      <th>B</th>\n",
       "      <th>C</th>\n",
       "    </tr>\n",
       "  </thead>\n",
       "  <tbody>\n",
       "    <tr>\n",
       "      <th>0</th>\n",
       "      <td>-1.414214</td>\n",
       "      <td>-1.414214</td>\n",
       "      <td>1.414214</td>\n",
       "    </tr>\n",
       "    <tr>\n",
       "      <th>1</th>\n",
       "      <td>-0.707107</td>\n",
       "      <td>-0.707107</td>\n",
       "      <td>0.707107</td>\n",
       "    </tr>\n",
       "    <tr>\n",
       "      <th>2</th>\n",
       "      <td>0.000000</td>\n",
       "      <td>0.000000</td>\n",
       "      <td>0.000000</td>\n",
       "    </tr>\n",
       "    <tr>\n",
       "      <th>3</th>\n",
       "      <td>0.707107</td>\n",
       "      <td>0.707107</td>\n",
       "      <td>-0.707107</td>\n",
       "    </tr>\n",
       "    <tr>\n",
       "      <th>4</th>\n",
       "      <td>1.414214</td>\n",
       "      <td>1.414214</td>\n",
       "      <td>-1.414214</td>\n",
       "    </tr>\n",
       "  </tbody>\n",
       "</table>\n",
       "</div>"
      ],
      "text/plain": [
       "          A         B         C\n",
       "0 -1.414214 -1.414214  1.414214\n",
       "1 -0.707107 -0.707107  0.707107\n",
       "2  0.000000  0.000000  0.000000\n",
       "3  0.707107  0.707107 -0.707107\n",
       "4  1.414214  1.414214 -1.414214"
      ]
     },
     "metadata": {},
     "output_type": "display_data"
    }
   ],
   "source": [
    "numeric_nrmn_stdn_df = pd.DataFrame({\n",
    "    'A': [1, 2, 3, 4, 5],\n",
    "    'B': [10, 20, 30, 40, 50],\n",
    "    'C': [5, 4, 3, 2, 1]\n",
    "})\n",
    "display(Markdown(f\"#### Example numeric dataframe\"))\n",
    "display(numeric_nrmn_stdn_df)\n",
    "\n",
    "test = 'example numeric dataframe'; \n",
    "fcn = 'normalize_by_column'; \n",
    "display(Markdown(f\"#### Testing {fcn}() with {test}\"))\n",
    "display(sp.normalize_by_column(numeric_nrmn_stdn_df))\n",
    "\n",
    "test = 'example numeric dataframe'; \n",
    "fcn = 'standardize_by_column'; \n",
    "display(Markdown(f\"#### Testing {fcn}() with {test}\"))\n",
    "display(sp.standardize_by_column(numeric_nrmn_stdn_df))\n"
   ]
  },
  {
   "cell_type": "markdown",
   "metadata": {},
   "source": [
    "### Filtering of variables based on the implemented metrics \n",
    "\n",
    "*Filtrado de variables en base a las métricas implementadas. Es decir, partiendo de un dataset, obtener uno nuevo donde todas las variables cumplan los requisitos indicado (por ejemplo, una entropía superior a un cierto umbral).*"
   ]
  },
  {
   "cell_type": "code",
   "execution_count": 23,
   "metadata": {},
   "outputs": [
    {
     "data": {
      "text/markdown": [
       "#### Standard mixed dataframe with metrics"
      ],
      "text/plain": [
       "<IPython.core.display.Markdown object>"
      ]
     },
     "metadata": {},
     "output_type": "display_data"
    },
    {
     "data": {
      "text/html": [
       "<div>\n",
       "<style scoped>\n",
       "    .dataframe tbody tr th:only-of-type {\n",
       "        vertical-align: middle;\n",
       "    }\n",
       "\n",
       "    .dataframe tbody tr th {\n",
       "        vertical-align: top;\n",
       "    }\n",
       "\n",
       "    .dataframe thead th {\n",
       "        text-align: right;\n",
       "    }\n",
       "</style>\n",
       "<table border=\"1\" class=\"dataframe\">\n",
       "  <thead>\n",
       "    <tr style=\"text-align: right;\">\n",
       "      <th></th>\n",
       "      <th>A</th>\n",
       "      <th>B</th>\n",
       "      <th>C</th>\n",
       "      <th>D</th>\n",
       "      <th>E</th>\n",
       "      <th>F</th>\n",
       "      <th>G</th>\n",
       "    </tr>\n",
       "  </thead>\n",
       "  <tbody>\n",
       "    <tr>\n",
       "      <th>(type)</th>\n",
       "      <td>int64</td>\n",
       "      <td>bool</td>\n",
       "      <td>float64</td>\n",
       "      <td>object</td>\n",
       "      <td>float64</td>\n",
       "      <td>bool</td>\n",
       "      <td>float64</td>\n",
       "    </tr>\n",
       "    <tr>\n",
       "      <th>variance</th>\n",
       "      <td></td>\n",
       "      <td></td>\n",
       "      <td>0.7</td>\n",
       "      <td></td>\n",
       "      <td>0.065</td>\n",
       "      <td></td>\n",
       "      <td>0.8</td>\n",
       "    </tr>\n",
       "    <tr>\n",
       "      <th>AUC</th>\n",
       "      <td></td>\n",
       "      <td></td>\n",
       "      <td></td>\n",
       "      <td></td>\n",
       "      <td>1.0</td>\n",
       "      <td></td>\n",
       "      <td></td>\n",
       "    </tr>\n",
       "    <tr>\n",
       "      <th>entropy</th>\n",
       "      <td>0.971</td>\n",
       "      <td>0.971</td>\n",
       "      <td></td>\n",
       "      <td>0.971</td>\n",
       "      <td></td>\n",
       "      <td></td>\n",
       "      <td></td>\n",
       "    </tr>\n",
       "    <tr>\n",
       "      <th>0</th>\n",
       "      <td>1</td>\n",
       "      <td>True</td>\n",
       "      <td>4.5</td>\n",
       "      <td>a</td>\n",
       "      <td>0.1</td>\n",
       "      <td>False</td>\n",
       "      <td>4.5</td>\n",
       "    </tr>\n",
       "    <tr>\n",
       "      <th>1</th>\n",
       "      <td>1</td>\n",
       "      <td>True</td>\n",
       "      <td>5.5</td>\n",
       "      <td>a</td>\n",
       "      <td>0.4</td>\n",
       "      <td>True</td>\n",
       "      <td>5.5</td>\n",
       "    </tr>\n",
       "    <tr>\n",
       "      <th>2</th>\n",
       "      <td>1</td>\n",
       "      <td>True</td>\n",
       "      <td>6.5</td>\n",
       "      <td>a</td>\n",
       "      <td>0.35</td>\n",
       "      <td>False</td>\n",
       "      <td>6.5</td>\n",
       "    </tr>\n",
       "    <tr>\n",
       "      <th>3</th>\n",
       "      <td>3</td>\n",
       "      <td>False</td>\n",
       "      <td>5.5</td>\n",
       "      <td>c</td>\n",
       "      <td>0.8</td>\n",
       "      <td>True</td>\n",
       "      <td>6.5</td>\n",
       "    </tr>\n",
       "    <tr>\n",
       "      <th>4</th>\n",
       "      <td>3</td>\n",
       "      <td>False</td>\n",
       "      <td>6.5</td>\n",
       "      <td>c</td>\n",
       "      <td>0.5</td>\n",
       "      <td>True</td>\n",
       "      <td>6.5</td>\n",
       "    </tr>\n",
       "  </tbody>\n",
       "</table>\n",
       "</div>"
      ],
      "text/plain": [
       "              A      B        C       D        E      F        G\n",
       "(type)    int64   bool  float64  object  float64   bool  float64\n",
       "variance                    0.7            0.065             0.8\n",
       "AUC                                          1.0                \n",
       "entropy   0.971  0.971            0.971                         \n",
       "0             1   True      4.5       a      0.1  False      4.5\n",
       "1             1   True      5.5       a      0.4   True      5.5\n",
       "2             1   True      6.5       a     0.35  False      6.5\n",
       "3             3  False      5.5       c      0.8   True      6.5\n",
       "4             3  False      6.5       c      0.5   True      6.5"
      ]
     },
     "metadata": {},
     "output_type": "display_data"
    },
    {
     "data": {
      "text/markdown": [
       "#### Testing select_variables_by_metrics() with filter dataframe for variance <= 0.71"
      ],
      "text/plain": [
       "<IPython.core.display.Markdown object>"
      ]
     },
     "metadata": {},
     "output_type": "display_data"
    },
    {
     "data": {
      "text/html": [
       "<div>\n",
       "<style scoped>\n",
       "    .dataframe tbody tr th:only-of-type {\n",
       "        vertical-align: middle;\n",
       "    }\n",
       "\n",
       "    .dataframe tbody tr th {\n",
       "        vertical-align: top;\n",
       "    }\n",
       "\n",
       "    .dataframe thead th {\n",
       "        text-align: right;\n",
       "    }\n",
       "</style>\n",
       "<table border=\"1\" class=\"dataframe\">\n",
       "  <thead>\n",
       "    <tr style=\"text-align: right;\">\n",
       "      <th></th>\n",
       "      <th>C</th>\n",
       "      <th>E</th>\n",
       "    </tr>\n",
       "  </thead>\n",
       "  <tbody>\n",
       "    <tr>\n",
       "      <th>0</th>\n",
       "      <td>4.5</td>\n",
       "      <td>0.10</td>\n",
       "    </tr>\n",
       "    <tr>\n",
       "      <th>1</th>\n",
       "      <td>5.5</td>\n",
       "      <td>0.40</td>\n",
       "    </tr>\n",
       "    <tr>\n",
       "      <th>2</th>\n",
       "      <td>6.5</td>\n",
       "      <td>0.35</td>\n",
       "    </tr>\n",
       "    <tr>\n",
       "      <th>3</th>\n",
       "      <td>5.5</td>\n",
       "      <td>0.80</td>\n",
       "    </tr>\n",
       "    <tr>\n",
       "      <th>4</th>\n",
       "      <td>6.5</td>\n",
       "      <td>0.50</td>\n",
       "    </tr>\n",
       "  </tbody>\n",
       "</table>\n",
       "</div>"
      ],
      "text/plain": [
       "     C     E\n",
       "0  4.5  0.10\n",
       "1  5.5  0.40\n",
       "2  6.5  0.35\n",
       "3  5.5  0.80\n",
       "4  6.5  0.50"
      ]
     },
     "metadata": {},
     "output_type": "display_data"
    },
    {
     "data": {
      "text/markdown": [
       "#### Testing select_variables_by_metrics() with filter dataframe for entropy >= 0.9"
      ],
      "text/plain": [
       "<IPython.core.display.Markdown object>"
      ]
     },
     "metadata": {},
     "output_type": "display_data"
    },
    {
     "data": {
      "text/html": [
       "<div>\n",
       "<style scoped>\n",
       "    .dataframe tbody tr th:only-of-type {\n",
       "        vertical-align: middle;\n",
       "    }\n",
       "\n",
       "    .dataframe tbody tr th {\n",
       "        vertical-align: top;\n",
       "    }\n",
       "\n",
       "    .dataframe thead th {\n",
       "        text-align: right;\n",
       "    }\n",
       "</style>\n",
       "<table border=\"1\" class=\"dataframe\">\n",
       "  <thead>\n",
       "    <tr style=\"text-align: right;\">\n",
       "      <th></th>\n",
       "      <th>D</th>\n",
       "      <th>A</th>\n",
       "      <th>B</th>\n",
       "    </tr>\n",
       "  </thead>\n",
       "  <tbody>\n",
       "    <tr>\n",
       "      <th>0</th>\n",
       "      <td>a</td>\n",
       "      <td>1</td>\n",
       "      <td>True</td>\n",
       "    </tr>\n",
       "    <tr>\n",
       "      <th>1</th>\n",
       "      <td>a</td>\n",
       "      <td>1</td>\n",
       "      <td>True</td>\n",
       "    </tr>\n",
       "    <tr>\n",
       "      <th>2</th>\n",
       "      <td>a</td>\n",
       "      <td>1</td>\n",
       "      <td>True</td>\n",
       "    </tr>\n",
       "    <tr>\n",
       "      <th>3</th>\n",
       "      <td>c</td>\n",
       "      <td>3</td>\n",
       "      <td>False</td>\n",
       "    </tr>\n",
       "    <tr>\n",
       "      <th>4</th>\n",
       "      <td>c</td>\n",
       "      <td>3</td>\n",
       "      <td>False</td>\n",
       "    </tr>\n",
       "  </tbody>\n",
       "</table>\n",
       "</div>"
      ],
      "text/plain": [
       "   D  A      B\n",
       "0  a  1   True\n",
       "1  a  1   True\n",
       "2  a  1   True\n",
       "3  c  3  False\n",
       "4  c  3  False"
      ]
     },
     "metadata": {},
     "output_type": "display_data"
    }
   ],
   "source": [
    "display(Markdown(f\"#### Standard mixed dataframe with metrics\"))\n",
    "display(sp.dataset_metrics_summary(sp.std_mixed_df, append_input=True))\n",
    "\n",
    "test = 'filter dataframe for variance <= 0.71'\n",
    "fcn = 'select_variables_by_metrics'\n",
    "display(Markdown(f\"#### Testing {fcn}() with {test}\"))\n",
    "rules = [('variance', '<=', 0.71)]\n",
    "display(sp.select_variables_by_metrics(sp.std_mixed_df, rules))\n",
    "\n",
    "test = 'filter dataframe for entropy >= 0.9'\n",
    "fcn = 'select_variables_by_metrics'\n",
    "display(Markdown(f\"#### Testing {fcn}() with {test}\"))\n",
    "rules = [('entropy', '>=', 0.9)]\n",
    "display(sp.select_variables_by_metrics(sp.std_mixed_df, rules))"
   ]
  },
  {
   "cell_type": "markdown",
   "metadata": {},
   "source": [
    "### Calculation of the correlation/mutual information\n",
    "\n",
    "*Cálculo de la correlación (información mutua en el caso de variables categóricas) por pares entre variables de un dataset. La función deberá considerar de que tipo es cada variable*"
   ]
  },
  {
   "cell_type": "code",
   "execution_count": 24,
   "metadata": {},
   "outputs": [
    {
     "data": {
      "text/markdown": [
       "#### Testing correlation() with vectors from corr_m0p685_df known to have correlation=-0.6847868"
      ],
      "text/plain": [
       "<IPython.core.display.Markdown object>"
      ]
     },
     "metadata": {},
     "output_type": "display_data"
    },
    {
     "name": "stdout",
     "output_type": "stream",
     "text": [
      "  x: [8 3 5 7 1 2 6 7 4 9] \n",
      "  y: [2.  2.  1.5 1.  2.5 3.  1.5 2.  2.  1.5] \n",
      "\n",
      "    correlation: -0.684787\n"
     ]
    },
    {
     "data": {
      "text/markdown": [
       "#### Testing correlation() with identical vectors"
      ],
      "text/plain": [
       "<IPython.core.display.Markdown object>"
      ]
     },
     "metadata": {},
     "output_type": "display_data"
    },
    {
     "name": "stdout",
     "output_type": "stream",
     "text": [
      "  x: [8 3 5 7 1 2 6 7 4 9] \n",
      "  y: [8 3 5 7 1 2 6 7 4 9] \n",
      "\n",
      "    correlation: 1.000000\n"
     ]
    }
   ],
   "source": [
    "test = 'vectors from corr_m0p685_df known to have correlation=-0.6847868' \n",
    "fcn = 'correlation'\n",
    "display(Markdown(f\"#### Testing {fcn}() with {test}\"))\n",
    "x = sp.corr_m0p685_df['x'].to_numpy()\n",
    "y = sp.corr_m0p685_df['y'].to_numpy()\n",
    "print(f'  x: {x} \\n  y: {y} \\n')\n",
    "print(f'    {fcn}: {sp.correlation(x, y):0.6f}')\n",
    "\n",
    "test = 'identical vectors'; fcn = 'correlation'; \n",
    "display(Markdown(f\"#### Testing {fcn}() with {test}\"))\n",
    "x = sp.corr_m0p685_df['x'].to_numpy()\n",
    "y = sp.corr_m0p685_df['x'].to_numpy()\n",
    "print(f'  x: {x} \\n  y: {y} \\n')\n",
    "print(f'    {fcn}: {sp.correlation(x, y):0.6f}')"
   ]
  },
  {
   "cell_type": "code",
   "execution_count": 25,
   "metadata": {},
   "outputs": [
    {
     "data": {
      "text/markdown": [
       "#### Testing mutual_information() with vectors from np.array()"
      ],
      "text/plain": [
       "<IPython.core.display.Markdown object>"
      ]
     },
     "metadata": {},
     "output_type": "display_data"
    },
    {
     "name": "stdout",
     "output_type": "stream",
     "text": [
      "  x: ['Red' 'Blue' 'Green' 'Red' 'Blue'] \n",
      "  y: ['Circle' 'Square' 'Triangle' 'Square' 'Circle'] \n",
      "\n",
      "    mutual_information: 0.500402\n"
     ]
    },
    {
     "data": {
      "text/markdown": [
       "#### Testing mutual_information() with the same vectors from a dataframe"
      ],
      "text/plain": [
       "<IPython.core.display.Markdown object>"
      ]
     },
     "metadata": {},
     "output_type": "display_data"
    },
    {
     "name": "stdout",
     "output_type": "stream",
     "text": [
      "    mutual_information: 0.500402\n"
     ]
    },
    {
     "data": {
      "text/markdown": [
       "#### Testing mutual_information() with longer vectors from np.array()"
      ],
      "text/plain": [
       "<IPython.core.display.Markdown object>"
      ]
     },
     "metadata": {},
     "output_type": "display_data"
    },
    {
     "name": "stdout",
     "output_type": "stream",
     "text": [
      "  x: ['A' 'B' 'A' 'A' 'B' 'B' 'A' 'A' 'B' 'B'] \n",
      "  y: ['X' 'X' 'X' 'Y' 'Z' 'Z' 'Y' 'Y' 'Z' 'Z'] \n",
      "\n",
      "    mutual_information: 0.502193\n"
     ]
    },
    {
     "data": {
      "text/markdown": [
       "#### Testing mutual_information() with identical inputs from np.array()"
      ],
      "text/plain": [
       "<IPython.core.display.Markdown object>"
      ]
     },
     "metadata": {},
     "output_type": "display_data"
    },
    {
     "name": "stdout",
     "output_type": "stream",
     "text": [
      "  x: ['A' 'B' 'A' 'A' 'B' 'B' 'A' 'A' 'B' 'B'] \n",
      "  y: ['A' 'B' 'A' 'A' 'B' 'B' 'A' 'A' 'B' 'B'] \n",
      "\n",
      "    mutual_information: 0.693147\n"
     ]
    },
    {
     "data": {
      "text/markdown": [
       "#### Testing mutual_information() with example data from the HMS Titanic disaster"
      ],
      "text/plain": [
       "<IPython.core.display.Markdown object>"
      ]
     },
     "metadata": {},
     "output_type": "display_data"
    },
    {
     "name": "stdout",
     "output_type": "stream",
     "text": [
      "    mutual_information: 0.139673\n"
     ]
    },
    {
     "data": {
      "text/html": [
       "<div>\n",
       "<style scoped>\n",
       "    .dataframe tbody tr th:only-of-type {\n",
       "        vertical-align: middle;\n",
       "    }\n",
       "\n",
       "    .dataframe tbody tr th {\n",
       "        vertical-align: top;\n",
       "    }\n",
       "\n",
       "    .dataframe thead th {\n",
       "        text-align: right;\n",
       "    }\n",
       "</style>\n",
       "<table border=\"1\" class=\"dataframe\">\n",
       "  <thead>\n",
       "    <tr style=\"text-align: right;\">\n",
       "      <th></th>\n",
       "      <th>Sex</th>\n",
       "      <th>Condition</th>\n",
       "    </tr>\n",
       "  </thead>\n",
       "  <tbody>\n",
       "    <tr>\n",
       "      <th>0</th>\n",
       "      <td>Female</td>\n",
       "      <td>Survived</td>\n",
       "    </tr>\n",
       "    <tr>\n",
       "      <th>1</th>\n",
       "      <td>Female</td>\n",
       "      <td>Survived</td>\n",
       "    </tr>\n",
       "    <tr>\n",
       "      <th>2</th>\n",
       "      <td>Male</td>\n",
       "      <td>Deceased</td>\n",
       "    </tr>\n",
       "    <tr>\n",
       "      <th>3</th>\n",
       "      <td>Male</td>\n",
       "      <td>Deceased</td>\n",
       "    </tr>\n",
       "    <tr>\n",
       "      <th>4</th>\n",
       "      <td>Male</td>\n",
       "      <td>Deceased</td>\n",
       "    </tr>\n",
       "    <tr>\n",
       "      <th>...</th>\n",
       "      <td>...</td>\n",
       "      <td>...</td>\n",
       "    </tr>\n",
       "    <tr>\n",
       "      <th>909</th>\n",
       "      <td>Male</td>\n",
       "      <td>Survived</td>\n",
       "    </tr>\n",
       "    <tr>\n",
       "      <th>910</th>\n",
       "      <td>Male</td>\n",
       "      <td>Survived</td>\n",
       "    </tr>\n",
       "    <tr>\n",
       "      <th>911</th>\n",
       "      <td>Male</td>\n",
       "      <td>Deceased</td>\n",
       "    </tr>\n",
       "    <tr>\n",
       "      <th>912</th>\n",
       "      <td>Male</td>\n",
       "      <td>Deceased</td>\n",
       "    </tr>\n",
       "    <tr>\n",
       "      <th>913</th>\n",
       "      <td>Male</td>\n",
       "      <td>Deceased</td>\n",
       "    </tr>\n",
       "  </tbody>\n",
       "</table>\n",
       "<p>914 rows × 2 columns</p>\n",
       "</div>"
      ],
      "text/plain": [
       "        Sex Condition\n",
       "0    Female  Survived\n",
       "1    Female  Survived\n",
       "2      Male  Deceased\n",
       "3      Male  Deceased\n",
       "4      Male  Deceased\n",
       "..      ...       ...\n",
       "909    Male  Survived\n",
       "910    Male  Survived\n",
       "911    Male  Deceased\n",
       "912    Male  Deceased\n",
       "913    Male  Deceased\n",
       "\n",
       "[914 rows x 2 columns]"
      ]
     },
     "metadata": {},
     "output_type": "display_data"
    }
   ],
   "source": [
    "test = 'vectors from np.array()'; fcn = 'mutual_information'; \n",
    "display(Markdown(f\"#### Testing {fcn}() with {test}\"))\n",
    "x = np.array(['Red', 'Blue', 'Green', 'Red', 'Blue'])\n",
    "y = np.array(['Circle', 'Square', 'Triangle', 'Square', 'Circle'])\n",
    "print(f'  x: {x} \\n  y: {y} \\n')\n",
    "print(f'    {fcn}: {sp.mutual_information(x, y):0.6f}')\n",
    "\n",
    "test = 'the same vectors from a dataframe'; fcn = 'mutual_information'; \n",
    "display(Markdown(f\"#### Testing {fcn}() with {test}\"))\n",
    "df = pd.DataFrame({\n",
    "    'colors': ['Red', 'Blue', 'Green', 'Red', 'Blue'],\n",
    "    'shapes': ['Circle', 'Square', 'Triangle', 'Square', 'Circle'],\n",
    "})\n",
    "print(f'    {fcn}: {sp.mutual_information(df.colors, df.shapes):0.6f}')\n",
    "\n",
    "test = 'longer vectors from np.array()'; fcn = 'mutual_information'; \n",
    "display(Markdown(f\"#### Testing {fcn}() with {test}\"))\n",
    "x = np.array(['A', 'B', 'A', 'A', 'B', 'B', 'A', 'A', 'B', 'B'])\n",
    "y = np.array(['X', 'X', 'X', 'Y', 'Z', 'Z', 'Y', 'Y', 'Z', 'Z'])\n",
    "print(f'  x: {x} \\n  y: {y} \\n')\n",
    "print(f'    {fcn}: {sp.mutual_information(x, y):0.6f}')\n",
    "\n",
    "test = 'identical inputs from np.array()'; fcn = 'mutual_information'; \n",
    "display(Markdown(f\"#### Testing {fcn}() with {test}\"))\n",
    "x = np.array(['A', 'B', 'A', 'A', 'B', 'B', 'A', 'A', 'B', 'B'])\n",
    "y = np.array(['A', 'B', 'A', 'A', 'B', 'B', 'A', 'A', 'B', 'B'])\n",
    "print(f'  x: {x} \\n  y: {y} \\n')\n",
    "print(f'    {fcn}: {sp.mutual_information(x, y):0.6f}')\n",
    "\n",
    "test = 'example data from the HMS Titanic disaster'; \n",
    "fcn = 'mutual_information'; \n",
    "display(Markdown(f\"#### Testing {fcn}() with {test}\"))\n",
    "titanic_mutinfo=sp.mutual_information(sp.titanic_df.Sex,sp.titanic_df.Condition)\n",
    "print(f'    {fcn}: {titanic_mutinfo:0.6f}')\n",
    "display(sp.titanic_df)\n"
   ]
  },
  {
   "cell_type": "code",
   "execution_count": 26,
   "metadata": {},
   "outputs": [
    {
     "data": {
      "text/markdown": [
       "#### Testing column_relationships() with example data from the HMS Titanic disaster as dataframe"
      ],
      "text/plain": [
       "<IPython.core.display.Markdown object>"
      ]
     },
     "metadata": {},
     "output_type": "display_data"
    },
    {
     "data": {
      "text/html": [
       "<div>\n",
       "<style scoped>\n",
       "    .dataframe tbody tr th:only-of-type {\n",
       "        vertical-align: middle;\n",
       "    }\n",
       "\n",
       "    .dataframe tbody tr th {\n",
       "        vertical-align: top;\n",
       "    }\n",
       "\n",
       "    .dataframe thead th {\n",
       "        text-align: right;\n",
       "    }\n",
       "</style>\n",
       "<table border=\"1\" class=\"dataframe\">\n",
       "  <thead>\n",
       "    <tr style=\"text-align: right;\">\n",
       "      <th></th>\n",
       "      <th>Sex</th>\n",
       "      <th>Condition</th>\n",
       "    </tr>\n",
       "  </thead>\n",
       "  <tbody>\n",
       "    <tr>\n",
       "      <th>0</th>\n",
       "      <td>Female</td>\n",
       "      <td>Survived</td>\n",
       "    </tr>\n",
       "    <tr>\n",
       "      <th>1</th>\n",
       "      <td>Female</td>\n",
       "      <td>Survived</td>\n",
       "    </tr>\n",
       "    <tr>\n",
       "      <th>2</th>\n",
       "      <td>Male</td>\n",
       "      <td>Deceased</td>\n",
       "    </tr>\n",
       "    <tr>\n",
       "      <th>3</th>\n",
       "      <td>Male</td>\n",
       "      <td>Deceased</td>\n",
       "    </tr>\n",
       "    <tr>\n",
       "      <th>4</th>\n",
       "      <td>Male</td>\n",
       "      <td>Deceased</td>\n",
       "    </tr>\n",
       "    <tr>\n",
       "      <th>...</th>\n",
       "      <td>...</td>\n",
       "      <td>...</td>\n",
       "    </tr>\n",
       "    <tr>\n",
       "      <th>909</th>\n",
       "      <td>Male</td>\n",
       "      <td>Survived</td>\n",
       "    </tr>\n",
       "    <tr>\n",
       "      <th>910</th>\n",
       "      <td>Male</td>\n",
       "      <td>Survived</td>\n",
       "    </tr>\n",
       "    <tr>\n",
       "      <th>911</th>\n",
       "      <td>Male</td>\n",
       "      <td>Deceased</td>\n",
       "    </tr>\n",
       "    <tr>\n",
       "      <th>912</th>\n",
       "      <td>Male</td>\n",
       "      <td>Deceased</td>\n",
       "    </tr>\n",
       "    <tr>\n",
       "      <th>913</th>\n",
       "      <td>Male</td>\n",
       "      <td>Deceased</td>\n",
       "    </tr>\n",
       "  </tbody>\n",
       "</table>\n",
       "<p>914 rows × 2 columns</p>\n",
       "</div>"
      ],
      "text/plain": [
       "        Sex Condition\n",
       "0    Female  Survived\n",
       "1    Female  Survived\n",
       "2      Male  Deceased\n",
       "3      Male  Deceased\n",
       "4      Male  Deceased\n",
       "..      ...       ...\n",
       "909    Male  Survived\n",
       "910    Male  Survived\n",
       "911    Male  Deceased\n",
       "912    Male  Deceased\n",
       "913    Male  Deceased\n",
       "\n",
       "[914 rows x 2 columns]"
      ]
     },
     "metadata": {},
     "output_type": "display_data"
    },
    {
     "data": {
      "text/markdown": [
       "##### Correlation between numeric variables"
      ],
      "text/plain": [
       "<IPython.core.display.Markdown object>"
      ]
     },
     "metadata": {},
     "output_type": "display_data"
    },
    {
     "data": {
      "text/html": [
       "<div>\n",
       "<style scoped>\n",
       "    .dataframe tbody tr th:only-of-type {\n",
       "        vertical-align: middle;\n",
       "    }\n",
       "\n",
       "    .dataframe tbody tr th {\n",
       "        vertical-align: top;\n",
       "    }\n",
       "\n",
       "    .dataframe thead th {\n",
       "        text-align: right;\n",
       "    }\n",
       "</style>\n",
       "<table border=\"1\" class=\"dataframe\">\n",
       "  <thead>\n",
       "    <tr style=\"text-align: right;\">\n",
       "      <th></th>\n",
       "    </tr>\n",
       "  </thead>\n",
       "  <tbody>\n",
       "  </tbody>\n",
       "</table>\n",
       "</div>"
      ],
      "text/plain": [
       "Empty DataFrame\n",
       "Columns: []\n",
       "Index: []"
      ]
     },
     "metadata": {},
     "output_type": "display_data"
    },
    {
     "data": {
      "text/markdown": [
       "##### Mutual information between categorical variables"
      ],
      "text/plain": [
       "<IPython.core.display.Markdown object>"
      ]
     },
     "metadata": {},
     "output_type": "display_data"
    },
    {
     "data": {
      "text/html": [
       "<div>\n",
       "<style scoped>\n",
       "    .dataframe tbody tr th:only-of-type {\n",
       "        vertical-align: middle;\n",
       "    }\n",
       "\n",
       "    .dataframe tbody tr th {\n",
       "        vertical-align: top;\n",
       "    }\n",
       "\n",
       "    .dataframe thead th {\n",
       "        text-align: right;\n",
       "    }\n",
       "</style>\n",
       "<table border=\"1\" class=\"dataframe\">\n",
       "  <thead>\n",
       "    <tr style=\"text-align: right;\">\n",
       "      <th></th>\n",
       "      <th>Sex</th>\n",
       "      <th>Condition</th>\n",
       "    </tr>\n",
       "  </thead>\n",
       "  <tbody>\n",
       "    <tr>\n",
       "      <th>Sex</th>\n",
       "      <td>0.646835</td>\n",
       "      <td>0.139673</td>\n",
       "    </tr>\n",
       "    <tr>\n",
       "      <th>Condition</th>\n",
       "      <td>0.139673</td>\n",
       "      <td>0.661143</td>\n",
       "    </tr>\n",
       "  </tbody>\n",
       "</table>\n",
       "</div>"
      ],
      "text/plain": [
       "                Sex Condition\n",
       "Sex        0.646835  0.139673\n",
       "Condition  0.139673  0.661143"
      ]
     },
     "metadata": {},
     "output_type": "display_data"
    },
    {
     "data": {
      "text/markdown": [
       "#### Testing column_relationships() with standard mixed dataframe"
      ],
      "text/plain": [
       "<IPython.core.display.Markdown object>"
      ]
     },
     "metadata": {},
     "output_type": "display_data"
    },
    {
     "data": {
      "text/html": [
       "<div>\n",
       "<style scoped>\n",
       "    .dataframe tbody tr th:only-of-type {\n",
       "        vertical-align: middle;\n",
       "    }\n",
       "\n",
       "    .dataframe tbody tr th {\n",
       "        vertical-align: top;\n",
       "    }\n",
       "\n",
       "    .dataframe thead th {\n",
       "        text-align: right;\n",
       "    }\n",
       "</style>\n",
       "<table border=\"1\" class=\"dataframe\">\n",
       "  <thead>\n",
       "    <tr style=\"text-align: right;\">\n",
       "      <th></th>\n",
       "      <th>A</th>\n",
       "      <th>B</th>\n",
       "      <th>C</th>\n",
       "      <th>D</th>\n",
       "      <th>E</th>\n",
       "      <th>F</th>\n",
       "      <th>G</th>\n",
       "    </tr>\n",
       "  </thead>\n",
       "  <tbody>\n",
       "    <tr>\n",
       "      <th>0</th>\n",
       "      <td>1</td>\n",
       "      <td>True</td>\n",
       "      <td>4.5</td>\n",
       "      <td>a</td>\n",
       "      <td>0.10</td>\n",
       "      <td>False</td>\n",
       "      <td>4.5</td>\n",
       "    </tr>\n",
       "    <tr>\n",
       "      <th>1</th>\n",
       "      <td>1</td>\n",
       "      <td>True</td>\n",
       "      <td>5.5</td>\n",
       "      <td>a</td>\n",
       "      <td>0.40</td>\n",
       "      <td>True</td>\n",
       "      <td>5.5</td>\n",
       "    </tr>\n",
       "    <tr>\n",
       "      <th>2</th>\n",
       "      <td>1</td>\n",
       "      <td>True</td>\n",
       "      <td>6.5</td>\n",
       "      <td>a</td>\n",
       "      <td>0.35</td>\n",
       "      <td>False</td>\n",
       "      <td>6.5</td>\n",
       "    </tr>\n",
       "    <tr>\n",
       "      <th>3</th>\n",
       "      <td>3</td>\n",
       "      <td>False</td>\n",
       "      <td>5.5</td>\n",
       "      <td>c</td>\n",
       "      <td>0.80</td>\n",
       "      <td>True</td>\n",
       "      <td>6.5</td>\n",
       "    </tr>\n",
       "    <tr>\n",
       "      <th>4</th>\n",
       "      <td>3</td>\n",
       "      <td>False</td>\n",
       "      <td>6.5</td>\n",
       "      <td>c</td>\n",
       "      <td>0.50</td>\n",
       "      <td>True</td>\n",
       "      <td>6.5</td>\n",
       "    </tr>\n",
       "  </tbody>\n",
       "</table>\n",
       "</div>"
      ],
      "text/plain": [
       "   A      B    C  D     E      F    G\n",
       "0  1   True  4.5  a  0.10  False  4.5\n",
       "1  1   True  5.5  a  0.40   True  5.5\n",
       "2  1   True  6.5  a  0.35  False  6.5\n",
       "3  3  False  5.5  c  0.80   True  6.5\n",
       "4  3  False  6.5  c  0.50   True  6.5"
      ]
     },
     "metadata": {},
     "output_type": "display_data"
    },
    {
     "data": {
      "text/markdown": [
       "##### Correlation between numeric variables"
      ],
      "text/plain": [
       "<IPython.core.display.Markdown object>"
      ]
     },
     "metadata": {},
     "output_type": "display_data"
    },
    {
     "data": {
      "text/html": [
       "<div>\n",
       "<style scoped>\n",
       "    .dataframe tbody tr th:only-of-type {\n",
       "        vertical-align: middle;\n",
       "    }\n",
       "\n",
       "    .dataframe tbody tr th {\n",
       "        vertical-align: top;\n",
       "    }\n",
       "\n",
       "    .dataframe thead th {\n",
       "        text-align: right;\n",
       "    }\n",
       "</style>\n",
       "<table border=\"1\" class=\"dataframe\">\n",
       "  <thead>\n",
       "    <tr style=\"text-align: right;\">\n",
       "      <th></th>\n",
       "      <th>C</th>\n",
       "      <th>E</th>\n",
       "      <th>G</th>\n",
       "    </tr>\n",
       "  </thead>\n",
       "  <tbody>\n",
       "    <tr>\n",
       "      <th>C</th>\n",
       "      <td>1</td>\n",
       "      <td>0.376497</td>\n",
       "      <td>0.868599</td>\n",
       "    </tr>\n",
       "    <tr>\n",
       "      <th>E</th>\n",
       "      <td>0.376497</td>\n",
       "      <td>1</td>\n",
       "      <td>0.759389</td>\n",
       "    </tr>\n",
       "    <tr>\n",
       "      <th>G</th>\n",
       "      <td>0.868599</td>\n",
       "      <td>0.759389</td>\n",
       "      <td>1</td>\n",
       "    </tr>\n",
       "  </tbody>\n",
       "</table>\n",
       "</div>"
      ],
      "text/plain": [
       "          C         E         G\n",
       "C         1  0.376497  0.868599\n",
       "E  0.376497         1  0.759389\n",
       "G  0.868599  0.759389         1"
      ]
     },
     "metadata": {},
     "output_type": "display_data"
    },
    {
     "data": {
      "text/markdown": [
       "##### Mutual information between categorical variables"
      ],
      "text/plain": [
       "<IPython.core.display.Markdown object>"
      ]
     },
     "metadata": {},
     "output_type": "display_data"
    },
    {
     "data": {
      "text/html": [
       "<div>\n",
       "<style scoped>\n",
       "    .dataframe tbody tr th:only-of-type {\n",
       "        vertical-align: middle;\n",
       "    }\n",
       "\n",
       "    .dataframe tbody tr th {\n",
       "        vertical-align: top;\n",
       "    }\n",
       "\n",
       "    .dataframe thead th {\n",
       "        text-align: right;\n",
       "    }\n",
       "</style>\n",
       "<table border=\"1\" class=\"dataframe\">\n",
       "  <thead>\n",
       "    <tr style=\"text-align: right;\">\n",
       "      <th></th>\n",
       "      <th>A</th>\n",
       "      <th>B</th>\n",
       "      <th>D</th>\n",
       "      <th>F</th>\n",
       "    </tr>\n",
       "  </thead>\n",
       "  <tbody>\n",
       "    <tr>\n",
       "      <th>A</th>\n",
       "      <td>0.673012</td>\n",
       "      <td>0.673012</td>\n",
       "      <td>0.673012</td>\n",
       "      <td>0.291103</td>\n",
       "    </tr>\n",
       "    <tr>\n",
       "      <th>B</th>\n",
       "      <td>0.673012</td>\n",
       "      <td>0.673012</td>\n",
       "      <td>0.673012</td>\n",
       "      <td>0.291103</td>\n",
       "    </tr>\n",
       "    <tr>\n",
       "      <th>D</th>\n",
       "      <td>0.673012</td>\n",
       "      <td>0.673012</td>\n",
       "      <td>0.673012</td>\n",
       "      <td>0.291103</td>\n",
       "    </tr>\n",
       "    <tr>\n",
       "      <th>F</th>\n",
       "      <td>0.291103</td>\n",
       "      <td>0.291103</td>\n",
       "      <td>0.291103</td>\n",
       "      <td>0.673012</td>\n",
       "    </tr>\n",
       "  </tbody>\n",
       "</table>\n",
       "</div>"
      ],
      "text/plain": [
       "          A         B         D         F\n",
       "A  0.673012  0.673012  0.673012  0.291103\n",
       "B  0.673012  0.673012  0.673012  0.291103\n",
       "D  0.673012  0.673012  0.673012  0.291103\n",
       "F  0.291103  0.291103  0.291103  0.673012"
      ]
     },
     "metadata": {},
     "output_type": "display_data"
    }
   ],
   "source": [
    "test = 'example data from the HMS Titanic disaster as dataframe'; \n",
    "fcn = 'column_relationships'; \n",
    "display(Markdown(f\"#### Testing {fcn}() with {test}\"))\n",
    "display(sp.titanic_df)\n",
    "correlation_df, mutual_information_df = sp.column_relationships(sp.titanic_df)\n",
    "display(Markdown(f\"##### Correlation between numeric variables\"))\n",
    "display(correlation_df)\n",
    "display(Markdown(f\"##### Mutual information between categorical variables\"))\n",
    "display(mutual_information_df)\n",
    "\n",
    "test = 'standard mixed dataframe'; \n",
    "fcn = 'column_relationships'; \n",
    "display(Markdown(f\"#### Testing {fcn}() with {test}\"))\n",
    "display(sp.std_mixed_df)\n",
    "correlation_df,mutual_information_df = sp.column_relationships(sp.std_mixed_df)\n",
    "display(Markdown(f\"##### Correlation between numeric variables\"))\n",
    "display(correlation_df)\n",
    "display(Markdown(f\"##### Mutual information between categorical variables\"))\n",
    "display(mutual_information_df)\n"
   ]
  },
  {
   "cell_type": "markdown",
   "metadata": {},
   "source": [
    "### Plots for the AUC and correlation/mutual information matrices\n",
    "\n",
    "*Plots para el AUC y para las matrices de correlación/información mutua.*\n"
   ]
  },
  {
   "cell_type": "code",
   "execution_count": 27,
   "metadata": {},
   "outputs": [
    {
     "data": {
      "text/markdown": [
       "#### Testing plot_roc_auc() with ROC AUC curve, auc_1p0_df dataset"
      ],
      "text/plain": [
       "<IPython.core.display.Markdown object>"
      ]
     },
     "metadata": {},
     "output_type": "display_data"
    },
    {
     "data": {
      "image/png": "[encoded data removed]",
      "text/plain": [
       "<Figure size 640x480 with 1 Axes>"
      ]
     },
     "metadata": {},
     "output_type": "display_data"
    },
    {
     "data": {
      "text/markdown": [
       "#### Testing plot_roc_auc() with ROC AUC curve, auc_0p75_df dataset"
      ],
      "text/plain": [
       "<IPython.core.display.Markdown object>"
      ]
     },
     "metadata": {},
     "output_type": "display_data"
    },
    {
     "data": {
      "image/png": "[encoded data removed]",
      "text/plain": [
       "<Figure size 640x480 with 1 Axes>"
      ]
     },
     "metadata": {},
     "output_type": "display_data"
    }
   ],
   "source": [
    "test = 'ROC AUC curve, auc_1p0_df dataset'; \n",
    "fcn = 'plot_roc_auc'; \n",
    "display(Markdown(f\"#### Testing {fcn}() with {test}\"))\n",
    "ROC_fpr, ROC_tpr, AUC = sp.calculate_roc_auc(sp.auc_1p0_df)\n",
    "sp.plot_roc_auc(ROC_fpr, ROC_tpr, AUC)\n",
    "\n",
    "test = 'ROC AUC curve, auc_0p75_df dataset'; \n",
    "fcn = 'plot_roc_auc'; \n",
    "display(Markdown(f\"#### Testing {fcn}() with {test}\"))\n",
    "ROC_fpr, ROC_tpr, AUC = sp.calculate_roc_auc(sp.auc_0p75_df)\n",
    "sp.plot_roc_auc(ROC_fpr, ROC_tpr, AUC)\n"
   ]
  },
  {
   "cell_type": "code",
   "execution_count": 28,
   "metadata": {},
   "outputs": [
    {
     "data": {
      "text/markdown": [
       "#### Testing plot_relationships() with dataset from the HMS Titanic"
      ],
      "text/plain": [
       "<IPython.core.display.Markdown object>"
      ]
     },
     "metadata": {},
     "output_type": "display_data"
    },
    {
     "data": {
      "image/png": "[encoded data removed]",
      "text/plain": [
       "<Figure size 800x600 with 2 Axes>"
      ]
     },
     "metadata": {},
     "output_type": "display_data"
    },
    {
     "data": {
      "text/markdown": [
       "#### Testing plot_relationships() with standard mixed df"
      ],
      "text/plain": [
       "<IPython.core.display.Markdown object>"
      ]
     },
     "metadata": {},
     "output_type": "display_data"
    },
    {
     "data": {
      "image/png": "[encoded data removed]",
      "text/plain": [
       "<Figure size 800x600 with 2 Axes>"
      ]
     },
     "metadata": {},
     "output_type": "display_data"
    },
    {
     "data": {
      "image/png": "[encoded data removed]",
      "text/plain": [
       "<Figure size 800x600 with 2 Axes>"
      ]
     },
     "metadata": {},
     "output_type": "display_data"
    }
   ],
   "source": [
    "test = 'dataset from the HMS Titanic'; \n",
    "fcn = 'plot_relationships'; \n",
    "display(Markdown(f\"#### Testing {fcn}() with {test}\"))\n",
    "\n",
    "correlation_df,mutual_information_df=sp.column_relationships(sp.titanic_df)\n",
    "sp.plot_relationships(mutual_information_df, \n",
    "                      title='Mutual information in the ' + test)\n",
    "\n",
    "test = 'standard mixed df'; \n",
    "fcn = 'plot_relationships'; \n",
    "display(Markdown(f\"#### Testing {fcn}() with {test}\"))\n",
    "\n",
    "correlation_df,mutual_information_df=sp.column_relationships(sp.std_mixed_df)\n",
    "sp.plot_relationships(correlation_df, \n",
    "                        title='Correlation, numerical vars, ' + test)\n",
    "sp.plot_relationships(mutual_information_df, \n",
    "                        title='Mutual information, categorical vars, ' + test)"
   ]
  }
 ],
 "metadata": {
  "kernelspec": {
   "display_name": "Python 3 (ipykernel)",
   "language": "python",
   "name": "python3"
  },
  "language_info": {
   "codemirror_mode": {
    "name": "ipython",
    "version": 3
   },
   "file_extension": ".py",
   "mimetype": "text/x-python",
   "name": "python",
   "nbconvert_exporter": "python",
   "pygments_lexer": "ipython3",
   "version": "3.13.0"
  }
 },
 "nbformat": 4,
 "nbformat_minor": 2
}
